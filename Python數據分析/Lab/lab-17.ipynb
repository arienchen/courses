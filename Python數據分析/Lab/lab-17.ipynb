{
 "cells": [
  {
   "cell_type": "markdown",
   "id": "1f3b805e-0341-4995-9119-dfeb5edfe437",
   "metadata": {},
   "source": [
    "# LAB-17 使用 Pandas 合併 CSV\n",
    "\n",
    "* 使用 glob.glob(*.csv) 讀取目錄下所有 CSV 檔\n",
    "* 使用 Pandas.read_csv() 讀取 CSV 檔為 DataFrame\n",
    "* 使用 Pandas.concat() 合併 DataFrame\n",
    "* 使用 DataFrame.to_csv() 儲存為 CSV 檔\n",
    "* 搭配 tqdm 顯示讀檔進程 "
   ]
  },
  {
   "cell_type": "code",
   "execution_count": null,
   "id": "281ecff4-1b51-4c80-a547-95fa1a53fdd3",
   "metadata": {},
   "outputs": [],
   "source": [
    "import os                                        # 作業系統及檔案\n",
    "import glob                                      # 目錄處理\n",
    "import pandas as pd                              # 讀取及寫入 CSV\n",
    "from tqdm.notebook import tqdm                   # 進度條 Progress bar"
   ]
  },
  {
   "cell_type": "code",
   "execution_count": null,
   "id": "76af5999-df51-44ee-a023-07217fc865ca",
   "metadata": {},
   "outputs": [],
   "source": [
    "\n",
    "def read_all_csv(dir_path):\n",
    "    \"\"\"\n",
    "    讀取指定目錄下的所有CSV檔案，回傳合併的 DataFrame\n",
    "    \"\"\"\n",
    "    \n",
    "    # 確保目錄路徑格式正確\n",
    "    dir_path = os.path.normpath(dir_path)\n",
    "    \n",
    "    # 獲取目錄下所有CSV檔案的路徑\n",
    "    files = glob.glob(os.path.join(dir_path, '*.csv'))\n",
    "    \n",
    "    if not files:\n",
    "        print(f\"警告: 在 {dir_path} 中沒有找到 CSV 檔案\")\n",
    "        return None\n",
    "    \n",
    "    # 創建一個空列表來存儲每個 CSV 的 DataFrame\n",
    "    # 每個元素是一個 CSV 檔的 DataFrame\n",
    "    df_all = []\n",
    "    \n",
    "    # 讀取每個CSV檔案\n",
    "    for f in tqdm(files, desc =\"讀取資料\"):\n",
    "        try:\n",
    "            df = pd.read_csv(f)\n",
    "            \n",
    "            # 添加文件名作為來源標識（可選）\n",
    "            df['資料檔'] = os.path.basename(f)\n",
    "            df_all.append(df)\n",
    "            # print(f\"已讀取: {f}\")\n",
    "        except Exception as e:\n",
    "            print(f\"讀取 {f} 時出錯 -> {e}\")\n",
    "    \n",
    "    if not df_all:\n",
    "        print(\"沒有成功讀取任何CSV檔案\")\n",
    "        return None\n",
    "    \n",
    "    # 合併所有 DataFrame\n",
    "    # 假設格式都已檢核一致\n",
    "    merged_df = pd.concat(df_all, ignore_index=True)\n",
    "    \n",
    "    return len(df_all), merged_df\n"
   ]
  },
  {
   "cell_type": "code",
   "execution_count": null,
   "id": "1151d3ff-087e-411e-9577-fec2abd9c218",
   "metadata": {},
   "outputs": [],
   "source": [
    "# 讀取目錄下的所有 CSV 並回傳 DataFrame \n",
    "#data_path = \"2024立法委員\"\n",
    "data_path = \"2024總統大選\"\n",
    "\n",
    "data_set_cnt, data = read_all_csv(data_path)\n",
    "\n",
    "# 若 data is None 為出錯\n",
    "# 因採人工執行，故未檢核回傳值\n"
   ]
  },
  {
   "cell_type": "code",
   "execution_count": null,
   "id": "34e21242-10d1-4ac6-afce-04fa6f37a40f",
   "metadata": {},
   "outputs": [],
   "source": [
    "\n",
    "# 顯示合併後的數據基本資訊\n",
    "print(\"\\n合併數據基本資訊:\")\n",
    "print(f\"檔案數：  \\t{data_set_cnt:10,d}\")\n",
    "print(f\"資料筆數：\\t{data.shape[0]:10,d}\")\n",
    "print(f\"欄位數：  \\t{data.shape[1]:10,d}\")\n",
    "print(f\"欄位名稱:{data.columns.tolist()}\")\n"
   ]
  },
  {
   "cell_type": "code",
   "execution_count": null,
   "id": "366d7624-f8c6-4b78-b1fb-ec3e1d6e3e8a",
   "metadata": {},
   "outputs": [],
   "source": [
    "data.info()"
   ]
  },
  {
   "cell_type": "code",
   "execution_count": null,
   "id": "743592f3-7b72-4c11-889a-28270fd5c029",
   "metadata": {},
   "outputs": [],
   "source": [
    "data.head(10)"
   ]
  },
  {
   "cell_type": "code",
   "execution_count": null,
   "id": "22143eb9-29d9-4012-a354-452f037cbf5a",
   "metadata": {},
   "outputs": [],
   "source": [
    "csvf = \"2024立法委員.csv\"\n",
    "#csvf = \"2024總統大選.csv\"\n",
    "\n",
    "data.to_csv(csvf, index=False, encoding='utf-8-sig')"
   ]
  },
  {
   "cell_type": "code",
   "execution_count": null,
   "id": "bb04539d-51f1-48cd-9a67-3810b94d0399",
   "metadata": {},
   "outputs": [],
   "source": []
  }
 ],
 "metadata": {
  "kernelspec": {
   "display_name": "Python 3 (ipykernel)",
   "language": "python",
   "name": "python3"
  },
  "language_info": {
   "codemirror_mode": {
    "name": "ipython",
    "version": 3
   },
   "file_extension": ".py",
   "mimetype": "text/x-python",
   "name": "python",
   "nbconvert_exporter": "python",
   "pygments_lexer": "ipython3",
   "version": "3.13.2"
  }
 },
 "nbformat": 4,
 "nbformat_minor": 5
}
