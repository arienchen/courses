{
 "cells": [
  {
   "cell_type": "markdown",
   "id": "e618d313-af9d-4904-92ca-96e38dfd2b57",
   "metadata": {},
   "source": [
    "# LAB-06 數值型別\n",
    "\n",
    "* 數值運算子，請參考 [ChatGPT](https://claude.ai/share/6c58ddad-1a79-4dae-a398-72773428faec)"
   ]
  },
  {
   "cell_type": "markdown",
   "id": "61cd8fe5-e9c8-427d-be95-731800601c6b",
   "metadata": {},
   "source": [
    "## 1.整數 `int`\n",
    "Python 的 `int` 沒有固定的範圍，它可以根據系統記憶體大小擴展，因此不像 C、Java 等語言有明確的 `int32` 或 `int64` 限制。"
   ]
  },
  {
   "cell_type": "code",
   "execution_count": null,
   "id": "5e2e9a3f-1ece-44d3-b8ec-d1d87ffd3096",
   "metadata": {},
   "outputs": [],
   "source": [
    "a = 10\n",
    "b = 20\n",
    "c = a + b                  # 整數運算\n",
    "print(c)                   # 30\n",
    "\n",
    "a = 1_234_567_890          # _ 便於檢視， Python 不處理，如 1_23_45678 不會報錯\n",
    "print(a)"
   ]
  },
  {
   "cell_type": "markdown",
   "id": "b62c0b84-ee3f-43b0-bd04-7821677282ff",
   "metadata": {},
   "source": [
    "## 2.浮點數 `float`\n",
    "Python `float` 基於 IEEE 754 雙精度浮點數（64-bit），可表示的範圍大約是：\n",
    "* 最小值：±2.2 × 10⁻³⁰⁸\n",
    "* 最大值：±1.8 × 10³⁰⁸\n",
    "* 精度：約 15-17 位小數"
   ]
  },
  {
   "cell_type": "code",
   "execution_count": null,
   "id": "76ee3f61-892a-4606-98c7-219b823d75c5",
   "metadata": {},
   "outputs": [],
   "source": [
    "x = 1.5\n",
    "y = 2.5\n",
    "z = x * y              # 浮點數運算\n",
    "print(z)               # 輸出 3.75"
   ]
  },
  {
   "cell_type": "code",
   "execution_count": null,
   "id": "16158acf-4f63-4aaf-8bc3-032850e0947f",
   "metadata": {},
   "outputs": [],
   "source": [
    "# int 與 float 運算，其結果為 float\n",
    "x = int(10)\n",
    "y = float(2)\n",
    "z = x + y\n",
    "\n",
    "type(z)"
   ]
  },
  {
   "cell_type": "markdown",
   "id": "a286fbbd-0afb-4e45-b471-2dd1dd9ce735",
   "metadata": {},
   "source": [
    "## 3.複數 `complex`\n",
    "Python 內建支援複數，格式為 `a + bj`，其中 `a` 是實部，`b` 是虛部，`j` 表示虛數單位。"
   ]
  },
  {
   "cell_type": "code",
   "execution_count": null,
   "id": "58de33c1-95d5-471a-9487-9117efe260c1",
   "metadata": {},
   "outputs": [],
   "source": [
    "c1 = 2 + 3j\n",
    "c2 = 1 - 5j\n",
    "c3 = c1 + c2               # 複數加法\n",
    "print(c3)                  # (3-2j)\n",
    "print(c1.real, c1.imag)    # 取得實部與虛部，輸出 2.0 3.0\n"
   ]
  },
  {
   "cell_type": "markdown",
   "id": "a5f3cc5d-ce3d-48c5-89f9-2f1e9bcdcc3c",
   "metadata": {},
   "source": [
    "## 4.布林值 `bool`\n",
    "* bool 只有兩個值：\n",
    "  + True（代表 1）\n",
    "  + False（代表 0）\n",
    "* bool 是 int 的子類別，可以與整數運算。"
   ]
  },
  {
   "cell_type": "code",
   "execution_count": null,
   "id": "11ca005d-ad39-4132-a2fc-2e757ad35dbc",
   "metadata": {},
   "outputs": [],
   "source": [
    "a = True\n",
    "b = False\n",
    "print(a + b)                     # True 相當於 1，False 相當於 0，輸出 1\n",
    "print(a * 5)                     # True * 5 = 5，輸出 5\n"
   ]
  },
  {
   "cell_type": "markdown",
   "id": "b2e87f14-7d41-4d7e-b686-7925883b8d7e",
   "metadata": {},
   "source": [
    "## 5.型別轉換"
   ]
  },
  {
   "cell_type": "code",
   "execution_count": null,
   "id": "2ceb8746-719c-423a-9431-4d7f148c2923",
   "metadata": {},
   "outputs": [],
   "source": [
    "print(int(3.14))       # 轉換為整數，輸出 3\n",
    "print(float(10))       # 轉換為浮點數，輸出 10.0\n",
    "print(complex(2, 3))   # 轉換為複數，輸出 (2+3j)\n",
    "print(bool(0))         # 轉換為布林值，輸出 False\n",
    "print(bool(100))       # 非零皆為 True，輸出 True\n"
   ]
  },
  {
   "cell_type": "code",
   "execution_count": null,
   "id": "97b7259a-4a63-4582-bd10-d9d62b86638f",
   "metadata": {},
   "outputs": [],
   "source": [
    "x = 1_234_567_890_000_000_000_000_000_000_000_000_000_000_000_000_000_000_000\n",
    "y = 56789\n",
    "print(x*y)                  # 支援長整數運算\n",
    "\n",
    "z = float(x)                # 值還屬於 float64 區間，不會報錯，但會有公差 \n",
    "print(z)\n",
    "print(f\"[{z:60.2f}]\")\n",
    "print(f\"[{x:60d}]\")\n",
    "print(f\"[{int(z):60d}]\")    # int(float(x)) != x \n",
    "print(x == z)"
   ]
  },
  {
   "cell_type": "code",
   "execution_count": null,
   "id": "7b0d7782-fb60-45cf-b98f-63ad76802768",
   "metadata": {},
   "outputs": [],
   "source": [
    "import sys\n",
    "\n",
    "print(sys.maxsize)                    # Maximum value of a Py_ssize_t (platform-dependent)\n",
    "print(f\"2 ** 1000 -> {2 ** 1000}\")    # Python can handle arbitrarily large integers\n",
    "print(f\"位數：{len(str(2 ** 1000))}\")"
   ]
  },
  {
   "cell_type": "code",
   "execution_count": null,
   "id": "80feae06-d11d-4f39-b266-e3d724d2f672",
   "metadata": {},
   "outputs": [],
   "source": []
  },
  {
   "cell_type": "markdown",
   "id": "bc5cb8e4-0f52-4c7c-b3cb-388a24259529",
   "metadata": {},
   "source": [
    "**以下內容轉換自 ChatGPT**\n",
    "******\n",
    "## `sys.maxsize` 的定義與用途\n",
    "\n",
    "### 1. 什麼是 `sys.maxsize`？\n",
    "\n",
    "在 Python 中，`sys.maxsize` 是 `sys` 模組中的一個屬性，它表示 Python `int` 型別在當前系統上所能表示的最大值。\n",
    "\n",
    "`sys.maxsize` 並不直接表示 Python 整數的上限，因為 Python 的 `int` 是可變長度的（arbitrary precision），但它通常代表底層 C 語言 `Py_ssize_t` 的最大值，也就是在 64 位元系統上，通常等於 `2**63 - 1`（即 `9223372036854775807`）。\n",
    "\n",
    "### 2. 如何使用 `sys.maxsize`\n",
    "\n",
    "使用 `sys.maxsize` 可以方便地獲取當前 Python 執行環境的整數大小限制，並在程式中進行適當的邏輯處理，例如限制資料結構的大小或作為一些函數的邊界條件。\n",
    "\n",
    "#### **示例程式**\n",
    "\n",
    "```python\n",
    "import sys\n",
    "\n",
    "print(\"系統最大整數大小:\", sys.maxsize)\n",
    "\n",
    "# 與 64 位元系統的理論最大值比較\n",
    "print(\"是否等於 2^63 - 1:\", sys.maxsize == 2**63 - 1)\n",
    "```\n",
    "\n",
    "### 3. `sys.maxsize` 的應用場景\n",
    "\n",
    "#### (1) 陣列或串列的最大長度\n",
    "\n",
    "在一些 C 擴充函式模組（如 NumPy）中，`sys.maxsize` 可用來界定列表或陣列的最大長度。\n",
    "\n",
    "#### (2) 遞迴深度控制\n",
    "\n",
    "在處理遞迴演算法時，通常可以使用 `sys.setrecursionlimit(sys.maxsize)` 來設定較高的遞迴深度（但實際可用深度仍受限於記憶體）。\n",
    "\n",
    "#### (3) 大數據處理與邏輯邊界\n",
    "\n",
    "在處理數據時，`sys.maxsize` 可用作邏輯邊界，例如設定迴圈的最大次數。\n",
    "\n",
    "### 4. 注意事項\n",
    "\n",
    "- `sys.maxsize` 取決於 Python 的編譯環境，對於 32 位元系統，該值通常為 `2**31 - 1`。\n",
    "- `sys.maxsize` 不能直接代表 Python 整數的極限，因為 Python `int` 是動態擴充的。\n",
    "- `sys.maxsize + 1` 並不會導致溢位（overflow），因為 Python 支援任意大整數運算。\n",
    "\n",
    "### 5. 相關資源\n",
    "\n",
    "- [Python 官方文件：sys 模組](https://docs.python.org/3/library/sys.html#sys.maxsize)\n",
    "\n",
    "\n",
    "\n"
   ]
  },
  {
   "cell_type": "code",
   "execution_count": null,
   "id": "63701293-4209-427a-972c-389b82a5eab5",
   "metadata": {},
   "outputs": [],
   "source": []
  }
 ],
 "metadata": {
  "kernelspec": {
   "display_name": "Python 3 (ipykernel)",
   "language": "python",
   "name": "python3"
  },
  "language_info": {
   "codemirror_mode": {
    "name": "ipython",
    "version": 3
   },
   "file_extension": ".py",
   "mimetype": "text/x-python",
   "name": "python",
   "nbconvert_exporter": "python",
   "pygments_lexer": "ipython3",
   "version": "3.13.2"
  }
 },
 "nbformat": 4,
 "nbformat_minor": 5
}
