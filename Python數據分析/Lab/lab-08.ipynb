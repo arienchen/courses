{
 "cells": [
  {
   "cell_type": "markdown",
   "id": "eaabf9a9-3e51-4c20-b6b6-ca82f9ca7a27",
   "metadata": {},
   "source": [
    "# LAB-08 集合 set\n",
    "在 Python 中，`set` 是一種無序且不重複的資料集合型別。它**不允許有重複**的元素，並且常常用來進行數學上的集合運算（例如聯集、交集、差集等）"
   ]
  },
  {
   "cell_type": "markdown",
   "id": "ff698458-934f-4f2c-95df-d21a6707d9d3",
   "metadata": {},
   "source": [
    "## 1.宣告\n",
    "注意：如果你使用 `{}` 來創建空集合，Python 會將其視為字典，因此在創建空集合時，必須使用 `set()` 函數。"
   ]
  },
  {
   "cell_type": "code",
   "execution_count": null,
   "id": "3fdc2c90-63ed-40f4-add8-772858de9f63",
   "metadata": {},
   "outputs": [],
   "source": [
    "my_set = set()\n",
    "print(my_set)                                # 輸出: set()\n",
    "\n",
    "my_set = {1, 2, 3, 4}\n",
    "print(my_set)                                # 輸出: {1, 2, 3, 4}\n",
    "\n",
    "my_set = {}\n",
    "type(my_set)                                 # dict  "
   ]
  },
  {
   "cell_type": "markdown",
   "id": "cf0ae823-349b-4262-8dfb-07266e1aa420",
   "metadata": {},
   "source": [
    "## 2.操作運算"
   ]
  },
  {
   "cell_type": "code",
   "execution_count": null,
   "id": "85a48559-a9d9-4574-83ff-a7fe296ad99b",
   "metadata": {},
   "outputs": [],
   "source": [
    "# 新增元素\n",
    "my_set = {1, 2, 3}\n",
    "my_set.add(4)\n",
    "print(my_set)                                # 輸出: {1, 2, 3, 4}\n"
   ]
  },
  {
   "cell_type": "code",
   "execution_count": null,
   "id": "2ca1073a-4903-41c2-af70-f2db197d3e3f",
   "metadata": {},
   "outputs": [],
   "source": [
    "# 刪除元素 remove() 與 discard() 功能相同\n",
    "my_set = {1, 2, 3, 4}\n",
    "my_set.remove(3)                             # 刪除 3，若元素不存在則會引發 KeyError\n",
    "print(my_set)                                # 輸出: {1, 2, 4}\n",
    "\n",
    "my_set.discard(5)                            # 刪除 5，不會引發錯誤，即使元素不存在\n",
    "print(my_set)                                # 輸出: {1, 2, 4}\n"
   ]
  },
  {
   "cell_type": "code",
   "execution_count": null,
   "id": "16e62c20-1644-46fe-931a-5220120c394e",
   "metadata": {},
   "outputs": [],
   "source": [
    "# 聯集 union() 或 |\n",
    "set1 = {1, 2, 3}\n",
    "set2 = {3, 4, 5}\n",
    "union_set = set1 | set2                      # 或使用 set1.union(set2)\n",
    "print(f\"{set1} | {set2} \\n= {union_set}\")     # 輸出: {1, 2, 3, 4, 5}\n"
   ]
  },
  {
   "cell_type": "code",
   "execution_count": null,
   "id": "04b4686a-f416-4881-94d9-ed2a3fbb401d",
   "metadata": {},
   "outputs": [],
   "source": [
    "# 交集 intersection() 或 & \n",
    "set1 = {1, 2, 3}\n",
    "set2 = {3, 4, 5}\n",
    "inter_set = set1 & set2                      # 或使用 set1.intersection(set2)\n",
    "print(f\"{set1} & {set2} \\n= {inter_set}\")    # 輸出: {3}\n"
   ]
  },
  {
   "cell_type": "code",
   "execution_count": null,
   "id": "c6f932de-fa82-4bd0-be60-103b733ba51f",
   "metadata": {},
   "outputs": [],
   "source": [
    "# 差集 difference() 或 -\n",
    "set1 = {1, 2, 3}\n",
    "set2 = {3, 4, 5}\n",
    "diff_set = set1 - set2                       # 或使用 set1.difference(set2)\n",
    "print(f\"{set1} - {set2}\\n= {diff_set}\")      # 輸出: {1, 2}\n"
   ]
  },
  {
   "cell_type": "code",
   "execution_count": null,
   "id": "8b8e3977-11e5-4abe-bdc8-8c049ad2bc71",
   "metadata": {},
   "outputs": [],
   "source": [
    "# 對稱差集 symmetric_difference() 或 ^\n",
    "# 對稱差集 = 聯集 - 交集 \n",
    "\n",
    "set1 = {1, 2, 3}\n",
    "set2 = {3, 4, 5}\n",
    "diff_set = set1 ^ set2                       # 或使用 set1.symmetric_difference(set2)\n",
    "print(f\"{set1} ^ {set2}\\n={diff_set}\")       # 輸出: {1, 2, 4, 5}\n",
    "print()\n",
    "\n",
    "set3 = set1 | set2                           # 聯集\n",
    "set4 = set1 & set2                           # 交集\n",
    "set5 = set3 - set4                           # 對稱差集\n",
    "print(f\"聯集 {set3} = {set1} | {set2}\")\n",
    "print(f\"交集 {set4} = {set1} & {set2}\")\n",
    "print(f\"差集 {set5} = {set3} - {set4}\")\n"
   ]
  },
  {
   "cell_type": "code",
   "execution_count": null,
   "id": "df5fe581-203d-4209-adfb-6acaa2300031",
   "metadata": {},
   "outputs": [],
   "source": [
    "# 是否存在\n",
    "my_set = {1, 2, 3, 4}\n",
    "print(2 in my_set)                           # 輸出: True\n",
    "print(5 in my_set)                           # 輸出: False\n"
   ]
  },
  {
   "cell_type": "code",
   "execution_count": null,
   "id": "032dc5d3-18e4-4740-aca4-83abcb5ead8d",
   "metadata": {},
   "outputs": [],
   "source": [
    "# 集合大小\n",
    "my_set = {1, 2, 3}\n",
    "print(len(my_set))                           # 輸出: 3\n"
   ]
  },
  {
   "cell_type": "code",
   "execution_count": null,
   "id": "d6513d5a-389c-464d-9ebb-077aa54f143f",
   "metadata": {},
   "outputs": [],
   "source": [
    "# 清空集合\n",
    "my_set = {1, 2, 3}\n",
    "my_set.clear()\n",
    "print(my_set)                               # 輸出: set()\n"
   ]
  },
  {
   "cell_type": "code",
   "execution_count": null,
   "id": "1a18c1bc-1909-424e-8863-45de58a8ce98",
   "metadata": {},
   "outputs": [],
   "source": [
    "# 迴圈\n",
    "my_set = {1,3,5,7,9}\n",
    "for x in my_set:\n",
    "    print(x)"
   ]
  },
  {
   "cell_type": "code",
   "execution_count": null,
   "id": "284367e3-c505-4fe4-9b60-92b77f28a1d4",
   "metadata": {},
   "outputs": [],
   "source": []
  }
 ],
 "metadata": {
  "kernelspec": {
   "display_name": "Python 3 (ipykernel)",
   "language": "python",
   "name": "python3"
  },
  "language_info": {
   "codemirror_mode": {
    "name": "ipython",
    "version": 3
   },
   "file_extension": ".py",
   "mimetype": "text/x-python",
   "name": "python",
   "nbconvert_exporter": "python",
   "pygments_lexer": "ipython3",
   "version": "3.13.2"
  }
 },
 "nbformat": 4,
 "nbformat_minor": 5
}
