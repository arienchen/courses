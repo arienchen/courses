{
 "cells": [
  {
   "cell_type": "markdown",
   "id": "26ed0106-1983-4ef6-85fb-3944e1925645",
   "metadata": {},
   "source": [
    "## LAB-16 Python 下載網頁\n",
    "\n",
    "* 使用 requests.get() 取得網頁內容\n",
    "* 使用 open() 開新檔籍儲存\n",
    "* 使用 tqdm 顯示下載進度條\n",
    "\n",
    "程式範例根據 Claude AI 改寫  \n",
    "\n",
    "使用之提示詞\n",
    "> Python 如何將網址下載儲存為檔案，並使用 tqdm 顯示下載進程\n",
    "\n",
    "\n",
    "* [ChatGPT](https://chatgpt.com/share/67d3829a-253c-8009-93b5-3fb005521fdf)\n",
    "* [Google Gemini](https://g.co/gemini/share/7910d428b59d)\n",
    "* [Claude AI](https://claude.ai/share/aba9d3a0-aac0-4e0e-ade5-2befa1f0e3aa)"
   ]
  },
  {
   "cell_type": "code",
   "execution_count": null,
   "id": "281ecff4-1b51-4c80-a547-95fa1a53fdd3",
   "metadata": {},
   "outputs": [],
   "source": [
    "import os                                        # 作業系統及檔案\n",
    "import requests                                  # HTTP 連線\n",
    "from tqdm.notebook import tqdm                   # 進度條 Progress bar\n",
    "import time"
   ]
  },
  {
   "cell_type": "code",
   "execution_count": null,
   "id": "76af5999-df51-44ee-a023-07217fc865ca",
   "metadata": {},
   "outputs": [],
   "source": [
    "def download_file(url, filename=None):\n",
    "    \"\"\"\n",
    "    從指定 URL 下載檔案，並使用 tqdm 顯示下載進度。\n",
    "    \n",
    "    參數:\n",
    "    url (str): 要下載的檔案網址\n",
    "    filename (str, optional): 要儲存的本地檔案名稱，如果未指定則從 URL 提取\n",
    "    \n",
    "    返回:\n",
    "    str: 下載的檔案路徑\n",
    "    \"\"\"\n",
    "    \n",
    "    # 如果沒有指定檔名，則從 URL 中取得\n",
    "    if filename is None:\n",
    "        filename = os.path.basename(url)\n",
    "    \n",
    "    # 發送 GET 請求，設定 stream=True 以啟用串流下載\n",
    "    response = requests.get(url, stream=True)\n",
    "    \n",
    "    # 確認請求成功\n",
    "    response.raise_for_status()\n",
    "    \n",
    "    # 取得檔案大小（單位：位元組）\n",
    "    total_size = int(response.headers.get('content-length', 0))\n",
    "\n",
    "    # for debug\n",
    "    read_bytes = 0\n",
    "\n",
    "    bar = tqdm(desc=filename, total=total_size, unit='B', unit_scale=True, unit_divisor=1024)\n",
    "    \n",
    "    bar.refresh()\n",
    "    \n",
    "    # 準備寫入檔案\n",
    "    with open(filename, 'wb') as file:\n",
    "        \n",
    "        # 逐塊下載資料\n",
    "        for chunk in response.iter_content(chunk_size=1024):\n",
    "            if chunk:  # 確保不是空值\n",
    "                read_bytes += len(chunk)\n",
    "                #print(f\"{read_bytes}/{total_size} = {read_bytes/total_size:.2%}\")\n",
    "\n",
    "                bar.update(len(chunk))\n",
    "                #bar.refresh()\n",
    "                \n",
    "                # 將下載的資料寫入檔案並更新進度條\n",
    "                file.write(chunk)\n",
    "\n",
    "                # for debug \n",
    "                #time.sleep(0.1)\n",
    "    \n",
    "    #bar.close()            \n",
    "    #del bar \n",
    "    \n",
    "    return filename\n"
   ]
  },
  {
   "cell_type": "code",
   "execution_count": null,
   "id": "40cbcf65-a69d-4675-869d-ca0b5a9d3d25",
   "metadata": {},
   "outputs": [],
   "source": [
    "# 監察院 API 網址\n",
    "CY_URL = r\"https://ardata.cy.gov.tw/api/v1/search/export/\"\n",
    "PAGE_SIZE = 1_000\n",
    "\n",
    "def get_api_url(ecode:str, page_no:int) -> str:\n",
    "    \"\"\"\n",
    "    回傳監察員政治線間查詢平台資料下載網址\n",
    "\n",
    "    參數\n",
    "    ecode        選舉代碼：總統大選 113101，立法委員 113102\n",
    "    page_no      下載頁碼\n",
    "\n",
    "    回傳值\n",
    "    api_url \n",
    "    \"\"\"\n",
    "\n",
    "    api_url = f\"{CY_URL}?page={page_no}&pageSize={PAGE_SIZE}&electionCode={ecode}\"\n",
    "\n",
    "    return api_url\n",
    "    "
   ]
  },
  {
   "cell_type": "code",
   "execution_count": null,
   "id": "28ff802b-ceac-4ab8-be2b-ca13256b2eb4",
   "metadata": {},
   "outputs": [],
   "source": [
    "# 測試 API URL\n",
    "page_no = 1\n",
    "election = \"113102\"\n",
    "\n",
    "url = get_api_url(election, page_no)\n",
    "print(url)"
   ]
  },
  {
   "cell_type": "code",
   "execution_count": null,
   "id": "b1f4a047-2f2c-4f14-a17e-6f8eb8f4b599",
   "metadata": {},
   "outputs": [],
   "source": [
    "# 可人工透過 Browser 測試"
   ]
  },
  {
   "cell_type": "code",
   "execution_count": null,
   "id": "a5de40e7-b964-41f1-acdc-add43d20efd7",
   "metadata": {},
   "outputs": [],
   "source": [
    "def create_data_path(path_name):\n",
    "    \"\"\"\n",
    "    檢查目錄是否存在，如果不存在則創建該目錄\n",
    "    \n",
    "    參數:\n",
    "    path_name (str): 要檢查或創建的目錄名稱\n",
    "    \n",
    "    返回:\n",
    "    bool: 如果目錄已存在返回 False，如果目錄被創建返回 True\n",
    "    \"\"\"\n",
    "    if not os.path.exists(path_name):\n",
    "        os.makedirs(path_name)\n",
    "        print(f\"目錄 '{path_name}' 已新增\")\n",
    "        return\n",
    "    else:\n",
    "        print(f\"目錄 '{path_name}' 已存在\")\n",
    "        return\n"
   ]
  },
  {
   "cell_type": "code",
   "execution_count": null,
   "id": "c32ef51b-60f0-4f2e-95b0-7952f3379bd6",
   "metadata": {},
   "outputs": [],
   "source": [
    "# 資料儲存目錄\n",
    "data_path = \"DATA\"\n",
    "create_data_path(data_path)"
   ]
  },
  {
   "cell_type": "code",
   "execution_count": null,
   "id": "12ed1c8f-0c9a-4dc1-8d8a-b654512bb6d4",
   "metadata": {},
   "outputs": [],
   "source": [
    "# 資料總頁數\n",
    "total_pages = 189                                # 參考之前網頁內容\n",
    "csv_name = \"2024立法委員2\"                         # 儲存之檔名，不含頁碼及副檔名\n",
    "\n",
    "total_pages = 2                                # 測試用，避免花太多時間"
   ]
  },
  {
   "cell_type": "code",
   "execution_count": null,
   "id": "f0ba88dc-eb4c-4c75-9449-f24de9aec716",
   "metadata": {},
   "outputs": [],
   "source": [
    "# 下載所有檔案\n",
    "for i in tqdm(range(1,total_pages+1), desc=\"資料下載\"):\n",
    "    url = get_api_url(election, i)\n",
    "    fname = f\"{csv_name}_{i}.csv\"\n",
    "    csvf = os.path.join(data_path, fname)\n",
    "    csv_file = download_file(url, csvf)\n",
    "    "
   ]
  },
  {
   "cell_type": "code",
   "execution_count": null,
   "id": "18023e52-b423-478e-8a87-adb5d10c6de8",
   "metadata": {},
   "outputs": [],
   "source": [
    "# TODO 下載進度條，並未如其顯示進度，而是 0-100% \n",
    "# TODO 第二層的 Progress Bar 會重複顯示\n"
   ]
  },
  {
   "cell_type": "code",
   "execution_count": null,
   "id": "350c9745-b367-45fc-a1af-095bc655176f",
   "metadata": {},
   "outputs": [],
   "source": [
    "\n",
    "!ls -ltr {data_path}"
   ]
  },
  {
   "cell_type": "markdown",
   "id": "e06d3f8f-788f-4446-b77b-f5145e907bdc",
   "metadata": {},
   "source": [
    "### TODO tqdm \n",
    "若有二層 tqdm \n",
    "1. 先 create 2 個 tqdm\n",
    "2. 第一層使用 for in range() 而不是 for in tqdm(range)，於迴圈中更新進度\n",
    "3. 將第二層 tqdm 傳入 download_file() 於下載前重設及每個 chunk 更新\n"
   ]
  },
  {
   "cell_type": "code",
   "execution_count": null,
   "id": "038be87e-8f51-4b00-9f5b-b117aa211aea",
   "metadata": {},
   "outputs": [],
   "source": []
  }
 ],
 "metadata": {
  "kernelspec": {
   "display_name": "Python 3 (ipykernel)",
   "language": "python",
   "name": "python3"
  },
  "language_info": {
   "codemirror_mode": {
    "name": "ipython",
    "version": 3
   },
   "file_extension": ".py",
   "mimetype": "text/x-python",
   "name": "python",
   "nbconvert_exporter": "python",
   "pygments_lexer": "ipython3",
   "version": "3.13.2"
  }
 },
 "nbformat": 4,
 "nbformat_minor": 5
}
