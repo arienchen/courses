{
 "cells": [
  {
   "cell_type": "markdown",
   "id": "e5900e1d-d1c5-4ed9-93fc-561e107c4ebe",
   "metadata": {},
   "source": [
    "# LAB-11 迴圈 for, while, break, continue"
   ]
  },
  {
   "cell_type": "markdown",
   "id": "863731cd-d9db-419e-9bf2-351def9e57e2",
   "metadata": {},
   "source": [
    "## 1. for 迴圈\n",
    "`for` 迴圈用於序列 (如`list`列表、`str`字串、`tuple`元組、`dict`字典) 或使用 `range()` 生成之數列"
   ]
  },
  {
   "cell_type": "code",
   "execution_count": 1,
   "id": "f22146e7-991b-45ff-8750-87109ba49083",
   "metadata": {},
   "outputs": [
    {
     "name": "stdout",
     "output_type": "stream",
     "text": [
      "蘋果\n",
      "香蕉\n",
      "櫻桃\n",
      "P\n",
      "y\n",
      "t\n",
      "h\n",
      "o\n",
      "n\n",
      "1\n",
      "2\n",
      "3\n",
      "4\n",
      "5\n",
      "I am good\n",
      "I am good\n",
      "I am good\n",
      "I am good\n"
     ]
    }
   ],
   "source": [
    "# 使用 for 迴圈遍歷列表\n",
    "fruits = [\"蘋果\", \"香蕉\", \"櫻桃\"]\n",
    "for fruit in fruits:\n",
    "    print(fruit)\n",
    "\n",
    "# 字串\n",
    "txt = \"Python\"\n",
    "for c in txt:\n",
    "    print(c)\n",
    "    \n",
    "# 使用 range() 產生數字\n",
    "for i in range(1, 6):  # 產生 1 到 5\n",
    "    print(i)\n",
    "\n",
    "# 不需變數時，可使用 _\n",
    "for _ in range(0,4):\n",
    "    print(\"I am good\")\n",
    "\n",
    "    "
   ]
  },
  {
   "cell_type": "markdown",
   "id": "3eac9f28-8f1e-406a-a1ae-b84ab9961f22",
   "metadata": {},
   "source": [
    "## 2.while 迴圈\n",
    "`while` 迴圈會根據條件執行，直到條件為 `False`"
   ]
  },
  {
   "cell_type": "code",
   "execution_count": 2,
   "id": "1f093a3e-cfb3-4ab5-a74a-59fe3393868e",
   "metadata": {},
   "outputs": [
    {
     "name": "stdout",
     "output_type": "stream",
     "text": [
      "數字: 1\n",
      "數字: 2\n",
      "數字: 3\n",
      "數字: 4\n",
      "數字: 5\n"
     ]
    }
   ],
   "source": [
    "# while 迴圈範例\n",
    "count = 1\n",
    "while count <= 5:\n",
    "    print(\"數字:\", count)\n",
    "    count += 1                                   # 變數遞增，避免無窮迴圈\n"
   ]
  },
  {
   "cell_type": "markdown",
   "id": "44b62b7d-a7ce-4ba7-9fdd-0145b2dcbbcd",
   "metadata": {},
   "source": [
    "## 3.break 中斷\n",
    "`break` 用於立即終止(強制跳出)迴圈"
   ]
  },
  {
   "cell_type": "code",
   "execution_count": 3,
   "id": "bfab1b4e-6e07-4112-b522-bc302ac89ed5",
   "metadata": {},
   "outputs": [
    {
     "name": "stdout",
     "output_type": "stream",
     "text": [
      "1\n",
      "2\n",
      "3\n",
      "4\n",
      "遇到 5，停止迴圈\n"
     ]
    }
   ],
   "source": [
    "# 使用 break 提前終止迴圈\n",
    "for num in range(1, 10):\n",
    "    if num == 5:\n",
    "        print(\"遇到 5，停止迴圈\")\n",
    "        break\n",
    "    print(num)\n"
   ]
  },
  {
   "cell_type": "markdown",
   "id": "2e63d4f7-197e-4727-9d61-0ff3318498e1",
   "metadata": {},
   "source": [
    "## 4.continue 繼續\n",
    "`continue` 離開目前程式區塊，直接進入下一次迴圈"
   ]
  },
  {
   "cell_type": "code",
   "execution_count": 4,
   "id": "28be2968-3d0d-47d1-a067-eef352be969a",
   "metadata": {},
   "outputs": [
    {
     "name": "stdout",
     "output_type": "stream",
     "text": [
      "1\n",
      "3\n",
      "5\n"
     ]
    }
   ],
   "source": [
    "# 使用 continue 跳過偶數\n",
    "for num in range(1, 6):\n",
    "    if num % 2 == 0:  # 偶數時跳過\n",
    "        continue\n",
    "    print(num)\n"
   ]
  },
  {
   "cell_type": "code",
   "execution_count": null,
   "id": "77c5a666-80fa-49f7-8efd-b2bff167c9ff",
   "metadata": {},
   "outputs": [],
   "source": []
  },
  {
   "cell_type": "code",
   "execution_count": null,
   "id": "f8bc1c37-db72-4ab7-bd0b-9158977cafba",
   "metadata": {},
   "outputs": [],
   "source": []
  }
 ],
 "metadata": {
  "kernelspec": {
   "display_name": "Python 3 (ipykernel)",
   "language": "python",
   "name": "python3"
  },
  "language_info": {
   "codemirror_mode": {
    "name": "ipython",
    "version": 3
   },
   "file_extension": ".py",
   "mimetype": "text/x-python",
   "name": "python",
   "nbconvert_exporter": "python",
   "pygments_lexer": "ipython3",
   "version": "3.13.2"
  }
 },
 "nbformat": 4,
 "nbformat_minor": 5
}
