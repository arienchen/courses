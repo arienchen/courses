{
 "cells": [
  {
   "cell_type": "markdown",
   "id": "98a6bfbc-a8be-4490-8716-a6c920b181ae",
   "metadata": {},
   "source": [
    "# LAB-04 字串 str\n",
    "* 字串基本操作\n",
    "* 大小寫轉換\n",
    "* 去空白及填入\n",
    "* 字串搜尋與比對\n",
    "* 字串取代與拆分\n",
    "* 格式化\n",
    "* 其他：左補0、轉換字碼編碼(UTF -> BIG5)\n",
    "\n",
    "> 有關格式化字串 f-string 或 `format()` 之用法，請參考 LAB-05"
   ]
  },
  {
   "cell_type": "markdown",
   "id": "2235b29a-38fe-4968-bf04-835565d62fe4",
   "metadata": {},
   "source": [
    "## 1. 字串基本操作"
   ]
  },
  {
   "cell_type": "code",
   "execution_count": null,
   "id": "1a25d485-bfff-4580-a1e8-fd05b47ff608",
   "metadata": {},
   "outputs": [],
   "source": [
    "s = \"Hello, Python!\"  # 變數值，亦可用單引號 '\n",
    "print(len(s))         # 取得字串長度\n",
    "print(s[0])           # 取得第一個字元(索引 0)\n",
    "print(s[7])           # 取得第8個字元，Python之索引一律為由 0 開始計算\n",
    "print(s[-1])          # 取得最後一個字元\n",
    "print(s[7:13])        # 子字串 (不包含索引 13)\n",
    "print(s[:2])          # 取得最左的 2個字元\n",
    "print(s[-2:])         # 取得最右的 2個字元\n",
    "print(s[::-1])        # 反轉字串\n"
   ]
  },
  {
   "cell_type": "code",
   "execution_count": null,
   "id": "75768cab-4ae9-40f4-80d1-826bc1572f3a",
   "metadata": {},
   "outputs": [],
   "source": [
    "# 中文字 \n",
    "# 字串為 Unicode 一個中文字為一個 Unicode 字元，不是 BIG5 DBCS 雙位元組\n",
    "s = \"大家好 Hello\"\n",
    "print(len(s))         # 取得字串長度\n",
    "print(s[0])           # 取得第一個字元(索引 0)\n",
    "print(s[7])           # 取得第8個字元，Python之索引一律為由 0 開始計算\n",
    "print(s[-1])          # 取得最後一個字元\n",
    "print(s[4:13])        # 子字串 (不包含索引 13)，即使超過字串長度，有不會報錯\n",
    "print(s[:2])          # 取得最左的 2個字元\n",
    "print(s[-2:])         # 取得最右的 2個字元\n",
    "print(s[::-1])        # 反轉字串"
   ]
  },
  {
   "cell_type": "code",
   "execution_count": null,
   "id": "7b9b68ca-0c6e-4fac-972d-e5e2f81c4297",
   "metadata": {},
   "outputs": [],
   "source": [
    "# 索引報錯\n",
    "s = '012345'\n",
    "print(\"1. \" , len(s))             # 取得字串長度\n",
    "print(\"2. [\", s[4:10], \"]\")       # 取得子串，索引 4-10，其中 10 已超出長度\n",
    "print(\"3. [\", s[10:12], \"]\")      # 取得子串，索引 10-12，其中 10,12 都已超出長度\n",
    "print(\"4. [\", s[6], \"]\")          # 取得字元，索引 6 已超出長度  \n"
   ]
  },
  {
   "cell_type": "code",
   "execution_count": null,
   "id": "df68925a-7384-4729-9f7c-3a8b849ee854",
   "metadata": {},
   "outputs": [],
   "source": [
    "# 同上，但使用 f-string\n",
    "s = '012345'\n",
    "print(f\"1. {len(s)=}\")            # 取得字串長度\n",
    "print(f\"2. [{s[4:10]}]\")          # 取得子串，索引 4-10，其中 10 已超出長度\n",
    "print(f\"3. [{s[10:12]}]\")         # 取得子串，索引 10-12，其中 10,12 都已超出長度\n",
    "print(f\"4. [{s[6]}]\")             # 取得字元，索引 6 已超出長度  \n"
   ]
  },
  {
   "cell_type": "markdown",
   "id": "1168059a-08df-4999-bc39-e9c585c91d22",
   "metadata": {},
   "source": [
    "## 2.大小寫轉換"
   ]
  },
  {
   "cell_type": "code",
   "execution_count": null,
   "id": "bbbdd95c-93bd-45bd-b4e0-a404cc924622",
   "metadata": {},
   "outputs": [],
   "source": [
    "## 大小寫轉換\n",
    "s = \"hello world\"\n",
    "print(s.upper())      # 轉成大寫\n",
    "print(s.lower())      # 轉成小寫\n",
    "print(s.capitalize()) # 句首字母大寫\n",
    "print(s.title())      # 每個單詞首字母大寫\n",
    "print(s.swapcase())   # 大小寫互換\n"
   ]
  },
  {
   "cell_type": "markdown",
   "id": "45dc1f75-8aef-4e06-bc16-224a0a1563c7",
   "metadata": {},
   "source": [
    "## 3.去空白及填入"
   ]
  },
  {
   "cell_type": "code",
   "execution_count": null,
   "id": "cabdfa46-7652-4535-a7a1-5333fed6c9d1",
   "metadata": {},
   "outputs": [],
   "source": [
    "s = \"  Python  \"\n",
    "print(s.strip())          # 移除前後空白\n",
    "print(s.lstrip())         # 移除左側空白\n",
    "print(s.rstrip())         # 移除右側空白\n",
    "print(s.center(20, '*'))  # 置中，填充 *\n",
    "print(s.ljust(20, '-'))   # 靠左對齊，填充 -\n",
    "print(s.rjust(20, '-'))   # 靠右對齊，填充 -"
   ]
  },
  {
   "cell_type": "markdown",
   "id": "9b65856f-ecf3-4c9d-afe1-9fa5b2c1f571",
   "metadata": {},
   "source": [
    "## 4.字串搜尋與比對"
   ]
  },
  {
   "cell_type": "code",
   "execution_count": null,
   "id": "a6759e6e-00cf-4f33-85e7-7135244e8de4",
   "metadata": {},
   "outputs": [],
   "source": [
    "s = \"hello world\"\n",
    "print(s.startswith(\"he\"))   # 是否以 \"he\" 開頭\n",
    "print(s.endswith(\"ld\"))     # 是否以 \"ld\" 結尾\n",
    "print(s.find(\"o\"))          # 找到 \"o\" 的索引 (第一個)\n",
    "print(s.rfind(\"o\"))         # 找到 \"o\" 的索引 (最後一個)\n",
    "print(s.count(\"o\"))         # 計算 \"o\" 出現次數\n",
    "print(\"123\".isdigit())      # 是否為數字\n",
    "print(\"abc\".isalpha())      # 是否全為字母\n",
    "print(\"abc123\".isalnum())   # 是否為字母或數字\n",
    "print(\"hello\".islower())    # 是否全為小寫\n",
    "print(\"HELLO\".isupper())    # 是否全為大寫\n"
   ]
  },
  {
   "cell_type": "markdown",
   "id": "1e36c1a1-bf19-4841-99b6-3ea8ef26aa6e",
   "metadata": {},
   "source": [
    "## 5.字串取代與拆分"
   ]
  },
  {
   "cell_type": "code",
   "execution_count": null,
   "id": "c14e94d4-0dfb-435c-b114-827c0a177f0c",
   "metadata": {},
   "outputs": [],
   "source": [
    "s = \"hello world\"\n",
    "print(s.replace(\"world\", \"Python\"))      # 替換字串\n",
    "print(s.split())                         # 預設以空格拆分\n",
    "print(\"apple,banana,orange\".split(\",\"))  # 以逗號拆分\n",
    "print(\"    \".join([\"Hello\", \"Python\"]))  # 用空格連接字串\n",
    "print(\"Hello-Python\".partition(\"-\"))     # 切割成三部分 ('Hello', '-', 'Python')\n"
   ]
  },
  {
   "cell_type": "markdown",
   "id": "adb4c6af-06c1-434f-8bdc-e9be015361b4",
   "metadata": {},
   "source": [
    "## 6.格式化"
   ]
  },
  {
   "cell_type": "code",
   "execution_count": null,
   "id": "45559c15-cfec-4b1a-a514-5f54c70befbe",
   "metadata": {},
   "outputs": [],
   "source": [
    "name = \"Alice\"\n",
    "age = 25\n",
    "print(f\"My name is {name} and I am {age} years old.\")  # f-string 格式化\n",
    "print(\"My name is {} and I am {} years old.\".format(name, age))  # format 方法\n",
    "print(\"My name is %s and I am %d years old.\" % (name, age))  # % 格式化 (舊方法)\n"
   ]
  },
  {
   "cell_type": "markdown",
   "id": "3b8d6cf4-5862-4925-8458-f3b26d1f87f6",
   "metadata": {},
   "source": [
    "## 7.其他"
   ]
  },
  {
   "cell_type": "code",
   "execution_count": null,
   "id": "d19d1796-d916-4fe4-9bb3-31c5107ea376",
   "metadata": {},
   "outputs": [],
   "source": [
    "print(\"1234\".zfill(10))               # 左補 0 總長度 10\n",
    "s = \"大家好 Hello\"\n",
    "x = s.encode(encoding=\"big5\")         # 轉換為 BIG5/DBCS\n",
    "print(len(s), len(x))                 # 取得 BIG5/DBCS 的位元數"
   ]
  },
  {
   "cell_type": "code",
   "execution_count": null,
   "id": "fe185fd2-eaf5-48a5-af89-f8492ed76db9",
   "metadata": {},
   "outputs": [],
   "source": [
    "# 顯示 x 的內容\n",
    "x"
   ]
  },
  {
   "cell_type": "code",
   "execution_count": null,
   "id": "a688fc27-ffe0-4fd6-bfcf-5aefdfaeb73a",
   "metadata": {},
   "outputs": [],
   "source": []
  }
 ],
 "metadata": {
  "kernelspec": {
   "display_name": "Python 3 (ipykernel)",
   "language": "python",
   "name": "python3"
  },
  "language_info": {
   "codemirror_mode": {
    "name": "ipython",
    "version": 3
   },
   "file_extension": ".py",
   "mimetype": "text/x-python",
   "name": "python",
   "nbconvert_exporter": "python",
   "pygments_lexer": "ipython3",
   "version": "3.13.2"
  }
 },
 "nbformat": 4,
 "nbformat_minor": 5
}
