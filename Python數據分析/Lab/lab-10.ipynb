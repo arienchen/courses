{
 "cells": [
  {
   "cell_type": "markdown",
   "id": "e202528c-851f-42e1-afb8-594155503ca0",
   "metadata": {},
   "source": [
    "# LAB-10 條件判斷 if-elif-else\n",
    "在 Python 中，`if`、`elif` 和 `else` 用於條件判斷，根據條件的真假來執行不同的程式碼區塊\n",
    "\n",
    "* 基本語法<br>\n",
    "  ```python\n",
    "  if 條件1:\n",
    "      # 當條件1為 True 時執行的程式碼\n",
    "  elif 條件2:\n",
    "      # 當條件1為 False 且條件2為 True 時執行的程式碼\n",
    "  else:\n",
    "      # 當條件1 和 條件2 都為 False 時執行的程式碼\n",
    "      \n",
    "  ```\n",
    "  \n",
    "  \n",
    "* 好的程式撰寫習慣，`if-else` 應成對出現，避免單一 `if` 沒有 `else` 的情形<br>\n",
    "  ```python\n",
    "  if (x):\n",
    "     # do what should do\n",
    "  else:\n",
    "     # unexpected, log what happend, or assert\n",
    "     pass\n",
    "  ```     "
   ]
  },
  {
   "cell_type": "markdown",
   "id": "a50a599c-85a1-4b13-ab1f-c5cab5931101",
   "metadata": {},
   "source": [
    "## 1. 基本 if-else"
   ]
  },
  {
   "cell_type": "code",
   "execution_count": 1,
   "id": "0eefffe9-d0ea-4085-9980-383cee8373ad",
   "metadata": {},
   "outputs": [
    {
     "name": "stdout",
     "output_type": "stream",
     "text": [
      "你已成年\n"
     ]
    }
   ],
   "source": [
    "age = 18\n",
    "\n",
    "if age >= 18:\n",
    "    print(\"你已成年\")\n",
    "else:\n",
    "    print(\"你未成年\")\n"
   ]
  },
  {
   "cell_type": "markdown",
   "id": "3ec534e7-df93-40f7-bd7a-f39673e34726",
   "metadata": {},
   "source": [
    "## 2.多條件 if-elif-else, match-case"
   ]
  },
  {
   "cell_type": "code",
   "execution_count": 2,
   "id": "93ad5d3f-d1d5-415b-ba5c-3def0042b5c4",
   "metadata": {},
   "outputs": [
    {
     "name": "stdout",
     "output_type": "stream",
     "text": [
      "成績良好\n"
     ]
    }
   ],
   "source": [
    "score = 85\n",
    "\n",
    "if score >= 90:\n",
    "    print(\"成績優秀\")\n",
    "elif score >= 75:\n",
    "    print(\"成績良好\")\n",
    "elif score >= 60:\n",
    "    print(\"及格\")\n",
    "else:\n",
    "    print(\"不及格\")\n"
   ]
  },
  {
   "cell_type": "code",
   "execution_count": 3,
   "id": "e4efc3e2-a601-46e3-8b5d-45b58caeb5fc",
   "metadata": {},
   "outputs": [
    {
     "name": "stdout",
     "output_type": "stream",
     "text": [
      "高風險\n"
     ]
    }
   ],
   "source": [
    "# 若多條件的判斷條件為 == ，可改用 match-case 提高可讀性 \n",
    "risk = 3\n",
    "\n",
    "match risk:\n",
    "    case 0:\n",
    "        print(\"無風險\")\n",
    "    \n",
    "    case 1:\n",
    "        print(\"低風險\")\n",
    "\n",
    "    case 2:\n",
    "        print(\"中風險\")\n",
    "\n",
    "    case 3:\n",
    "        print(\"高風險\")\n",
    "\n",
    "    case 4:\n",
    "        print(\"嚴重風險\")\n",
    "    \n",
    "    case _:\n",
    "        print(\"未知風險\")\n"
   ]
  },
  {
   "cell_type": "markdown",
   "id": "8dc1272f-300d-47b9-8c91-7e529d9046b7",
   "metadata": {},
   "source": [
    "## 3.巢狀條件"
   ]
  },
  {
   "cell_type": "code",
   "execution_count": 4,
   "id": "5015464f-7461-49de-b898-0a6312494d81",
   "metadata": {},
   "outputs": [
    {
     "name": "stdout",
     "output_type": "stream",
     "text": [
      "x 和 y 都是正數\n"
     ]
    }
   ],
   "source": [
    "x = 10\n",
    "y = 5\n",
    "\n",
    "if x > 0:\n",
    "    if y > 0:\n",
    "        print(\"x 和 y 都是正數\")\n",
    "    else:\n",
    "        pass\n",
    "else:\n",
    "    pass"
   ]
  },
  {
   "cell_type": "markdown",
   "id": "b1e19c93-7dc7-4d28-8431-82c43097e7e6",
   "metadata": {},
   "source": [
    "## 4.使用邏輯運算子 and, or, not "
   ]
  },
  {
   "cell_type": "code",
   "execution_count": 5,
   "id": "0061930b-6430-4a6d-b617-077837872d81",
   "metadata": {},
   "outputs": [
    {
     "name": "stdout",
     "output_type": "stream",
     "text": [
      "a 大於 5，且 b 大於 15\n",
      "a 或 b 其中一個大於 15\n",
      "a 不小於 5\n"
     ]
    }
   ],
   "source": [
    "a = 10\n",
    "b = 20\n",
    "\n",
    "if a > 5 and b > 15:\n",
    "    print(\"a 大於 5，且 b 大於 15\")\n",
    "\n",
    "if a > 15 or b > 15:\n",
    "    print(\"a 或 b 其中一個大於 15\")\n",
    "\n",
    "if not (a < 5):\n",
    "    print(\"a 不小於 5\")\n"
   ]
  },
  {
   "cell_type": "markdown",
   "id": "aaa8ca51-3971-4553-bbf4-85d72edc70d7",
   "metadata": {},
   "source": [
    "## 5. 單行條件敘述\n",
    "\n",
    "**語法**  \n",
    "```python\n",
    "(回傳值，條件為 True 時) if (條件) else (回傳值，條件為 False 時)\n",
    "```"
   ]
  },
  {
   "cell_type": "code",
   "execution_count": 6,
   "id": "ca43e443-9bad-416b-a701-258561335f73",
   "metadata": {},
   "outputs": [
    {
     "name": "stdout",
     "output_type": "stream",
     "text": [
      "7\n"
     ]
    }
   ],
   "source": [
    "def max_value(a, b):\n",
    "    return a if a > b else b\n",
    "\n",
    "print(max_value(7,2))"
   ]
  },
  {
   "cell_type": "code",
   "execution_count": null,
   "id": "33f224f1-c1ef-451a-9f35-a2c843810640",
   "metadata": {},
   "outputs": [],
   "source": []
  }
 ],
 "metadata": {
  "kernelspec": {
   "display_name": "Python 3 (ipykernel)",
   "language": "python",
   "name": "python3"
  },
  "language_info": {
   "codemirror_mode": {
    "name": "ipython",
    "version": 3
   },
   "file_extension": ".py",
   "mimetype": "text/x-python",
   "name": "python",
   "nbconvert_exporter": "python",
   "pygments_lexer": "ipython3",
   "version": "3.13.2"
  }
 },
 "nbformat": 4,
 "nbformat_minor": 5
}
