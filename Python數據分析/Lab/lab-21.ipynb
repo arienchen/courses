{
 "cells": [
  {
   "cell_type": "markdown",
   "id": "74227686-ab79-4c7d-9143-f44254654f7c",
   "metadata": {},
   "source": [
    "# LAB-21 直方圖及熱度圖"
   ]
  },
  {
   "cell_type": "code",
   "execution_count": null,
   "id": "3817243b-0341-48ef-bfee-7a6c846a9f18",
   "metadata": {},
   "outputs": [],
   "source": [
    "import os\n",
    "import sys\n",
    "import pandas as pd \n",
    "import numpy as np\n",
    "import matplotlib\n",
    "import matplotlib.pyplot as plt\n",
    "import seaborn as sns"
   ]
  },
  {
   "cell_type": "markdown",
   "id": "70ba3b3d-be35-46d9-9eb2-00517b28ad37",
   "metadata": {},
   "source": [
    "## matlotlib 中文字型設定"
   ]
  },
  {
   "cell_type": "code",
   "execution_count": null,
   "id": "eac7d94a-9bf0-43b1-be15-416df70a4323",
   "metadata": {},
   "outputs": [],
   "source": [
    "# 繪圖中文字型\n",
    "# 設定中文字型\n",
    "# 依不同平台 (Windows/Mac) 需設定不同中文字型\n",
    "\n",
    "if sys.platform == \"win32\":\n",
    "    # Windows \n",
    "    plt.rcParams['font.family'] = 'SimHei'\n",
    "elif sys.platform == \"darwin\":\n",
    "    plt.rcParams['font.family'] = 'Heiti TC' \n",
    "else:\n",
    "    assert \"未知作業系統\""
   ]
  },
  {
   "cell_type": "markdown",
   "id": "be1f2d83-6b0c-4dd4-a6d5-806b7e9bea80",
   "metadata": {},
   "source": [
    "## 讀取測試資料"
   ]
  },
  {
   "cell_type": "code",
   "execution_count": null,
   "id": "22e9ad13-b7b1-4b02-b73f-cffcd0d0095b",
   "metadata": {},
   "outputs": [],
   "source": [
    "# 透過 LAB-18 產出的測試資料\n",
    "csv_file = \"test_data2.csv\"\n",
    "df = pd.read_csv(csv_file)"
   ]
  },
  {
   "cell_type": "code",
   "execution_count": null,
   "id": "5f98af4f-d34f-43a5-afff-72b39d861da4",
   "metadata": {},
   "outputs": [],
   "source": [
    "df.head()"
   ]
  },
  {
   "cell_type": "markdown",
   "id": "4831a639-5bd6-4fe1-bfee-71079ad1aee5",
   "metadata": {},
   "source": [
    "## 數值分布分析"
   ]
  },
  {
   "cell_type": "code",
   "execution_count": null,
   "id": "4b615b32-676d-48bf-8c93-7ab776b3b4d0",
   "metadata": {},
   "outputs": [],
   "source": [
    "def plot_hist(data, bins_cnt):\n",
    "    plt.hist(data, bins=bins_cnt, edgecolor='black', rwidth=0.75)             # bins 設定長條數量\n",
    "    plt.title('交易延遲')\n",
    "    plt.xlabel('回應時間')\n",
    "    plt.ylabel('筆數')\n",
    "    plt.show()"
   ]
  },
  {
   "cell_type": "code",
   "execution_count": null,
   "id": "1a46b287-33f1-4b6c-9134-b3c223cddce5",
   "metadata": {},
   "outputs": [],
   "source": [
    "# 快速統計 交易延遲的分布\n",
    "# 繪製直方圖\n",
    "plot_hist(df[\"交易延遲\"], 20)\n"
   ]
  },
  {
   "cell_type": "code",
   "execution_count": null,
   "id": "8690d3c3-6dca-48bf-a5f1-f269f37eebd9",
   "metadata": {},
   "outputs": [],
   "source": [
    "# 針對 < 1000 的分析\n",
    "df2 = df[df[\"交易延遲\"] <= 1000][\"交易延遲\"]\n",
    "plot_hist(df2, 20)"
   ]
  },
  {
   "cell_type": "markdown",
   "id": "77b9c6c8-f764-4d66-8b94-35a19e9a3c5a",
   "metadata": {},
   "source": [
    "## 加上累計百分比"
   ]
  },
  {
   "cell_type": "code",
   "execution_count": null,
   "id": "331b0d83-0663-439f-ad52-f0e6e286c528",
   "metadata": {},
   "outputs": [],
   "source": [
    "bins = np.array([100,200,300,400,500,800,1000,2000,5000,100000000])\n",
    "bin_labels = [ \"100ms+\",\"200ms+\",\"300ms+\",\"400ms+\",\"500ms+\",\"800ms+\",\"> 1s+\",\"> 2s\",\"> 5s\"]\n",
    "#bin_labels = [f\"{bins[i]}-{bins[i+1]}\" for i in range(len(bins) - 1)]\n"
   ]
  },
  {
   "cell_type": "code",
   "execution_count": null,
   "id": "e26dfca2-a08c-40f5-9058-cadb7185a49d",
   "metadata": {},
   "outputs": [],
   "source": [
    "# 計算每個 bin 的頻率\n",
    "hist, _ = np.histogram(df['交易延遲'], bins=bins)\n",
    "df['bin'] = pd.cut(df['交易延遲'], bins=bins, labels=bin_labels, right=True)\n",
    "bin_counts = df['bin'].value_counts().sort_index()"
   ]
  },
  {
   "cell_type": "code",
   "execution_count": null,
   "id": "0a640719-b277-473a-a6c9-2b0b51e3d552",
   "metadata": {},
   "outputs": [],
   "source": [
    "# 計算累計百分比\n",
    "total = bin_counts.sum()\n",
    "cumulative_percent = (bin_counts.cumsum() / total * 100)"
   ]
  },
  {
   "cell_type": "code",
   "execution_count": null,
   "id": "07e75ac4-543b-4e9a-b0e9-b91dbf0518a0",
   "metadata": {},
   "outputs": [],
   "source": [
    "# 創建圖表和第二軸\n",
    "fig, ax1 = plt.subplots(figsize=(12, 7))\n",
    "ax2 = ax1.twinx()\n",
    "\n",
    "# 繪製等寬的長條圖\n",
    "bar_width = 0.8\n",
    "bar_positions = np.arange(len(bin_labels))\n",
    "bars = ax1.bar(bar_positions, bin_counts, width=bar_width, color='skyblue', edgecolor='black')\n",
    "\n",
    "# 繪製累計百分比折線圖\n",
    "line = ax2.plot(bar_positions, cumulative_percent, 'ro-', linewidth=2, markersize=8)\n",
    "\n",
    "# 設置 X 軸標籤\n",
    "ax1.set_xticks(bar_positions)\n",
    "ax1.set_xticklabels(bin_labels)\n",
    "\n",
    "# 在長條上添加頻率數值\n",
    "for bar in bars:\n",
    "    height = bar.get_height()\n",
    "    ax1.text(bar.get_x() + bar.get_width()/2., height + 5,\n",
    "            f'{height:.0f}', ha='center', va='bottom')\n",
    "\n",
    "# 在折線圖點上添加百分比標籤\n",
    "for i, value in enumerate(cumulative_percent):\n",
    "    ax2.text(bar_positions[i], value + 2, f'{value:.2f}%', ha='center')\n",
    "\n",
    "# 設置圖表標題和軸標籤\n",
    "ax1.set_title('交易延遲')\n",
    "ax1.set_xlabel('回應時間')\n",
    "ax1.set_ylabel('筆數')\n",
    "ax2.set_ylabel('累計百分比 (%)')\n",
    "\n",
    "# 設置 Y 軸範圍\n",
    "ax2.set_ylim(0, 105)\n",
    "\n",
    "# 添加圖例\n",
    "ax1.legend(['筆數'], loc='upper left')\n",
    "#ax2.legend(['累計百分比'], loc='lower right')\n",
    "\n",
    "# 添加網格線\n",
    "ax1.grid(axis='y', linestyle='--', alpha=0.3)\n",
    "\n",
    "plt.tight_layout()\n",
    "plt.show()"
   ]
  },
  {
   "cell_type": "code",
   "execution_count": null,
   "id": "ffd30f08-3a22-428f-ad82-9cd806815c56",
   "metadata": {},
   "outputs": [],
   "source": [
    "# 針對 > 5000 的分析\n",
    "df3 = df[df[\"交易延遲\"] > 5000].copy()\n",
    "plot_hist(df3[\"交易延遲\"], 20)"
   ]
  },
  {
   "cell_type": "code",
   "execution_count": null,
   "id": "b84abb77-ae60-4db5-986e-578366ad1a34",
   "metadata": {},
   "outputs": [],
   "source": [
    "df3[\"交易延遲\"].describe()"
   ]
  },
  {
   "cell_type": "code",
   "execution_count": null,
   "id": "e595405c-c4df-4317-b244-69f3f8a903d2",
   "metadata": {},
   "outputs": [],
   "source": [
    "df3.head()"
   ]
  },
  {
   "cell_type": "markdown",
   "id": "4d04e841-3048-4b0f-b531-0b98e6b37634",
   "metadata": {},
   "source": [
    "## 熱度圖"
   ]
  },
  {
   "cell_type": "code",
   "execution_count": null,
   "id": "d2ea94b9-fde5-4e44-bde1-59bfdcf3077d",
   "metadata": {},
   "outputs": [],
   "source": [
    "# Ｘ軸 交易代碼\n",
    "# Y軸 交易主機\n",
    "# 計算每個 X-Y 組合的統計數據\n",
    "# 這裡使用 count 來計算筆數\n",
    "pivot_table = df3.pivot_table(index='交易主機', columns='交易代碼', values='交易延遲', aggfunc='count')\n",
    "\n",
    "# 繪製熱度圖\n",
    "#plt.figure(figsize=(10, 8))\n",
    "sns.heatmap(pivot_table, annot=True, fmt='d', cmap='YlOrRd', cbar_kws={'label': '筆數'})\n",
    "plt.title('交易代碼 vs 交易主機 筆數統計熱度圖')\n",
    "plt.tight_layout()\n",
    "plt.show()\n"
   ]
  },
  {
   "cell_type": "code",
   "execution_count": null,
   "id": "a81dd79b-07cd-4683-a4cb-bcc4ce148e0d",
   "metadata": {},
   "outputs": [],
   "source": [
    "# 將異常交易，另存新檔檢視或查核\n",
    "csvf = \"lab-21.csv\"\n",
    "df3.to_csv(csvf, index=False, encoding='utf-8-sig')"
   ]
  },
  {
   "cell_type": "code",
   "execution_count": null,
   "id": "78bb4bc9-a2f5-4fb5-a71b-cfaa706fd968",
   "metadata": {},
   "outputs": [],
   "source": [
    "## 依交易時間，畫熱度圖\n",
    "df[\"hour\"] = df[\"交易時間\"].apply(lambda x : x[11:13])"
   ]
  },
  {
   "cell_type": "code",
   "execution_count": null,
   "id": "34add685-cacd-4611-960a-f6bce8be5005",
   "metadata": {},
   "outputs": [],
   "source": [
    "# Ｘ軸 hour\n",
    "# Y軸 交易代碼\n",
    "# 計算每個 X-Y 組合的統計數據\n",
    "# 這裡使用 count 來計算筆數\n",
    "pivot_table = df.pivot_table(index='交易主機', columns='hour', values='交易延遲', aggfunc='count')\n",
    "\n",
    "# 繪製熱度圖\n",
    "#plt.figure(figsize=(10, 8))\n",
    "sns.heatmap(pivot_table, annot=False, fmt='d', cmap='YlOrRd', cbar_kws={'label': '筆數'})\n",
    "plt.title('交易時間 vs 交易主機 筆數統計熱度圖')\n",
    "plt.tight_layout()\n",
    "plt.show()"
   ]
  },
  {
   "cell_type": "code",
   "execution_count": null,
   "id": "32e8f615-c7d9-48ab-8e19-f8c8513a0a50",
   "metadata": {},
   "outputs": [],
   "source": []
  }
 ],
 "metadata": {
  "kernelspec": {
   "display_name": "Python 3 (ipykernel)",
   "language": "python",
   "name": "python3"
  },
  "language_info": {
   "codemirror_mode": {
    "name": "ipython",
    "version": 3
   },
   "file_extension": ".py",
   "mimetype": "text/x-python",
   "name": "python",
   "nbconvert_exporter": "python",
   "pygments_lexer": "ipython3",
   "version": "3.13.2"
  }
 },
 "nbformat": 4,
 "nbformat_minor": 5
}
