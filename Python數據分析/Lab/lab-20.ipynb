{
 "cells": [
  {
   "cell_type": "markdown",
   "id": "7e3f1a57-a8ba-481a-ab27-d400ee6fcf3f",
   "metadata": {},
   "source": [
    "# LAB-20 班佛定律 Benford's Law\n",
    "\n",
    "**班佛定律**，也被稱為第一位數法則，是一個關於在許多真實世界數據集中，首位數字出現頻率的觀察。 簡單來說，它指出數字 1 出現為首位數字的機率約為 30%，而數字 9 出現為首位數字的機率則小於 5%。\n",
    "\n",
    "更詳細的說明：\n",
    "\n",
    "* 非均勻分佈： 與直覺相反，數字 1 到 9 並非以相同的機率作為數據集中的首位數字。\n",
    "* 對數分佈： 班佛定律指出，首位數字 d 出現的機率，可以用以下公式計算： P(d) = log10(1 + 1/d)"
   ]
  },
  {
   "cell_type": "code",
   "execution_count": null,
   "id": "d23fc0c5-eeff-4776-aad7-6f4deccdda65",
   "metadata": {},
   "outputs": [],
   "source": [
    "import os\n",
    "import sys\n",
    "import pandas as pd \n",
    "import numpy as np\n",
    "import matplotlib\n",
    "import matplotlib.pyplot as plt"
   ]
  },
  {
   "cell_type": "code",
   "execution_count": null,
   "id": "4bd2c750-21b0-4453-90d0-5a082e74a411",
   "metadata": {},
   "outputs": [],
   "source": [
    "# 使用前次 lab-19.csv \n",
    "data_file = \"lab-19.csv\"\n",
    "# 讀取 CSV 檔案\n",
    "df = pd.read_csv(data_file)"
   ]
  },
  {
   "cell_type": "code",
   "execution_count": null,
   "id": "f1dd4ce0-0ea1-429c-844f-e8b3b659dc39",
   "metadata": {},
   "outputs": [],
   "source": [
    "# 設定顯示的最大欄位數\n",
    "pd.set_option('display.max_columns', None)"
   ]
  },
  {
   "cell_type": "code",
   "execution_count": null,
   "id": "65862337-feea-439c-af4c-d88d16560d05",
   "metadata": {},
   "outputs": [],
   "source": [
    "df.head(10)"
   ]
  },
  {
   "cell_type": "markdown",
   "id": "7a531c9d-c125-4bab-bafa-7334943f9d8c",
   "metadata": {},
   "source": [
    "## 個人捐獻"
   ]
  },
  {
   "cell_type": "code",
   "execution_count": null,
   "id": "b4538824-fcbe-4138-b181-4d4926a0e530",
   "metadata": {},
   "outputs": [],
   "source": [
    "# 篩選 \n",
    "# [收支科目]=個人捐贈收入\n",
    "# \n",
    "df2 = df[df['收支科目'] == '個人捐贈收入'].copy()\n",
    "\n",
    "# 資料筆數\n",
    "print(f\"資料總筆數：\\t{df.shape[0]:10,d}\")\n",
    "print(f\"個人捐贈筆數：\\t{df2.shape[0]:10,d}\")"
   ]
  },
  {
   "cell_type": "code",
   "execution_count": null,
   "id": "c668ecc2-5d0d-47f6-8fb9-44d07f482653",
   "metadata": {},
   "outputs": [],
   "source": [
    "# 筆數統計\n",
    "df2['捐贈方式'].value_counts()"
   ]
  },
  {
   "cell_type": "code",
   "execution_count": null,
   "id": "c9ba0325-fa66-417d-8944-cc7d95ebcf7f",
   "metadata": {},
   "outputs": [],
   "source": [
    "df2['捐贈方式'].unique()"
   ]
  },
  {
   "cell_type": "code",
   "execution_count": null,
   "id": "ee4e2bcc-9283-4f77-aa9e-fd97dac54b03",
   "metadata": {},
   "outputs": [],
   "source": [
    "df2[df2[\"捐贈方式\"].isnull()]"
   ]
  },
  {
   "cell_type": "code",
   "execution_count": null,
   "id": "47b2e171-43a7-4918-81b7-38a7a0bb5f76",
   "metadata": {},
   "outputs": [],
   "source": [
    "# 將空值 置換為 其他\n",
    "df2['捐贈方式'] = df2['捐贈方式'].fillna(\"其他\")\n",
    "df2['捐贈方式'].unique()"
   ]
  },
  {
   "cell_type": "code",
   "execution_count": null,
   "id": "68f58be4-bf8a-476a-a857-4258bbf1ea49",
   "metadata": {},
   "outputs": [],
   "source": [
    "# Benford's Law 預期的第一個數字分佈\n",
    "# 作為繪圖的基礎線\n",
    "def benford_distribution():\n",
    "    return [np.log10(1 + 1 / d) for d in range(1, 10)]"
   ]
  },
  {
   "cell_type": "code",
   "execution_count": null,
   "id": "4387b9ca-27b8-4f30-b955-de5be1a65a47",
   "metadata": {},
   "outputs": [],
   "source": [
    "# 統計第一個數字的計數\n",
    "def calc_first_digit(result, name, amt_val):\n",
    "    #print(name,amt_val)\n",
    "    d = int(str(abs(amt_val))[0])                    # 若不考慮負數，則需資料清理\n",
    "    result[name][d] += 1    "
   ]
  },
  {
   "cell_type": "code",
   "execution_count": null,
   "id": "c5ed5015-4c44-44a6-bf8d-73d2cc521b3a",
   "metadata": {},
   "outputs": [],
   "source": [
    "# 建立一個長度為10的整數陣列，儲存 0-9 數字的累計\n",
    "cate = df2['捐贈方式'].unique()\n",
    "benford_data = {}\n",
    "for c in cate:\n",
    "    benford_data[c] = np.zeros(10,dtype=int)"
   ]
  },
  {
   "cell_type": "code",
   "execution_count": null,
   "id": "081cd12f-8404-48b0-a188-a60880121b53",
   "metadata": {},
   "outputs": [],
   "source": [
    "# 逐筆累計\n",
    "for idx,row in df2.iterrows():\n",
    "    calc_first_digit(benford_data,row['捐贈方式'], row['收入金額'])"
   ]
  },
  {
   "cell_type": "code",
   "execution_count": null,
   "id": "ad1de9af-284f-4556-bf34-3b127fa17692",
   "metadata": {},
   "outputs": [],
   "source": [
    "# 檢視 Ben's Ford Law Data\n",
    "print(benford_data)"
   ]
  },
  {
   "cell_type": "code",
   "execution_count": null,
   "id": "77ef8a48-8655-4321-9806-89b5993dfcb8",
   "metadata": {},
   "outputs": [],
   "source": [
    "# 計算分佈\n",
    "benford_result = {}\n",
    "for name in cate:\n",
    "    benford_result[name] = np.zeros(10,dtype=float)\n",
    "    sub_total = np.sum(benford_data[name][1:10])\n",
    "    for i in range(1,10):\n",
    "        benford_result[name][i] = benford_data[name][i]/sub_total\n",
    "\n",
    "print(benford_result)"
   ]
  },
  {
   "cell_type": "code",
   "execution_count": null,
   "id": "fafa9554-d6fb-4076-8880-4dfb9ae7808d",
   "metadata": {},
   "outputs": [],
   "source": [
    "# 班佛定律理論值\n",
    "expected = benford_distribution()"
   ]
  },
  {
   "cell_type": "code",
   "execution_count": null,
   "id": "4380d3ec-4444-44e9-83c2-685619c89577",
   "metadata": {},
   "outputs": [],
   "source": [
    "# 繪圖中文字型\n",
    "# 設定中文字型\n",
    "# 依不同平台 (Windows/Mac) 需設定不同中文字型\n",
    "\n",
    "if sys.platform == \"win32\":\n",
    "    # Windows \n",
    "    plt.rcParams['font.family'] = 'SimHei'\n",
    "elif sys.platform == \"darwin\":\n",
    "    plt.rcParams['font.family'] = 'Heiti TC' \n",
    "else:\n",
    "    assert \"未知作業系統\""
   ]
  },
  {
   "cell_type": "code",
   "execution_count": null,
   "id": "182e3661-1666-48d0-8b8c-172f7609edd2",
   "metadata": {},
   "outputs": [],
   "source": [
    "# 繪圖\n",
    "digits = range(1, 10)\n",
    "\n",
    "plt.plot(digits, benford_result['匯款'][1:10], label='匯款',color='green', marker='o', linestyle='-')\n",
    "plt.plot(digits, benford_result['現金'][1:10], label='現金',color='black', marker='s', linestyle='-')\n",
    "plt.plot(digits, benford_result['票據'][1:10], label='票據',color='blue', marker='^', linestyle='-')\n",
    "plt.plot(digits, benford_result['其他'][1:10], label='其他',color='purple', marker='*', linestyle='-')\n",
    "\n",
    "plt.plot(digits, expected, label=\"班佛定律\", color='red',linestyle='-')\n",
    "\n",
    "plt.xlabel('數字')\n",
    "plt.ylabel('分佈')\n",
    "plt.title(\"班佛定律分佈 vs 政治獻金(個人捐贈)\")\n",
    "plt.legend()\n",
    "plt.grid(True)\n",
    "plt.show()"
   ]
  },
  {
   "cell_type": "markdown",
   "id": "9481159e-9edb-4145-af78-da203229768e",
   "metadata": {},
   "source": [
    "## 費用支出"
   ]
  },
  {
   "cell_type": "code",
   "execution_count": null,
   "id": "34553b2b-e4e5-4c44-a8b8-5d8a141ca35d",
   "metadata": {},
   "outputs": [],
   "source": [
    "# 篩選 \n",
    "# [收支]=支出\n",
    "# \n",
    "df3 = df[df[\"收支\"] == \"支出\"].copy()\n",
    "\n",
    "# 資料筆數\n",
    "print(f\"資料總筆數：\\t{df.shape[0]:10,d}\")\n",
    "print(f\"支出筆數：\\t{df3.shape[0]:10,d}\")"
   ]
  },
  {
   "cell_type": "code",
   "execution_count": null,
   "id": "c66143c0-6274-4918-aa02-0bc2c6e5967f",
   "metadata": {},
   "outputs": [],
   "source": [
    "df3[\"收支科目\"].value_counts()"
   ]
  },
  {
   "cell_type": "code",
   "execution_count": null,
   "id": "184c0468-9fcd-44f6-a65c-ca974b294481",
   "metadata": {},
   "outputs": [],
   "source": [
    "# 只分析前四項： 雜支支出, 人事費用支出, 交通旅運支出, 宣傳支出\n",
    "cate = ['雜支支出','人事費用支出','交通旅運支出','宣傳支出']\n",
    "df3 = df3[df3['收支科目'].isin(cate)]"
   ]
  },
  {
   "cell_type": "code",
   "execution_count": null,
   "id": "1447a7cb-f8c1-4158-9afe-9546c0b632cc",
   "metadata": {},
   "outputs": [],
   "source": [
    "# 支出金額有負值\n",
    "df3[df3['支出金額'] <= 0].head()"
   ]
  },
  {
   "cell_type": "code",
   "execution_count": null,
   "id": "a402ca0a-b054-42f2-aaa7-c84ef2acf6da",
   "metadata": {},
   "outputs": [],
   "source": [
    "# 建立一個長度為10的整數陣列，儲存 0-9 數字的累計\n",
    "display(cate)\n",
    "benford_data = {}\n",
    "for name in cate:\n",
    "    benford_data[name] = np.zeros(10,dtype=int)"
   ]
  },
  {
   "cell_type": "code",
   "execution_count": null,
   "id": "6d4a48cf-e032-4251-9077-a7c2dd674848",
   "metadata": {},
   "outputs": [],
   "source": [
    "df3[\"收支科目\"].value_counts()"
   ]
  },
  {
   "cell_type": "code",
   "execution_count": null,
   "id": "d9ca1246-5a74-4356-9755-be2e93c46078",
   "metadata": {},
   "outputs": [],
   "source": [
    "# 逐筆累計\n",
    "for idx,row in df3.iterrows():\n",
    "    calc_first_digit(benford_data, row['收支科目'],row['支出金額'])"
   ]
  },
  {
   "cell_type": "code",
   "execution_count": null,
   "id": "bf02693e-fc40-4c68-86e5-fa231dc03d8c",
   "metadata": {},
   "outputs": [],
   "source": [
    "print(benford_data)"
   ]
  },
  {
   "cell_type": "code",
   "execution_count": null,
   "id": "3fa0ce82-e8f7-40fd-9044-57df129a8717",
   "metadata": {},
   "outputs": [],
   "source": [
    "# 計算分佈\n",
    "benford_result = {}\n",
    "for name in cate:\n",
    "    benford_result[name] = np.zeros(10,dtype=float)\n",
    "    sub_total = np.sum(benford_data[name][1:10])\n",
    "    for i in range(1,10):\n",
    "        benford_result[name][i] = benford_data[name][i]/sub_total\n",
    "\n",
    "print(benford_result)"
   ]
  },
  {
   "cell_type": "code",
   "execution_count": null,
   "id": "349a539a-bc3c-4be9-8e3c-1687adeef831",
   "metadata": {},
   "outputs": [],
   "source": [
    "# 繪圖\n",
    "digits = range(1, 10)\n",
    "\n",
    "plt.plot(digits, benford_result['雜支支出'][1:10], label='雜支',color='green', marker='o', linestyle='-')\n",
    "plt.plot(digits, benford_result['人事費用支出'][1:10], label='人事',color='black', marker='s', linestyle='-')\n",
    "plt.plot(digits, benford_result['交通旅運支出'][1:10], label='交通',color='blue', marker='^', linestyle='-')\n",
    "plt.plot(digits, benford_result['宣傳支出'][1:10], label='宣傳',color='purple', marker='o', linestyle='-')\n",
    "\n",
    "plt.plot(digits, expected, label=\"班佛定律\", color='red',linestyle='-')\n",
    "\n",
    "plt.xlabel('數字')\n",
    "plt.ylabel('分佈')\n",
    "plt.title(\"班佛定律分佈 vs 政治獻金(支出)\")\n",
    "plt.legend()\n",
    "plt.grid(True)\n",
    "plt.show()"
   ]
  },
  {
   "cell_type": "markdown",
   "id": "f6c839a8-7936-40af-8af5-ababcd07b8d3",
   "metadata": {},
   "source": [
    "## 總結\n",
    "* 捐贈收入，同一般紅包，會有喜好區別，如避免 4\n",
    "* 支出較無上述現象，依上述結果，交通費可能需加重查核"
   ]
  },
  {
   "cell_type": "code",
   "execution_count": null,
   "id": "ccba95cd-d206-4db0-8dfb-04e74cdcd5a5",
   "metadata": {},
   "outputs": [],
   "source": []
  }
 ],
 "metadata": {
  "kernelspec": {
   "display_name": "Python 3 (ipykernel)",
   "language": "python",
   "name": "python3"
  },
  "language_info": {
   "codemirror_mode": {
    "name": "ipython",
    "version": 3
   },
   "file_extension": ".py",
   "mimetype": "text/x-python",
   "name": "python",
   "nbconvert_exporter": "python",
   "pygments_lexer": "ipython3",
   "version": "3.13.2"
  }
 },
 "nbformat": 4,
 "nbformat_minor": 5
}
