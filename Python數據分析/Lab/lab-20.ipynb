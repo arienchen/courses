{
 "cells": [
  {
   "cell_type": "markdown",
   "id": "7e3f1a57-a8ba-481a-ab27-d400ee6fcf3f",
   "metadata": {},
   "source": [
    "# LAB-20 班佛定律 Benford's Law\n",
    "\n",
    "**班佛定律**，也被稱為第一位數法則，是一個關於在許多真實世界數據集中，首位數字出現頻率的觀察。 簡單來說，它指出數字 1 出現為首位數字的機率約為 30%，而數字 9 出現為首位數字的機率則小於 5%。\n",
    "\n",
    "更詳細的說明：\n",
    "\n",
    "* 非均勻分佈： 與直覺相反，數字 1 到 9 並非以相同的機率作為數據集中的首位數字。\n",
    "* 對數分佈： 班佛定律指出，首位數字 d 出現的機率，可以用以下公式計算： P(d) = log10(1 + 1/d)"
   ]
  },
  {
   "cell_type": "code",
   "execution_count": 1,
   "id": "d23fc0c5-eeff-4776-aad7-6f4deccdda65",
   "metadata": {},
   "outputs": [],
   "source": [
    "import os\n",
    "import sys\n",
    "import pandas as pd \n",
    "import numpy as np\n",
    "import matplotlib\n",
    "import matplotlib.pyplot as plt"
   ]
  },
  {
   "cell_type": "code",
   "execution_count": 2,
   "id": "4bd2c750-21b0-4453-90d0-5a082e74a411",
   "metadata": {},
   "outputs": [],
   "source": [
    "# 使用前次 lab-19.csv \n",
    "data_file = \"lab-19.csv\"\n",
    "# 讀取 CSV 檔案\n",
    "df = pd.read_csv(data_file)"
   ]
  },
  {
   "cell_type": "code",
   "execution_count": 3,
   "id": "f1dd4ce0-0ea1-429c-844f-e8b3b659dc39",
   "metadata": {},
   "outputs": [],
   "source": [
    "# 設定顯示的最大欄位數\n",
    "pd.set_option('display.max_columns', None)"
   ]
  },
  {
   "cell_type": "code",
   "execution_count": 4,
   "id": "65862337-feea-439c-af4c-d88d16560d05",
   "metadata": {},
   "outputs": [
    {
     "data": {
      "text/html": [
       "<div>\n",
       "<style scoped>\n",
       "    .dataframe tbody tr th:only-of-type {\n",
       "        vertical-align: middle;\n",
       "    }\n",
       "\n",
       "    .dataframe tbody tr th {\n",
       "        vertical-align: top;\n",
       "    }\n",
       "\n",
       "    .dataframe thead th {\n",
       "        text-align: right;\n",
       "    }\n",
       "</style>\n",
       "<table border=\"1\" class=\"dataframe\">\n",
       "  <thead>\n",
       "    <tr style=\"text-align: right;\">\n",
       "      <th></th>\n",
       "      <th>選舉人</th>\n",
       "      <th>選舉名稱</th>\n",
       "      <th>收支科目</th>\n",
       "      <th>對象</th>\n",
       "      <th>ID</th>\n",
       "      <th>收入金額</th>\n",
       "      <th>支出金額</th>\n",
       "      <th>支出用途</th>\n",
       "      <th>金錢類</th>\n",
       "      <th>捐贈方式</th>\n",
       "      <th>返還/繳庫</th>\n",
       "      <th>揭露支出對象</th>\n",
       "      <th>更正註記</th>\n",
       "      <th>更正日期</th>\n",
       "      <th>收支</th>\n",
       "    </tr>\n",
       "  </thead>\n",
       "  <tbody>\n",
       "    <tr>\n",
       "      <th>0</th>\n",
       "      <td>林岱樺</td>\n",
       "      <td>113年立法委員選舉</td>\n",
       "      <td>個人捐贈收入</td>\n",
       "      <td>蔡韻秋</td>\n",
       "      <td>NaN</td>\n",
       "      <td>10000.0</td>\n",
       "      <td>0.0</td>\n",
       "      <td>NaN</td>\n",
       "      <td>金錢</td>\n",
       "      <td>匯款</td>\n",
       "      <td>NaN</td>\n",
       "      <td>NaN</td>\n",
       "      <td>NaN</td>\n",
       "      <td>NaN</td>\n",
       "      <td>收入</td>\n",
       "    </tr>\n",
       "    <tr>\n",
       "      <th>1</th>\n",
       "      <td>林岱樺</td>\n",
       "      <td>113年立法委員選舉</td>\n",
       "      <td>個人捐贈收入</td>\n",
       "      <td>王信宗</td>\n",
       "      <td>NaN</td>\n",
       "      <td>10000.0</td>\n",
       "      <td>0.0</td>\n",
       "      <td>NaN</td>\n",
       "      <td>金錢</td>\n",
       "      <td>匯款</td>\n",
       "      <td>NaN</td>\n",
       "      <td>NaN</td>\n",
       "      <td>NaN</td>\n",
       "      <td>NaN</td>\n",
       "      <td>收入</td>\n",
       "    </tr>\n",
       "    <tr>\n",
       "      <th>2</th>\n",
       "      <td>林岱樺</td>\n",
       "      <td>113年立法委員選舉</td>\n",
       "      <td>個人捐贈收入</td>\n",
       "      <td>張寶仁</td>\n",
       "      <td>NaN</td>\n",
       "      <td>10000.0</td>\n",
       "      <td>0.0</td>\n",
       "      <td>NaN</td>\n",
       "      <td>金錢</td>\n",
       "      <td>匯款</td>\n",
       "      <td>NaN</td>\n",
       "      <td>NaN</td>\n",
       "      <td>NaN</td>\n",
       "      <td>NaN</td>\n",
       "      <td>收入</td>\n",
       "    </tr>\n",
       "    <tr>\n",
       "      <th>3</th>\n",
       "      <td>林岱樺</td>\n",
       "      <td>113年立法委員選舉</td>\n",
       "      <td>個人捐贈收入</td>\n",
       "      <td>袁新民</td>\n",
       "      <td>NaN</td>\n",
       "      <td>10000.0</td>\n",
       "      <td>0.0</td>\n",
       "      <td>NaN</td>\n",
       "      <td>金錢</td>\n",
       "      <td>匯款</td>\n",
       "      <td>NaN</td>\n",
       "      <td>NaN</td>\n",
       "      <td>NaN</td>\n",
       "      <td>NaN</td>\n",
       "      <td>收入</td>\n",
       "    </tr>\n",
       "    <tr>\n",
       "      <th>4</th>\n",
       "      <td>林岱樺</td>\n",
       "      <td>113年立法委員選舉</td>\n",
       "      <td>個人捐贈收入</td>\n",
       "      <td>邱明正</td>\n",
       "      <td>T12*******</td>\n",
       "      <td>10000.0</td>\n",
       "      <td>0.0</td>\n",
       "      <td>NaN</td>\n",
       "      <td>金錢</td>\n",
       "      <td>匯款</td>\n",
       "      <td>NaN</td>\n",
       "      <td>NaN</td>\n",
       "      <td>NaN</td>\n",
       "      <td>NaN</td>\n",
       "      <td>收入</td>\n",
       "    </tr>\n",
       "    <tr>\n",
       "      <th>5</th>\n",
       "      <td>林岱樺</td>\n",
       "      <td>113年立法委員選舉</td>\n",
       "      <td>人民團體捐贈收入</td>\n",
       "      <td>社團法人高雄市醫師公會</td>\n",
       "      <td>NaN</td>\n",
       "      <td>60000.0</td>\n",
       "      <td>0.0</td>\n",
       "      <td>NaN</td>\n",
       "      <td>金錢</td>\n",
       "      <td>票據</td>\n",
       "      <td>NaN</td>\n",
       "      <td>NaN</td>\n",
       "      <td>NaN</td>\n",
       "      <td>NaN</td>\n",
       "      <td>收入</td>\n",
       "    </tr>\n",
       "    <tr>\n",
       "      <th>6</th>\n",
       "      <td>林岱樺</td>\n",
       "      <td>113年立法委員選舉</td>\n",
       "      <td>個人捐贈收入</td>\n",
       "      <td>張木村</td>\n",
       "      <td>Q10*******</td>\n",
       "      <td>20000.0</td>\n",
       "      <td>0.0</td>\n",
       "      <td>NaN</td>\n",
       "      <td>金錢</td>\n",
       "      <td>現金</td>\n",
       "      <td>NaN</td>\n",
       "      <td>NaN</td>\n",
       "      <td>NaN</td>\n",
       "      <td>NaN</td>\n",
       "      <td>收入</td>\n",
       "    </tr>\n",
       "    <tr>\n",
       "      <th>7</th>\n",
       "      <td>林岱樺</td>\n",
       "      <td>113年立法委員選舉</td>\n",
       "      <td>營利事業捐贈收入</td>\n",
       "      <td>皇華材料科技股份有限公司</td>\n",
       "      <td>75964174</td>\n",
       "      <td>200000.0</td>\n",
       "      <td>0.0</td>\n",
       "      <td>NaN</td>\n",
       "      <td>金錢</td>\n",
       "      <td>票據</td>\n",
       "      <td>NaN</td>\n",
       "      <td>NaN</td>\n",
       "      <td>NaN</td>\n",
       "      <td>NaN</td>\n",
       "      <td>收入</td>\n",
       "    </tr>\n",
       "    <tr>\n",
       "      <th>8</th>\n",
       "      <td>林岱樺</td>\n",
       "      <td>113年立法委員選舉</td>\n",
       "      <td>個人捐贈收入</td>\n",
       "      <td>蔡崇禮</td>\n",
       "      <td>E10*******</td>\n",
       "      <td>50000.0</td>\n",
       "      <td>0.0</td>\n",
       "      <td>NaN</td>\n",
       "      <td>金錢</td>\n",
       "      <td>匯款</td>\n",
       "      <td>NaN</td>\n",
       "      <td>NaN</td>\n",
       "      <td>NaN</td>\n",
       "      <td>NaN</td>\n",
       "      <td>收入</td>\n",
       "    </tr>\n",
       "    <tr>\n",
       "      <th>9</th>\n",
       "      <td>林岱樺</td>\n",
       "      <td>113年立法委員選舉</td>\n",
       "      <td>營利事業捐贈收入</td>\n",
       "      <td>竣揚工業股份有限公司</td>\n",
       "      <td>13168348</td>\n",
       "      <td>100000.0</td>\n",
       "      <td>0.0</td>\n",
       "      <td>NaN</td>\n",
       "      <td>金錢</td>\n",
       "      <td>票據</td>\n",
       "      <td>已返還</td>\n",
       "      <td>NaN</td>\n",
       "      <td>NaN</td>\n",
       "      <td>NaN</td>\n",
       "      <td>收入</td>\n",
       "    </tr>\n",
       "  </tbody>\n",
       "</table>\n",
       "</div>"
      ],
      "text/plain": [
       "   選舉人        選舉名稱      收支科目            對象          ID      收入金額  支出金額 支出用途  \\\n",
       "0  林岱樺  113年立法委員選舉    個人捐贈收入           蔡韻秋         NaN   10000.0   0.0  NaN   \n",
       "1  林岱樺  113年立法委員選舉    個人捐贈收入           王信宗         NaN   10000.0   0.0  NaN   \n",
       "2  林岱樺  113年立法委員選舉    個人捐贈收入           張寶仁         NaN   10000.0   0.0  NaN   \n",
       "3  林岱樺  113年立法委員選舉    個人捐贈收入           袁新民         NaN   10000.0   0.0  NaN   \n",
       "4  林岱樺  113年立法委員選舉    個人捐贈收入           邱明正  T12*******   10000.0   0.0  NaN   \n",
       "5  林岱樺  113年立法委員選舉  人民團體捐贈收入   社團法人高雄市醫師公會         NaN   60000.0   0.0  NaN   \n",
       "6  林岱樺  113年立法委員選舉    個人捐贈收入           張木村  Q10*******   20000.0   0.0  NaN   \n",
       "7  林岱樺  113年立法委員選舉  營利事業捐贈收入  皇華材料科技股份有限公司    75964174  200000.0   0.0  NaN   \n",
       "8  林岱樺  113年立法委員選舉    個人捐贈收入           蔡崇禮  E10*******   50000.0   0.0  NaN   \n",
       "9  林岱樺  113年立法委員選舉  營利事業捐贈收入    竣揚工業股份有限公司    13168348  100000.0   0.0  NaN   \n",
       "\n",
       "  金錢類 捐贈方式 返還/繳庫 揭露支出對象 更正註記 更正日期  收支  \n",
       "0  金錢   匯款   NaN    NaN  NaN  NaN  收入  \n",
       "1  金錢   匯款   NaN    NaN  NaN  NaN  收入  \n",
       "2  金錢   匯款   NaN    NaN  NaN  NaN  收入  \n",
       "3  金錢   匯款   NaN    NaN  NaN  NaN  收入  \n",
       "4  金錢   匯款   NaN    NaN  NaN  NaN  收入  \n",
       "5  金錢   票據   NaN    NaN  NaN  NaN  收入  \n",
       "6  金錢   現金   NaN    NaN  NaN  NaN  收入  \n",
       "7  金錢   票據   NaN    NaN  NaN  NaN  收入  \n",
       "8  金錢   匯款   NaN    NaN  NaN  NaN  收入  \n",
       "9  金錢   票據   已返還    NaN  NaN  NaN  收入  "
      ]
     },
     "execution_count": 4,
     "metadata": {},
     "output_type": "execute_result"
    }
   ],
   "source": [
    "df.head(10)"
   ]
  },
  {
   "cell_type": "markdown",
   "id": "7a531c9d-c125-4bab-bafa-7334943f9d8c",
   "metadata": {},
   "source": [
    "## 個人捐獻"
   ]
  },
  {
   "cell_type": "code",
   "execution_count": 5,
   "id": "b4538824-fcbe-4138-b181-4d4926a0e530",
   "metadata": {},
   "outputs": [
    {
     "name": "stdout",
     "output_type": "stream",
     "text": [
      "資料總筆數：\t   188,566\n",
      "個人捐贈筆數：\t    51,144\n"
     ]
    }
   ],
   "source": [
    "# 篩選 \n",
    "# [收支科目]=個人捐贈收入\n",
    "# \n",
    "df2 = df[df['收支科目'] == '個人捐贈收入'].copy()\n",
    "\n",
    "# 資料筆數\n",
    "print(f\"資料總筆數：\\t{df.shape[0]:10,d}\")\n",
    "print(f\"個人捐贈筆數：\\t{df2.shape[0]:10,d}\")"
   ]
  },
  {
   "cell_type": "code",
   "execution_count": 6,
   "id": "c668ecc2-5d0d-47f6-8fb9-44d07f482653",
   "metadata": {},
   "outputs": [
    {
     "data": {
      "text/plain": [
       "捐贈方式\n",
       "匯款    31651\n",
       "現金    18602\n",
       "票據      669\n",
       "Name: count, dtype: int64"
      ]
     },
     "execution_count": 6,
     "metadata": {},
     "output_type": "execute_result"
    }
   ],
   "source": [
    "# 筆數統計\n",
    "df2['捐贈方式'].value_counts()"
   ]
  },
  {
   "cell_type": "code",
   "execution_count": 7,
   "id": "c9ba0325-fa66-417d-8944-cc7d95ebcf7f",
   "metadata": {},
   "outputs": [
    {
     "data": {
      "text/plain": [
       "array(['匯款', '現金', '票據', nan], dtype=object)"
      ]
     },
     "execution_count": 7,
     "metadata": {},
     "output_type": "execute_result"
    }
   ],
   "source": [
    "df2['捐贈方式'].unique()"
   ]
  },
  {
   "cell_type": "code",
   "execution_count": 8,
   "id": "ee4e2bcc-9283-4f77-aa9e-fd97dac54b03",
   "metadata": {},
   "outputs": [
    {
     "data": {
      "text/html": [
       "<div>\n",
       "<style scoped>\n",
       "    .dataframe tbody tr th:only-of-type {\n",
       "        vertical-align: middle;\n",
       "    }\n",
       "\n",
       "    .dataframe tbody tr th {\n",
       "        vertical-align: top;\n",
       "    }\n",
       "\n",
       "    .dataframe thead th {\n",
       "        text-align: right;\n",
       "    }\n",
       "</style>\n",
       "<table border=\"1\" class=\"dataframe\">\n",
       "  <thead>\n",
       "    <tr style=\"text-align: right;\">\n",
       "      <th></th>\n",
       "      <th>選舉人</th>\n",
       "      <th>選舉名稱</th>\n",
       "      <th>收支科目</th>\n",
       "      <th>對象</th>\n",
       "      <th>ID</th>\n",
       "      <th>收入金額</th>\n",
       "      <th>支出金額</th>\n",
       "      <th>支出用途</th>\n",
       "      <th>金錢類</th>\n",
       "      <th>捐贈方式</th>\n",
       "      <th>返還/繳庫</th>\n",
       "      <th>揭露支出對象</th>\n",
       "      <th>更正註記</th>\n",
       "      <th>更正日期</th>\n",
       "      <th>收支</th>\n",
       "    </tr>\n",
       "  </thead>\n",
       "  <tbody>\n",
       "    <tr>\n",
       "      <th>1608</th>\n",
       "      <td>馬文君</td>\n",
       "      <td>113年立法委員選舉</td>\n",
       "      <td>個人捐贈收入</td>\n",
       "      <td>蔡永松</td>\n",
       "      <td>E10*******</td>\n",
       "      <td>100000.0</td>\n",
       "      <td>0.0</td>\n",
       "      <td>NaN</td>\n",
       "      <td>非金錢</td>\n",
       "      <td>NaN</td>\n",
       "      <td>NaN</td>\n",
       "      <td>NaN</td>\n",
       "      <td>NaN</td>\n",
       "      <td>NaN</td>\n",
       "      <td>收入</td>\n",
       "    </tr>\n",
       "    <tr>\n",
       "      <th>1662</th>\n",
       "      <td>馬文君</td>\n",
       "      <td>113年立法委員選舉</td>\n",
       "      <td>個人捐贈收入</td>\n",
       "      <td>林昀萱</td>\n",
       "      <td>M22*******</td>\n",
       "      <td>75000.0</td>\n",
       "      <td>0.0</td>\n",
       "      <td>NaN</td>\n",
       "      <td>非金錢</td>\n",
       "      <td>NaN</td>\n",
       "      <td>NaN</td>\n",
       "      <td>NaN</td>\n",
       "      <td>NaN</td>\n",
       "      <td>NaN</td>\n",
       "      <td>收入</td>\n",
       "    </tr>\n",
       "    <tr>\n",
       "      <th>1663</th>\n",
       "      <td>馬文君</td>\n",
       "      <td>113年立法委員選舉</td>\n",
       "      <td>個人捐贈收入</td>\n",
       "      <td>唐曉棻</td>\n",
       "      <td>M22*******</td>\n",
       "      <td>100000.0</td>\n",
       "      <td>0.0</td>\n",
       "      <td>NaN</td>\n",
       "      <td>非金錢</td>\n",
       "      <td>NaN</td>\n",
       "      <td>NaN</td>\n",
       "      <td>NaN</td>\n",
       "      <td>NaN</td>\n",
       "      <td>NaN</td>\n",
       "      <td>收入</td>\n",
       "    </tr>\n",
       "    <tr>\n",
       "      <th>1664</th>\n",
       "      <td>馬文君</td>\n",
       "      <td>113年立法委員選舉</td>\n",
       "      <td>個人捐贈收入</td>\n",
       "      <td>林昆熠</td>\n",
       "      <td>M12*******</td>\n",
       "      <td>100000.0</td>\n",
       "      <td>0.0</td>\n",
       "      <td>NaN</td>\n",
       "      <td>非金錢</td>\n",
       "      <td>NaN</td>\n",
       "      <td>NaN</td>\n",
       "      <td>NaN</td>\n",
       "      <td>NaN</td>\n",
       "      <td>NaN</td>\n",
       "      <td>收入</td>\n",
       "    </tr>\n",
       "    <tr>\n",
       "      <th>1675</th>\n",
       "      <td>馬文君</td>\n",
       "      <td>113年立法委員選舉</td>\n",
       "      <td>個人捐贈收入</td>\n",
       "      <td>潘素芬</td>\n",
       "      <td>M22*******</td>\n",
       "      <td>100000.0</td>\n",
       "      <td>0.0</td>\n",
       "      <td>NaN</td>\n",
       "      <td>非金錢</td>\n",
       "      <td>NaN</td>\n",
       "      <td>NaN</td>\n",
       "      <td>NaN</td>\n",
       "      <td>NaN</td>\n",
       "      <td>NaN</td>\n",
       "      <td>收入</td>\n",
       "    </tr>\n",
       "    <tr>\n",
       "      <th>...</th>\n",
       "      <td>...</td>\n",
       "      <td>...</td>\n",
       "      <td>...</td>\n",
       "      <td>...</td>\n",
       "      <td>...</td>\n",
       "      <td>...</td>\n",
       "      <td>...</td>\n",
       "      <td>...</td>\n",
       "      <td>...</td>\n",
       "      <td>...</td>\n",
       "      <td>...</td>\n",
       "      <td>...</td>\n",
       "      <td>...</td>\n",
       "      <td>...</td>\n",
       "      <td>...</td>\n",
       "    </tr>\n",
       "    <tr>\n",
       "      <th>185836</th>\n",
       "      <td>李全教</td>\n",
       "      <td>113年立法委員選舉</td>\n",
       "      <td>個人捐贈收入</td>\n",
       "      <td>楊玉秀</td>\n",
       "      <td>R22*******</td>\n",
       "      <td>59000.0</td>\n",
       "      <td>0.0</td>\n",
       "      <td>NaN</td>\n",
       "      <td>非金錢</td>\n",
       "      <td>NaN</td>\n",
       "      <td>NaN</td>\n",
       "      <td>NaN</td>\n",
       "      <td>NaN</td>\n",
       "      <td>NaN</td>\n",
       "      <td>收入</td>\n",
       "    </tr>\n",
       "    <tr>\n",
       "      <th>185885</th>\n",
       "      <td>李全教</td>\n",
       "      <td>113年立法委員選舉</td>\n",
       "      <td>個人捐贈收入</td>\n",
       "      <td>鄭添舜</td>\n",
       "      <td>R12*******</td>\n",
       "      <td>60000.0</td>\n",
       "      <td>0.0</td>\n",
       "      <td>NaN</td>\n",
       "      <td>非金錢</td>\n",
       "      <td>NaN</td>\n",
       "      <td>NaN</td>\n",
       "      <td>NaN</td>\n",
       "      <td>NaN</td>\n",
       "      <td>NaN</td>\n",
       "      <td>收入</td>\n",
       "    </tr>\n",
       "    <tr>\n",
       "      <th>186036</th>\n",
       "      <td>李全教</td>\n",
       "      <td>113年立法委員選舉</td>\n",
       "      <td>個人捐贈收入</td>\n",
       "      <td>鄭智鍟</td>\n",
       "      <td>R12*******</td>\n",
       "      <td>12000.0</td>\n",
       "      <td>0.0</td>\n",
       "      <td>NaN</td>\n",
       "      <td>非金錢</td>\n",
       "      <td>NaN</td>\n",
       "      <td>NaN</td>\n",
       "      <td>NaN</td>\n",
       "      <td>NaN</td>\n",
       "      <td>NaN</td>\n",
       "      <td>收入</td>\n",
       "    </tr>\n",
       "    <tr>\n",
       "      <th>186037</th>\n",
       "      <td>李全教</td>\n",
       "      <td>113年立法委員選舉</td>\n",
       "      <td>個人捐贈收入</td>\n",
       "      <td>鄭智鍟</td>\n",
       "      <td>R12*******</td>\n",
       "      <td>24000.0</td>\n",
       "      <td>0.0</td>\n",
       "      <td>NaN</td>\n",
       "      <td>非金錢</td>\n",
       "      <td>NaN</td>\n",
       "      <td>NaN</td>\n",
       "      <td>NaN</td>\n",
       "      <td>NaN</td>\n",
       "      <td>NaN</td>\n",
       "      <td>收入</td>\n",
       "    </tr>\n",
       "    <tr>\n",
       "      <th>186165</th>\n",
       "      <td>李全教</td>\n",
       "      <td>113年立法委員選舉</td>\n",
       "      <td>個人捐贈收入</td>\n",
       "      <td>郭靜潓</td>\n",
       "      <td>R22*******</td>\n",
       "      <td>21600.0</td>\n",
       "      <td>0.0</td>\n",
       "      <td>NaN</td>\n",
       "      <td>非金錢</td>\n",
       "      <td>NaN</td>\n",
       "      <td>NaN</td>\n",
       "      <td>NaN</td>\n",
       "      <td>NaN</td>\n",
       "      <td>NaN</td>\n",
       "      <td>收入</td>\n",
       "    </tr>\n",
       "  </tbody>\n",
       "</table>\n",
       "<p>222 rows × 15 columns</p>\n",
       "</div>"
      ],
      "text/plain": [
       "        選舉人        選舉名稱    收支科目   對象          ID      收入金額  支出金額 支出用途  金錢類  \\\n",
       "1608    馬文君  113年立法委員選舉  個人捐贈收入  蔡永松  E10*******  100000.0   0.0  NaN  非金錢   \n",
       "1662    馬文君  113年立法委員選舉  個人捐贈收入  林昀萱  M22*******   75000.0   0.0  NaN  非金錢   \n",
       "1663    馬文君  113年立法委員選舉  個人捐贈收入  唐曉棻  M22*******  100000.0   0.0  NaN  非金錢   \n",
       "1664    馬文君  113年立法委員選舉  個人捐贈收入  林昆熠  M12*******  100000.0   0.0  NaN  非金錢   \n",
       "1675    馬文君  113年立法委員選舉  個人捐贈收入  潘素芬  M22*******  100000.0   0.0  NaN  非金錢   \n",
       "...     ...         ...     ...  ...         ...       ...   ...  ...  ...   \n",
       "185836  李全教  113年立法委員選舉  個人捐贈收入  楊玉秀  R22*******   59000.0   0.0  NaN  非金錢   \n",
       "185885  李全教  113年立法委員選舉  個人捐贈收入  鄭添舜  R12*******   60000.0   0.0  NaN  非金錢   \n",
       "186036  李全教  113年立法委員選舉  個人捐贈收入  鄭智鍟  R12*******   12000.0   0.0  NaN  非金錢   \n",
       "186037  李全教  113年立法委員選舉  個人捐贈收入  鄭智鍟  R12*******   24000.0   0.0  NaN  非金錢   \n",
       "186165  李全教  113年立法委員選舉  個人捐贈收入  郭靜潓  R22*******   21600.0   0.0  NaN  非金錢   \n",
       "\n",
       "       捐贈方式 返還/繳庫 揭露支出對象 更正註記 更正日期  收支  \n",
       "1608    NaN   NaN    NaN  NaN  NaN  收入  \n",
       "1662    NaN   NaN    NaN  NaN  NaN  收入  \n",
       "1663    NaN   NaN    NaN  NaN  NaN  收入  \n",
       "1664    NaN   NaN    NaN  NaN  NaN  收入  \n",
       "1675    NaN   NaN    NaN  NaN  NaN  收入  \n",
       "...     ...   ...    ...  ...  ...  ..  \n",
       "185836  NaN   NaN    NaN  NaN  NaN  收入  \n",
       "185885  NaN   NaN    NaN  NaN  NaN  收入  \n",
       "186036  NaN   NaN    NaN  NaN  NaN  收入  \n",
       "186037  NaN   NaN    NaN  NaN  NaN  收入  \n",
       "186165  NaN   NaN    NaN  NaN  NaN  收入  \n",
       "\n",
       "[222 rows x 15 columns]"
      ]
     },
     "execution_count": 8,
     "metadata": {},
     "output_type": "execute_result"
    }
   ],
   "source": [
    "df2[df2[\"捐贈方式\"].isnull()]"
   ]
  },
  {
   "cell_type": "code",
   "execution_count": 9,
   "id": "47b2e171-43a7-4918-81b7-38a7a0bb5f76",
   "metadata": {},
   "outputs": [
    {
     "data": {
      "text/plain": [
       "array(['匯款', '現金', '票據', '其他'], dtype=object)"
      ]
     },
     "execution_count": 9,
     "metadata": {},
     "output_type": "execute_result"
    }
   ],
   "source": [
    "# 將空值 置換為 其他\n",
    "df2['捐贈方式'] = df2['捐贈方式'].fillna(\"其他\")\n",
    "df2['捐贈方式'].unique()"
   ]
  },
  {
   "cell_type": "code",
   "execution_count": 10,
   "id": "68f58be4-bf8a-476a-a857-4258bbf1ea49",
   "metadata": {},
   "outputs": [],
   "source": [
    "# Benford's Law 預期的第一個數字分佈\n",
    "# 作為繪圖的基礎線\n",
    "def benford_distribution():\n",
    "    return [np.log10(1 + 1 / d) for d in range(1, 10)]"
   ]
  },
  {
   "cell_type": "code",
   "execution_count": 11,
   "id": "4387b9ca-27b8-4f30-b955-de5be1a65a47",
   "metadata": {},
   "outputs": [],
   "source": [
    "# 統計第一個數字的計數\n",
    "def calc_first_digit(result, name, amt_val):\n",
    "    #print(name,amt_val)\n",
    "    d = int(str(abs(amt_val))[0])                    # 若不考慮負數，則需資料清理\n",
    "    result[name][d] += 1    "
   ]
  },
  {
   "cell_type": "code",
   "execution_count": 12,
   "id": "c5ed5015-4c44-44a6-bf8d-73d2cc521b3a",
   "metadata": {},
   "outputs": [],
   "source": [
    "# 建立一個長度為10的整數陣列，儲存 0-9 數字的累計\n",
    "cate = df2['捐贈方式'].unique()\n",
    "benford_data = {}\n",
    "for c in cate:\n",
    "    benford_data[c] = np.zeros(10,dtype=int)"
   ]
  },
  {
   "cell_type": "code",
   "execution_count": 13,
   "id": "081cd12f-8404-48b0-a188-a60880121b53",
   "metadata": {},
   "outputs": [],
   "source": [
    "# 逐筆累計\n",
    "for idx,row in df2.iterrows():\n",
    "    calc_first_digit(benford_data,row['捐贈方式'], row['收入金額'])"
   ]
  },
  {
   "cell_type": "code",
   "execution_count": 14,
   "id": "ad1de9af-284f-4556-bf34-3b127fa17692",
   "metadata": {},
   "outputs": [
    {
     "name": "stdout",
     "output_type": "stream",
     "text": [
      "{'匯款': array([    0, 14574,  5080,  3593,   340,  5910,  1371,   175,   412,\n",
      "         196]), '現金': array([   0, 9808, 3359, 1550,  180, 2559,  830,   61,  193,   62]), '票據': array([  0, 413,  61,  47,   2, 123,  16,   0,   5,   2]), '其他': array([  0, 105,  18,  14,   8,  28,  16,   8,   8,  17])}\n"
     ]
    }
   ],
   "source": [
    "# 檢視 Ben's Ford Law Data\n",
    "print(benford_data)"
   ]
  },
  {
   "cell_type": "code",
   "execution_count": 15,
   "id": "77ef8a48-8655-4321-9806-89b5993dfcb8",
   "metadata": {},
   "outputs": [
    {
     "name": "stdout",
     "output_type": "stream",
     "text": [
      "{'匯款': array([0.        , 0.46045939, 0.16050046, 0.11351932, 0.01074216,\n",
      "       0.18672396, 0.04331617, 0.00552905, 0.01301697, 0.00619254]), '現金': array([0.        , 0.52725513, 0.18057198, 0.08332437, 0.00967638,\n",
      "       0.13756585, 0.04461886, 0.00327922, 0.01037523, 0.00333297]), '票據': array([0.        , 0.61733931, 0.09118087, 0.07025411, 0.00298954,\n",
      "       0.1838565 , 0.02391629, 0.        , 0.00747384, 0.00298954]), '其他': array([0.        , 0.47297297, 0.08108108, 0.06306306, 0.03603604,\n",
      "       0.12612613, 0.07207207, 0.03603604, 0.03603604, 0.07657658])}\n"
     ]
    }
   ],
   "source": [
    "# 計算分佈\n",
    "benford_result = {}\n",
    "for name in cate:\n",
    "    benford_result[name] = np.zeros(10,dtype=float)\n",
    "    sub_total = np.sum(benford_data[name][1:10])\n",
    "    for i in range(1,10):\n",
    "        benford_result[name][i] = benford_data[name][i]/sub_total\n",
    "\n",
    "print(benford_result)"
   ]
  },
  {
   "cell_type": "code",
   "execution_count": 16,
   "id": "fafa9554-d6fb-4076-8880-4dfb9ae7808d",
   "metadata": {},
   "outputs": [],
   "source": [
    "# 班佛定律理論值\n",
    "expected = benford_distribution()"
   ]
  },
  {
   "cell_type": "code",
   "execution_count": 17,
   "id": "4380d3ec-4444-44e9-83c2-685619c89577",
   "metadata": {},
   "outputs": [],
   "source": [
    "# 繪圖中文字型\n",
    "# 設定中文字型\n",
    "# 依不同平台 (Windows/Mac) 需設定不同中文字型\n",
    "\n",
    "if sys.platform == \"win32\":\n",
    "    # Windows \n",
    "    plt.rcParams['font.family'] = 'Microsoft JhengHei'\n",
    "elif sys.platform == \"darwin\":\n",
    "    plt.rcParams['font.family'] = 'Heiti TC' \n",
    "else:\n",
    "    assert \"未知作業系統\""
   ]
  },
  {
   "cell_type": "code",
   "execution_count": 18,
   "id": "182e3661-1666-48d0-8b8c-172f7609edd2",
   "metadata": {},
   "outputs": [
    {
     "data": {
      "image/png": "[encoded data removed]",
      "text/plain": [
       "<Figure size 640x480 with 1 Axes>"
      ]
     },
     "metadata": {},
     "output_type": "display_data"
    }
   ],
   "source": [
    "# 繪圖\n",
    "digits = range(1, 10)\n",
    "\n",
    "plt.plot(digits, benford_result['匯款'][1:10], label='匯款',color='green', marker='o', linestyle='-')\n",
    "plt.plot(digits, benford_result['現金'][1:10], label='現金',color='black', marker='s', linestyle='-')\n",
    "plt.plot(digits, benford_result['票據'][1:10], label='票據',color='blue', marker='^', linestyle='-')\n",
    "plt.plot(digits, benford_result['其他'][1:10], label='其他',color='purple', marker='*', linestyle='-')\n",
    "\n",
    "plt.plot(digits, expected, label=\"班佛定律\", color='red',linestyle='-')\n",
    "\n",
    "plt.xlabel('數字')\n",
    "plt.ylabel('分佈')\n",
    "plt.title(\"班佛定律分佈 vs 政治獻金(個人捐贈)\")\n",
    "plt.legend()\n",
    "plt.grid(True)\n",
    "plt.show()"
   ]
  },
  {
   "cell_type": "markdown",
   "id": "9481159e-9edb-4145-af78-da203229768e",
   "metadata": {},
   "source": [
    "## 費用支出"
   ]
  },
  {
   "cell_type": "code",
   "execution_count": 19,
   "id": "34553b2b-e4e5-4c44-a8b8-5d8a141ca35d",
   "metadata": {},
   "outputs": [
    {
     "name": "stdout",
     "output_type": "stream",
     "text": [
      "資料總筆數：\t   188,566\n",
      "支出筆數：\t   119,099\n"
     ]
    }
   ],
   "source": [
    "# 篩選 \n",
    "# [收支]=支出\n",
    "# \n",
    "df3 = df[df[\"收支\"] == \"支出\"].copy()\n",
    "\n",
    "# 資料筆數\n",
    "print(f\"資料總筆數：\\t{df.shape[0]:10,d}\")\n",
    "print(f\"支出筆數：\\t{df3.shape[0]:10,d}\")"
   ]
  },
  {
   "cell_type": "code",
   "execution_count": 20,
   "id": "c66143c0-6274-4918-aa02-0bc2c6e5967f",
   "metadata": {},
   "outputs": [
    {
     "data": {
      "text/plain": [
       "收支科目\n",
       "雜支支出         46832\n",
       "人事費用支出       20304\n",
       "交通旅運支出       18655\n",
       "宣傳支出         15761\n",
       "集會支出          8077\n",
       "租用宣傳車輛支出      4271\n",
       "公共關係費用支出      3015\n",
       "租用競選辦事處支出     1345\n",
       "返還捐贈支出         815\n",
       "繳庫支出            24\n",
       "Name: count, dtype: int64"
      ]
     },
     "execution_count": 20,
     "metadata": {},
     "output_type": "execute_result"
    }
   ],
   "source": [
    "df3[\"收支科目\"].value_counts()"
   ]
  },
  {
   "cell_type": "code",
   "execution_count": 21,
   "id": "184c0468-9fcd-44f6-a65c-ca974b294481",
   "metadata": {},
   "outputs": [],
   "source": [
    "# 只分析前四項： 雜支支出, 人事費用支出, 交通旅運支出, 宣傳支出\n",
    "cate = ['雜支支出','人事費用支出','交通旅運支出','宣傳支出']\n",
    "df3 = df3[df3['收支科目'].isin(cate)]"
   ]
  },
  {
   "cell_type": "code",
   "execution_count": 22,
   "id": "1447a7cb-f8c1-4158-9afe-9546c0b632cc",
   "metadata": {},
   "outputs": [
    {
     "data": {
      "text/html": [
       "<div>\n",
       "<style scoped>\n",
       "    .dataframe tbody tr th:only-of-type {\n",
       "        vertical-align: middle;\n",
       "    }\n",
       "\n",
       "    .dataframe tbody tr th {\n",
       "        vertical-align: top;\n",
       "    }\n",
       "\n",
       "    .dataframe thead th {\n",
       "        text-align: right;\n",
       "    }\n",
       "</style>\n",
       "<table border=\"1\" class=\"dataframe\">\n",
       "  <thead>\n",
       "    <tr style=\"text-align: right;\">\n",
       "      <th></th>\n",
       "      <th>選舉人</th>\n",
       "      <th>選舉名稱</th>\n",
       "      <th>收支科目</th>\n",
       "      <th>對象</th>\n",
       "      <th>ID</th>\n",
       "      <th>收入金額</th>\n",
       "      <th>支出金額</th>\n",
       "      <th>支出用途</th>\n",
       "      <th>金錢類</th>\n",
       "      <th>捐贈方式</th>\n",
       "      <th>返還/繳庫</th>\n",
       "      <th>揭露支出對象</th>\n",
       "      <th>更正註記</th>\n",
       "      <th>更正日期</th>\n",
       "      <th>收支</th>\n",
       "    </tr>\n",
       "  </thead>\n",
       "  <tbody>\n",
       "    <tr>\n",
       "      <th>22267</th>\n",
       "      <td>鍾佳濱</td>\n",
       "      <td>113年立法委員選舉</td>\n",
       "      <td>雜支支出</td>\n",
       "      <td>裕順請帖印刷燙金社</td>\n",
       "      <td>21679060</td>\n",
       "      <td>0.0</td>\n",
       "      <td>-20000.0</td>\n",
       "      <td>瓶裝水棧板押金</td>\n",
       "      <td>金錢</td>\n",
       "      <td>NaN</td>\n",
       "      <td>NaN</td>\n",
       "      <td>否</td>\n",
       "      <td>NaN</td>\n",
       "      <td>NaN</td>\n",
       "      <td>支出</td>\n",
       "    </tr>\n",
       "    <tr>\n",
       "      <th>22360</th>\n",
       "      <td>鍾佳濱</td>\n",
       "      <td>113年立法委員選舉</td>\n",
       "      <td>宣傳支出</td>\n",
       "      <td>道格廣告企業社</td>\n",
       "      <td>99246738</td>\n",
       "      <td>0.0</td>\n",
       "      <td>-730.0</td>\n",
       "      <td>製作競選物品或宣傳廣告費用</td>\n",
       "      <td>金錢</td>\n",
       "      <td>NaN</td>\n",
       "      <td>NaN</td>\n",
       "      <td>否</td>\n",
       "      <td>NaN</td>\n",
       "      <td>NaN</td>\n",
       "      <td>支出</td>\n",
       "    </tr>\n",
       "    <tr>\n",
       "      <th>26053</th>\n",
       "      <td>郭國文</td>\n",
       "      <td>113年立法委員選舉</td>\n",
       "      <td>宣傳支出</td>\n",
       "      <td>南天有線電視股份有限公司</td>\n",
       "      <td>89407740</td>\n",
       "      <td>0.0</td>\n",
       "      <td>-14286.0</td>\n",
       "      <td>播放、傳送或刊登宣傳廣告費用</td>\n",
       "      <td>金錢</td>\n",
       "      <td>NaN</td>\n",
       "      <td>NaN</td>\n",
       "      <td>否</td>\n",
       "      <td>NaN</td>\n",
       "      <td>NaN</td>\n",
       "      <td>支出</td>\n",
       "    </tr>\n",
       "    <tr>\n",
       "      <th>26088</th>\n",
       "      <td>郭國文</td>\n",
       "      <td>113年立法委員選舉</td>\n",
       "      <td>人事費用支出</td>\n",
       "      <td>林忠和</td>\n",
       "      <td>Q12*******</td>\n",
       "      <td>0.0</td>\n",
       "      <td>-6000.0</td>\n",
       "      <td>其他因工作酬勞之給付</td>\n",
       "      <td>金錢</td>\n",
       "      <td>NaN</td>\n",
       "      <td>NaN</td>\n",
       "      <td>否</td>\n",
       "      <td>NaN</td>\n",
       "      <td>NaN</td>\n",
       "      <td>支出</td>\n",
       "    </tr>\n",
       "    <tr>\n",
       "      <th>26124</th>\n",
       "      <td>郭國文</td>\n",
       "      <td>113年立法委員選舉</td>\n",
       "      <td>雜支支出</td>\n",
       "      <td>捷報無線通訊器材行</td>\n",
       "      <td>19701946</td>\n",
       "      <td>0.0</td>\n",
       "      <td>-2500.0</td>\n",
       "      <td>雜項購置或修繕費用</td>\n",
       "      <td>金錢</td>\n",
       "      <td>NaN</td>\n",
       "      <td>NaN</td>\n",
       "      <td>否</td>\n",
       "      <td>NaN</td>\n",
       "      <td>NaN</td>\n",
       "      <td>支出</td>\n",
       "    </tr>\n",
       "  </tbody>\n",
       "</table>\n",
       "</div>"
      ],
      "text/plain": [
       "       選舉人        選舉名稱    收支科目            對象          ID  收入金額     支出金額  \\\n",
       "22267  鍾佳濱  113年立法委員選舉    雜支支出     裕順請帖印刷燙金社    21679060   0.0 -20000.0   \n",
       "22360  鍾佳濱  113年立法委員選舉    宣傳支出       道格廣告企業社    99246738   0.0   -730.0   \n",
       "26053  郭國文  113年立法委員選舉    宣傳支出  南天有線電視股份有限公司    89407740   0.0 -14286.0   \n",
       "26088  郭國文  113年立法委員選舉  人事費用支出           林忠和  Q12*******   0.0  -6000.0   \n",
       "26124  郭國文  113年立法委員選舉    雜支支出     捷報無線通訊器材行    19701946   0.0  -2500.0   \n",
       "\n",
       "                 支出用途 金錢類 捐贈方式 返還/繳庫 揭露支出對象 更正註記 更正日期  收支  \n",
       "22267         瓶裝水棧板押金  金錢  NaN   NaN      否  NaN  NaN  支出  \n",
       "22360   製作競選物品或宣傳廣告費用  金錢  NaN   NaN      否  NaN  NaN  支出  \n",
       "26053  播放、傳送或刊登宣傳廣告費用  金錢  NaN   NaN      否  NaN  NaN  支出  \n",
       "26088      其他因工作酬勞之給付  金錢  NaN   NaN      否  NaN  NaN  支出  \n",
       "26124       雜項購置或修繕費用  金錢  NaN   NaN      否  NaN  NaN  支出  "
      ]
     },
     "execution_count": 22,
     "metadata": {},
     "output_type": "execute_result"
    }
   ],
   "source": [
    "# 支出金額有負值\n",
    "df3[df3['支出金額'] <= 0].head()"
   ]
  },
  {
   "cell_type": "code",
   "execution_count": 23,
   "id": "a402ca0a-b054-42f2-aaa7-c84ef2acf6da",
   "metadata": {},
   "outputs": [
    {
     "data": {
      "text/plain": [
       "['雜支支出', '人事費用支出', '交通旅運支出', '宣傳支出']"
      ]
     },
     "metadata": {},
     "output_type": "display_data"
    }
   ],
   "source": [
    "# 建立一個長度為10的整數陣列，儲存 0-9 數字的累計\n",
    "display(cate)\n",
    "benford_data = {}\n",
    "for name in cate:\n",
    "    benford_data[name] = np.zeros(10,dtype=int)"
   ]
  },
  {
   "cell_type": "code",
   "execution_count": 24,
   "id": "6d4a48cf-e032-4251-9077-a7c2dd674848",
   "metadata": {},
   "outputs": [
    {
     "data": {
      "text/plain": [
       "收支科目\n",
       "雜支支出      46832\n",
       "人事費用支出    20304\n",
       "交通旅運支出    18655\n",
       "宣傳支出      15761\n",
       "Name: count, dtype: int64"
      ]
     },
     "execution_count": 24,
     "metadata": {},
     "output_type": "execute_result"
    }
   ],
   "source": [
    "df3[\"收支科目\"].value_counts()"
   ]
  },
  {
   "cell_type": "code",
   "execution_count": 25,
   "id": "d9ca1246-5a74-4356-9755-be2e93c46078",
   "metadata": {},
   "outputs": [],
   "source": [
    "# 逐筆累計\n",
    "for idx,row in df3.iterrows():\n",
    "    calc_first_digit(benford_data, row['收支科目'],row['支出金額'])"
   ]
  },
  {
   "cell_type": "code",
   "execution_count": 26,
   "id": "bf02693e-fc40-4c68-86e5-fa231dc03d8c",
   "metadata": {},
   "outputs": [
    {
     "name": "stdout",
     "output_type": "stream",
     "text": [
      "{'雜支支出': array([    0, 14509,  7676,  6276,  4312,  3634,  3188,  2569,  2360,\n",
      "        2308]), '人事費用支出': array([   0, 6593, 3679, 2810, 1800, 2114, 1437,  674,  687,  510]), '交通旅運支出': array([   0, 9494, 1875, 1294,  831, 1131,  898, 1048,  966, 1118]), '宣傳支出': array([   0, 4295, 2786, 2009, 1492, 1652, 1021,  780,  843,  883])}\n"
     ]
    }
   ],
   "source": [
    "print(benford_data)"
   ]
  },
  {
   "cell_type": "code",
   "execution_count": 27,
   "id": "3fa0ce82-e8f7-40fd-9044-57df129a8717",
   "metadata": {},
   "outputs": [
    {
     "name": "stdout",
     "output_type": "stream",
     "text": [
      "{'雜支支出': array([0.        , 0.30980953, 0.16390502, 0.13401093, 0.0920738 ,\n",
      "       0.07759652, 0.06807311, 0.05485565, 0.05039289, 0.04928254]), '人事費用支出': array([0.        , 0.32471434, 0.18119582, 0.13839638, 0.08865248,\n",
      "       0.10411742, 0.07077423, 0.03319543, 0.0338357 , 0.0251182 ]), '交通旅運支出': array([0.        , 0.50892522, 0.10050925, 0.06936478, 0.0445457 ,\n",
      "       0.06062718, 0.04813723, 0.05617797, 0.05178236, 0.05993031]), '宣傳支出': array([0.        , 0.27250809, 0.17676543, 0.12746653, 0.09466404,\n",
      "       0.10481568, 0.06478015, 0.04948925, 0.05348645, 0.05602436])}\n"
     ]
    }
   ],
   "source": [
    "# 計算分佈\n",
    "benford_result = {}\n",
    "for name in cate:\n",
    "    benford_result[name] = np.zeros(10,dtype=float)\n",
    "    sub_total = np.sum(benford_data[name][1:10])\n",
    "    for i in range(1,10):\n",
    "        benford_result[name][i] = benford_data[name][i]/sub_total\n",
    "\n",
    "print(benford_result)"
   ]
  },
  {
   "cell_type": "code",
   "execution_count": 28,
   "id": "349a539a-bc3c-4be9-8e3c-1687adeef831",
   "metadata": {},
   "outputs": [
    {
     "data": {
      "image/png": "[encoded data removed]",
      "text/plain": [
       "<Figure size 640x480 with 1 Axes>"
      ]
     },
     "metadata": {},
     "output_type": "display_data"
    }
   ],
   "source": [
    "# 繪圖\n",
    "digits = range(1, 10)\n",
    "\n",
    "plt.plot(digits, benford_result['雜支支出'][1:10], label='雜支',color='green', marker='o', linestyle='-')\n",
    "plt.plot(digits, benford_result['人事費用支出'][1:10], label='人事',color='black', marker='s', linestyle='-')\n",
    "plt.plot(digits, benford_result['交通旅運支出'][1:10], label='交通',color='blue', marker='^', linestyle='-')\n",
    "plt.plot(digits, benford_result['宣傳支出'][1:10], label='宣傳',color='purple', marker='o', linestyle='-')\n",
    "\n",
    "plt.plot(digits, expected, label=\"班佛定律\", color='red',linestyle='-')\n",
    "\n",
    "plt.xlabel('數字')\n",
    "plt.ylabel('分佈')\n",
    "plt.title(\"班佛定律分佈 vs 政治獻金(支出)\")\n",
    "plt.legend()\n",
    "plt.grid(True)\n",
    "plt.show()"
   ]
  },
  {
   "cell_type": "markdown",
   "id": "f6c839a8-7936-40af-8af5-ababcd07b8d3",
   "metadata": {},
   "source": [
    "## 總結\n",
    "* 捐贈收入，同一般紅包，會有喜好區別，如避免 4\n",
    "* 支出較無上述現象，依上述結果，交通費可能需加重查核"
   ]
  },
  {
   "cell_type": "code",
   "execution_count": null,
   "id": "ccba95cd-d206-4db0-8dfb-04e74cdcd5a5",
   "metadata": {},
   "outputs": [],
   "source": []
  }
 ],
 "metadata": {
  "kernelspec": {
   "display_name": "Python 3 (ipykernel)",
   "language": "python",
   "name": "python3"
  },
  "language_info": {
   "codemirror_mode": {
    "name": "ipython",
    "version": 3
   },
   "file_extension": ".py",
   "mimetype": "text/x-python",
   "name": "python",
   "nbconvert_exporter": "python",
   "pygments_lexer": "ipython3",
   "version": "3.13.2"
  }
 },
 "nbformat": 4,
 "nbformat_minor": 5
}
