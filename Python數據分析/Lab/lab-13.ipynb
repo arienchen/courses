{
 "cells": [
  {
   "cell_type": "markdown",
   "id": "9cd123c7-bd6e-4cfd-925d-c747e8cede9e",
   "metadata": {},
   "source": [
    "# LAB-13 模組 import, from, as\n",
    "在 Python 中，`import`、`from` 和 `as` 是用來導入模組或套件的關鍵字\n",
    "\n",
    "|語法|說明|\n",
    "|---|---------|\n",
    "|import 模組|導入整個模組，使用時需加前綴|\n",
    "|from 模組 import 成員|只導入特定成員，使用時無需前綴|\n",
    "|from 模組 import *|導入所有成員，容易發生名稱衝突，不建議使用|\n",
    "|import 模組 as 別名|將模組取別名，適用於名稱較長的模組|\n",
    "|from 模組 import 成員 as 別名|給特定成員取別名，方便使用|\n",
    "\n",
    "\n",
    "**建議**  \n",
    "+ Python 內建模組可沿用，不需別名\n",
    "+ 第三分模組取別名，以避免名稱衝突\n",
    "\n",
    "**不建議** \n",
    "+ `import *` 導入整個模組\n",
    "+ 函式或變數取別名，影響其他人檢視程式\n"
   ]
  },
  {
   "cell_type": "markdown",
   "id": "82b69a20-d3e4-4426-9712-b183195777a5",
   "metadata": {},
   "source": [
    "## 1.導入整個模組：import \n",
    "**語法**  \n",
    "```python\n",
    "# 導入一個模組\n",
    "import 模組名稱\n",
    "\n",
    "# 導入多個模組，以 , 區隔\n",
    "import 模組1, 模組2\n",
    "```\n"
   ]
  },
  {
   "cell_type": "code",
   "execution_count": 1,
   "id": "d92da349-4115-4c1e-b853-c7394b125888",
   "metadata": {},
   "outputs": [
    {
     "name": "stdout",
     "output_type": "stream",
     "text": [
      "4.0\n",
      "posix\n",
      "3.13.2 | packaged by conda-forge | (main, Feb 17 2025, 14:02:48) [Clang 18.1.8 ]\n"
     ]
    }
   ],
   "source": [
    "import math\n",
    "print(math.sqrt(16))                             # 4.0\n",
    "\n",
    "import os, sys\n",
    "print(os.name)\n",
    "print(sys.version)\n"
   ]
  },
  {
   "cell_type": "markdown",
   "id": "e7817659-57a3-4772-97af-8476ce8f0cbc",
   "metadata": {},
   "source": [
    "## 2.從模組中導入特定函式或變數\n",
    "**語法**  \n",
    "```python\n",
    "from 模組名稱 import 函式或變數名稱\n",
    "```"
   ]
  },
  {
   "cell_type": "code",
   "execution_count": 2,
   "id": "99959e11-1a98-44b1-ad00-a6966d34b414",
   "metadata": {},
   "outputs": [
    {
     "name": "stdout",
     "output_type": "stream",
     "text": [
      "4.0\n"
     ]
    }
   ],
   "source": [
    "from math import sqrt\n",
    "print(sqrt(16))                                  # 4.0\n"
   ]
  },
  {
   "cell_type": "markdown",
   "id": "f9fd58ca-41cf-4044-be16-eac08e0a89f4",
   "metadata": {},
   "source": [
    "## 3.導入模組內所有函式與變數（不推薦）\n",
    "**語法**\n",
    "```python\n",
    "from 模組名稱 import *\n",
    "```\n",
    "\n",
    "> 這種方式容易與其他模組的名稱衝突，建議只在必要時使用。"
   ]
  },
  {
   "cell_type": "code",
   "execution_count": 3,
   "id": "f9be49f5-1e4a-4832-9460-a03c69b832f5",
   "metadata": {},
   "outputs": [
    {
     "name": "stdout",
     "output_type": "stream",
     "text": [
      "0.0015926529164868282\n",
      "3.141592653589793\n"
     ]
    }
   ],
   "source": [
    "from math import *\n",
    "print(sin(3.14))                                 # 近似於 0.00159\n",
    "print(pi)                                        # 3.141592653589793\n"
   ]
  },
  {
   "cell_type": "markdown",
   "id": "fb4654f7-fe60-46a8-a274-5da8487f7dc1",
   "metadata": {},
   "source": [
    "## 4.給模組或函式取別名\n",
    "**語法**\n",
    "```python\n",
    "import 模組名稱 as 別名\n",
    "\n",
    "from 模組名稱 import 函式或變數名稱 as 別名\n",
    "\n",
    "```"
   ]
  },
  {
   "cell_type": "code",
   "execution_count": 4,
   "id": "29c8fd85-a1e5-4e32-a5de-594f0ffbf2e3",
   "metadata": {},
   "outputs": [
    {
     "name": "stdout",
     "output_type": "stream",
     "text": [
      "[1 2 3]\n",
      "5.0\n"
     ]
    }
   ],
   "source": [
    "import numpy as np\n",
    "print(np.array([1, 2, 3]))\n",
    "\n",
    "from math import sqrt as sq\n",
    "print(sq(25))  # 5.0\n"
   ]
  },
  {
   "cell_type": "code",
   "execution_count": 1,
   "id": "77d30a5d-6ae1-4f07-b669-b11cdaed57e5",
   "metadata": {},
   "outputs": [
    {
     "name": "stdout",
     "output_type": "stream",
     "text": [
      "# packages in environment at /opt/homebrew/Caskroom/miniforge/base/envs/python-dev:\n",
      "#\n",
      "# Name                    Version                   Build  Channel\n",
      "rich                      13.9.4             pyhd8ed1ab_1    conda-forge\n"
     ]
    }
   ],
   "source": [
    "!conda list rich "
   ]
  },
  {
   "cell_type": "code",
   "execution_count": 2,
   "id": "4bf5db73-c675-4e8f-96d5-bc4cd71aa489",
   "metadata": {},
   "outputs": [],
   "source": [
    "from rich import print "
   ]
  },
  {
   "cell_type": "code",
   "execution_count": 4,
   "id": "f473db3c-6ecc-4f1c-84cc-df7b741a3590",
   "metadata": {},
   "outputs": [
    {
     "data": {
      "text/html": [
       "<pre style=\"white-space:pre;overflow-x:auto;line-height:normal;font-family:Menlo,'DejaVu Sans Mono',consolas,'Courier New',monospace\"><span style=\"color: #800000; text-decoration-color: #800000\">紅色</span>\n",
       "</pre>\n"
      ],
      "text/plain": [
       "\u001b[31m紅色\u001b[0m\n"
      ]
     },
     "metadata": {},
     "output_type": "display_data"
    }
   ],
   "source": [
    "print(\"[red]紅色[/red]\")"
   ]
  },
  {
   "cell_type": "code",
   "execution_count": null,
   "id": "1b994020-b5ea-433a-9ca9-c514bbda62fa",
   "metadata": {},
   "outputs": [],
   "source": []
  }
 ],
 "metadata": {
  "kernelspec": {
   "display_name": "Python 3 (ipykernel)",
   "language": "python",
   "name": "python3"
  },
  "language_info": {
   "codemirror_mode": {
    "name": "ipython",
    "version": 3
   },
   "file_extension": ".py",
   "mimetype": "text/x-python",
   "name": "python",
   "nbconvert_exporter": "python",
   "pygments_lexer": "ipython3",
   "version": "3.13.2"
  }
 },
 "nbformat": 4,
 "nbformat_minor": 5
}
