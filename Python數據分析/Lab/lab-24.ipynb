{
 "cells": [
  {
   "cell_type": "markdown",
   "id": "7ccef1b5-fe15-4434-bfae-a61d35a74d5b",
   "metadata": {},
   "source": [
    "## LAB-24 Open Data 第三方支付服務業\n",
    "\n",
    "* 資料來源：政府開放資料平台<br>\n",
    "  [公司登記(依營業項目別)－第三方支付服務業](https://data.gov.tw/dataset/22184)<br>\n",
    "  [商業登記(依營業項目別)－第三方支付服務業](https://data.gov.tw/dataset/108381)<br>\n",
    "* 資料下載網址：<br>\n",
    "  公司登記 https://data.gcis.nat.gov.tw/od/file?oid=993D3D8B-3993-4279-9A09-0746EB35062B <br>\n",
    "  商業登記 https://data.gcis.nat.gov.tw/od/file?oid=702A3D64-EC36-49E4-8605-738033B8B231 <br>\n",
    "* 「公司登記」與「商業登記」的區別 -> [Gemini](https://g.co/gemini/share/783116509616)"
   ]
  },
  {
   "cell_type": "code",
   "execution_count": 1,
   "id": "eafcedf1-c5fd-4d74-87aa-aba0087c5ddb",
   "metadata": {},
   "outputs": [
    {
     "name": "stdout",
     "output_type": "stream",
     "text": [
      "# packages in environment at /opt/homebrew/Caskroom/miniforge/base/envs/lab:\n",
      "#\n",
      "# Name                    Version                   Build  Channel\n",
      "numpy                     2.2.4           py313h41a2e72_0    conda-forge\n",
      "openpyxl                  3.1.5           py313h90caf49_1    conda-forge\n",
      "pandas                    2.2.3           py313h47b39a6_1    conda-forge\n",
      "requests                  2.32.3             pyhd8ed1ab_1    conda-forge\n",
      "tqdm                      4.67.1             pyhd8ed1ab_1    conda-forge\n"
     ]
    }
   ],
   "source": [
    "# 檢查套件是否已安裝\n",
    "!conda list \"pandas|numpy|openpyxl|requests|tqdm\""
   ]
  },
  {
   "cell_type": "code",
   "execution_count": 2,
   "id": "a1dfdd71-9aac-49d3-85ed-90a8a425c569",
   "metadata": {},
   "outputs": [],
   "source": [
    "import pandas as pd\n",
    "import numpy as np\n",
    "import requests \n",
    "from tqdm.notebook import tqdm \n",
    "import csv\n",
    "#from rich import print "
   ]
  },
  {
   "cell_type": "code",
   "execution_count": 3,
   "id": "1133abf6-7a54-4d56-8f30-034055ae0854",
   "metadata": {},
   "outputs": [],
   "source": [
    "def download_data(url, fname) -> bool:\n",
    "    \"\"\"\n",
    "    參數\n",
    "        url    網址\n",
    "        fname  儲存檔名\n",
    "\n",
    "    return\n",
    "        bool   成功或失敗\n",
    "    \"\"\"\n",
    "\n",
    "    try:\n",
    "        # 發送 GET 請求，設定 stream=True 以啟用串流下載\n",
    "        response = requests.get(url, stream=True)\n",
    "    \n",
    "        # 確認請求成功\n",
    "        response.raise_for_status()\n",
    "    \n",
    "        # 取得檔案大小（單位：位元組）\n",
    "        total_size = int(response.headers.get('content-length', 0))\n",
    "        \n",
    "    except requests.exceptions.HTTPError as err:\n",
    "        print(f'HTTP 錯誤：{err}')\n",
    "        return False\n",
    "        \n",
    "    except requests.exceptions.RequestException as err:\n",
    "        print(f'HTTP 錯誤：{err}')\n",
    "        return False \n",
    "        \n",
    "    # 每次讀取德區塊大小\n",
    "    block_size = 1024\n",
    "    \n",
    "    # for debug\n",
    "    read_bytes = 0\n",
    "\n",
    "    bar = tqdm(desc=fname, total=total_size, unit='B', unit_scale=True, unit_divisor=1024)\n",
    "    \n",
    "    bar.refresh()\n",
    "\n",
    "    # 準備寫入檔案\n",
    "    with open(fname, 'wb') as file:\n",
    "        try:    \n",
    "            # 逐塊下載資料\n",
    "            for chunk in response.iter_content(chunk_size=block_size):\n",
    "                if chunk:  # 確保不是空值\n",
    "                    read_bytes += len(chunk)\n",
    "                    #print(f\"{read_bytes}/{total_size} = {read_bytes/total_size:.2%}\")\n",
    "    \n",
    "                    bar.update(len(chunk))\n",
    "                    \n",
    "                    # 將下載的資料寫入檔案並更新進度條\n",
    "                    file.write(chunk)\n",
    "                else:\n",
    "                    # End of Stream\n",
    "                    pass\n",
    "        except requests.exceptions.RequestException as err:\n",
    "            print(f'HTTP REQUEST 錯誤：{err}')\n",
    "            return False \n",
    "\n",
    "    bar.refresh()\n",
    "    #bar.close()            \n",
    "    #del bar \n",
    "    \n",
    "    return True\n"
   ]
  },
  {
   "cell_type": "code",
   "execution_count": 4,
   "id": "267f9477-69df-4ad3-be1b-3833438ed490",
   "metadata": {},
   "outputs": [],
   "source": [
    "url1 = r\"https://data.gcis.nat.gov.tw/od/file?oid=993D3D8B-3993-4279-9A09-0746EB35062B\"\n",
    "csv1 = \"第三方支付-公司登記.csv\"\n",
    "\n",
    "#download_data(url1, csv1)\n"
   ]
  },
  {
   "cell_type": "code",
   "execution_count": 5,
   "id": "06541149-0042-4817-82e9-42d3a212d11a",
   "metadata": {},
   "outputs": [],
   "source": [
    "url2 = r\"https://data.gcis.nat.gov.tw/od/file?oid=702A3D64-EC36-49E4-8605-738033B8B231\"\n",
    "csv2 = \"第三方支付-營業登記.csv\"\n",
    "\n",
    "#download_data(url2, csv2)"
   ]
  },
  {
   "cell_type": "code",
   "execution_count": 6,
   "id": "d734ac22-0193-42d9-97f4-4cf1ecef9d3f",
   "metadata": {},
   "outputs": [
    {
     "data": {
      "text/html": [
       "<div>\n",
       "<style scoped>\n",
       "    .dataframe tbody tr th:only-of-type {\n",
       "        vertical-align: middle;\n",
       "    }\n",
       "\n",
       "    .dataframe tbody tr th {\n",
       "        vertical-align: top;\n",
       "    }\n",
       "\n",
       "    .dataframe thead th {\n",
       "        text-align: right;\n",
       "    }\n",
       "</style>\n",
       "<table border=\"1\" class=\"dataframe\">\n",
       "  <thead>\n",
       "    <tr style=\"text-align: right;\">\n",
       "      <th></th>\n",
       "      <th>統一編號</th>\n",
       "      <th>公司名稱</th>\n",
       "      <th>負責人</th>\n",
       "      <th>公司地址</th>\n",
       "      <th>資本總額</th>\n",
       "      <th>實收資本額</th>\n",
       "      <th>在境內營運資金</th>\n",
       "      <th>公司狀態</th>\n",
       "      <th>產製日期</th>\n",
       "    </tr>\n",
       "  </thead>\n",
       "  <tbody>\n",
       "    <tr>\n",
       "      <th>0</th>\n",
       "      <td>1200</td>\n",
       "      <td>形韻科技股份有限公司</td>\n",
       "      <td>林O民</td>\n",
       "      <td>新竹市東區中華路二段198號1樓及地下一樓</td>\n",
       "      <td>1000000</td>\n",
       "      <td>1000000</td>\n",
       "      <td></td>\n",
       "      <td>核准設立</td>\n",
       "      <td>20250301034640</td>\n",
       "    </tr>\n",
       "    <tr>\n",
       "      <th>1</th>\n",
       "      <td>2799</td>\n",
       "      <td>鑫晶生物科技有限公司</td>\n",
       "      <td>陳O英</td>\n",
       "      <td>臺北市大同區市民大道1段209號10樓</td>\n",
       "      <td>1000000</td>\n",
       "      <td></td>\n",
       "      <td></td>\n",
       "      <td>核准設立</td>\n",
       "      <td>20250301034640</td>\n",
       "    </tr>\n",
       "    <tr>\n",
       "      <th>2</th>\n",
       "      <td>4810</td>\n",
       "      <td>道原智慧服務有限公司</td>\n",
       "      <td>廖O奇</td>\n",
       "      <td>新北市五股區中興路1段162號（2樓）</td>\n",
       "      <td>2000000</td>\n",
       "      <td></td>\n",
       "      <td></td>\n",
       "      <td>核准設立</td>\n",
       "      <td>20250301034640</td>\n",
       "    </tr>\n",
       "    <tr>\n",
       "      <th>3</th>\n",
       "      <td>4945</td>\n",
       "      <td>顯樂文化事業有限公司</td>\n",
       "      <td>黃O宇</td>\n",
       "      <td>花蓮縣新城鄉新秀村光復路497號2樓之1</td>\n",
       "      <td>100000</td>\n",
       "      <td></td>\n",
       "      <td></td>\n",
       "      <td>核准設立</td>\n",
       "      <td>20250301034640</td>\n",
       "    </tr>\n",
       "    <tr>\n",
       "      <th>4</th>\n",
       "      <td>5938</td>\n",
       "      <td>瑞盛人力資源管理顧問有限公司</td>\n",
       "      <td>陳O瑞</td>\n",
       "      <td>臺北市信義區信義路4段415號5樓之4</td>\n",
       "      <td>100000</td>\n",
       "      <td></td>\n",
       "      <td></td>\n",
       "      <td>核准設立</td>\n",
       "      <td>20250301034640</td>\n",
       "    </tr>\n",
       "  </tbody>\n",
       "</table>\n",
       "</div>"
      ],
      "text/plain": [
       "   統一編號            公司名稱  負責人                   公司地址     資本總額    實收資本額 在境內營運資金  \\\n",
       "0  1200      形韻科技股份有限公司  林O民  新竹市東區中華路二段198號1樓及地下一樓  1000000  1000000           \n",
       "1  2799      鑫晶生物科技有限公司  陳O英    臺北市大同區市民大道1段209號10樓  1000000                    \n",
       "2  4810      道原智慧服務有限公司  廖O奇    新北市五股區中興路1段162號（2樓）  2000000                    \n",
       "3  4945      顯樂文化事業有限公司  黃O宇   花蓮縣新城鄉新秀村光復路497號2樓之1   100000                    \n",
       "4  5938  瑞盛人力資源管理顧問有限公司  陳O瑞    臺北市信義區信義路4段415號5樓之4   100000                    \n",
       "\n",
       "   公司狀態            產製日期  \n",
       "0  核准設立  20250301034640  \n",
       "1  核准設立  20250301034640  \n",
       "2  核准設立  20250301034640  \n",
       "3  核准設立  20250301034640  \n",
       "4  核准設立  20250301034640  "
      ]
     },
     "execution_count": 6,
     "metadata": {},
     "output_type": "execute_result"
    }
   ],
   "source": [
    "# 讀取 CSV 檔\n",
    "df1 = pd.read_csv(csv1)\n",
    "\n",
    "df1.head()"
   ]
  },
  {
   "cell_type": "code",
   "execution_count": 7,
   "id": "4790fece-85c3-4185-b50b-1820c74cb144",
   "metadata": {},
   "outputs": [
    {
     "name": "stdout",
     "output_type": "stream",
     "text": [
      "<class 'pandas.core.frame.DataFrame'>\n",
      "RangeIndex: 16045 entries, 0 to 16044\n",
      "Data columns (total 9 columns):\n",
      " #   Column   Non-Null Count  Dtype \n",
      "---  ------   --------------  ----- \n",
      " 0   統一編號     16045 non-null  int64 \n",
      " 1   公司名稱     16045 non-null  object\n",
      " 2   負責人      11172 non-null  object\n",
      " 3   公司地址     16045 non-null  object\n",
      " 4   資本總額     16045 non-null  object\n",
      " 5   實收資本額    16045 non-null  object\n",
      " 6   在境內營運資金  16045 non-null  object\n",
      " 7   公司狀態     16045 non-null  object\n",
      " 8   產製日期     16045 non-null  int64 \n",
      "dtypes: int64(2), object(7)\n",
      "memory usage: 1.1+ MB\n"
     ]
    }
   ],
   "source": [
    "df1.info()"
   ]
  },
  {
   "cell_type": "code",
   "execution_count": 8,
   "id": "a1659ceb-2add-426c-adcc-e03221fd7517",
   "metadata": {},
   "outputs": [],
   "source": [
    "# 欄位格式有問題：\n",
    "# 統一編號 -> str\n",
    "# 資本總額 -> int \n",
    "# 實收資本額 -> int\n",
    "# 在境內營運資金 -> int \n",
    "# 產製日期 -> data "
   ]
  },
  {
   "cell_type": "code",
   "execution_count": 9,
   "id": "7cbf743b-e822-4558-b96c-ab4031fffe7c",
   "metadata": {},
   "outputs": [
    {
     "data": {
      "text/plain": [
       "Index(['IDNO', 'NAME', 'OWNER', 'ADDRESS', 'CAPITAL', 'CAPITAL_NET',\n",
       "       'CAPITAL_LOCAL', 'STATUS', 'DATA_DATE'],\n",
       "      dtype='object')"
      ]
     },
     "execution_count": 9,
     "metadata": {},
     "output_type": "execute_result"
    }
   ],
   "source": [
    "# 更換欄位名稱\n",
    "new_col = {\"統一編號\":\"IDNO\",\n",
    "           \"公司名稱\":\"NAME\",\n",
    "           \"負責人\":\"OWNER\",\n",
    "           \"公司地址\":\"ADDRESS\",\n",
    "           \"資本總額\":\"CAPITAL\",\n",
    "           \"實收資本額\":\"CAPITAL_NET\",\n",
    "           \"在境內營運資金\":\"CAPITAL_LOCAL\",\n",
    "           \"公司狀態\":\"STATUS\",\n",
    "           \"產製日期\":\"DATA_DATE\",\n",
    "          }\n",
    "\n",
    "df1 = df1.rename(columns=new_col)\n",
    "df1.columns"
   ]
  },
  {
   "cell_type": "code",
   "execution_count": 10,
   "id": "f41b25cd-f8af-440c-9eef-5e13fbab2de3",
   "metadata": {},
   "outputs": [
    {
     "data": {
      "text/html": [
       "<div>\n",
       "<style scoped>\n",
       "    .dataframe tbody tr th:only-of-type {\n",
       "        vertical-align: middle;\n",
       "    }\n",
       "\n",
       "    .dataframe tbody tr th {\n",
       "        vertical-align: top;\n",
       "    }\n",
       "\n",
       "    .dataframe thead th {\n",
       "        text-align: right;\n",
       "    }\n",
       "</style>\n",
       "<table border=\"1\" class=\"dataframe\">\n",
       "  <thead>\n",
       "    <tr style=\"text-align: right;\">\n",
       "      <th></th>\n",
       "      <th>0</th>\n",
       "      <th>1</th>\n",
       "      <th>2</th>\n",
       "      <th>3</th>\n",
       "      <th>4</th>\n",
       "    </tr>\n",
       "  </thead>\n",
       "  <tbody>\n",
       "    <tr>\n",
       "      <th>IDNO</th>\n",
       "      <td>1200</td>\n",
       "      <td>2799</td>\n",
       "      <td>4810</td>\n",
       "      <td>4945</td>\n",
       "      <td>5938</td>\n",
       "    </tr>\n",
       "    <tr>\n",
       "      <th>NAME</th>\n",
       "      <td>形韻科技股份有限公司</td>\n",
       "      <td>鑫晶生物科技有限公司</td>\n",
       "      <td>道原智慧服務有限公司</td>\n",
       "      <td>顯樂文化事業有限公司</td>\n",
       "      <td>瑞盛人力資源管理顧問有限公司</td>\n",
       "    </tr>\n",
       "    <tr>\n",
       "      <th>OWNER</th>\n",
       "      <td>林O民</td>\n",
       "      <td>陳O英</td>\n",
       "      <td>廖O奇</td>\n",
       "      <td>黃O宇</td>\n",
       "      <td>陳O瑞</td>\n",
       "    </tr>\n",
       "    <tr>\n",
       "      <th>ADDRESS</th>\n",
       "      <td>新竹市東區中華路二段198號1樓及地下一樓</td>\n",
       "      <td>臺北市大同區市民大道1段209號10樓</td>\n",
       "      <td>新北市五股區中興路1段162號（2樓）</td>\n",
       "      <td>花蓮縣新城鄉新秀村光復路497號2樓之1</td>\n",
       "      <td>臺北市信義區信義路4段415號5樓之4</td>\n",
       "    </tr>\n",
       "    <tr>\n",
       "      <th>CAPITAL</th>\n",
       "      <td>1000000</td>\n",
       "      <td>1000000</td>\n",
       "      <td>2000000</td>\n",
       "      <td>100000</td>\n",
       "      <td>100000</td>\n",
       "    </tr>\n",
       "    <tr>\n",
       "      <th>CAPITAL_NET</th>\n",
       "      <td>1000000</td>\n",
       "      <td></td>\n",
       "      <td></td>\n",
       "      <td></td>\n",
       "      <td></td>\n",
       "    </tr>\n",
       "    <tr>\n",
       "      <th>CAPITAL_LOCAL</th>\n",
       "      <td></td>\n",
       "      <td></td>\n",
       "      <td></td>\n",
       "      <td></td>\n",
       "      <td></td>\n",
       "    </tr>\n",
       "    <tr>\n",
       "      <th>STATUS</th>\n",
       "      <td>核准設立</td>\n",
       "      <td>核准設立</td>\n",
       "      <td>核准設立</td>\n",
       "      <td>核准設立</td>\n",
       "      <td>核准設立</td>\n",
       "    </tr>\n",
       "    <tr>\n",
       "      <th>DATA_DATE</th>\n",
       "      <td>2025-03-01</td>\n",
       "      <td>2025-03-01</td>\n",
       "      <td>2025-03-01</td>\n",
       "      <td>2025-03-01</td>\n",
       "      <td>2025-03-01</td>\n",
       "    </tr>\n",
       "  </tbody>\n",
       "</table>\n",
       "</div>"
      ],
      "text/plain": [
       "                                   0                    1  \\\n",
       "IDNO                            1200                 2799   \n",
       "NAME                      形韻科技股份有限公司           鑫晶生物科技有限公司   \n",
       "OWNER                            林O民                  陳O英   \n",
       "ADDRESS        新竹市東區中華路二段198號1樓及地下一樓  臺北市大同區市民大道1段209號10樓   \n",
       "CAPITAL                      1000000              1000000   \n",
       "CAPITAL_NET                  1000000                        \n",
       "CAPITAL_LOCAL                                               \n",
       "STATUS                          核准設立                 核准設立   \n",
       "DATA_DATE                 2025-03-01           2025-03-01   \n",
       "\n",
       "                                 2                     3                    4  \n",
       "IDNO                          4810                  4945                 5938  \n",
       "NAME                    道原智慧服務有限公司            顯樂文化事業有限公司       瑞盛人力資源管理顧問有限公司  \n",
       "OWNER                          廖O奇                   黃O宇                  陳O瑞  \n",
       "ADDRESS        新北市五股區中興路1段162號（2樓）  花蓮縣新城鄉新秀村光復路497號2樓之1  臺北市信義區信義路4段415號5樓之4  \n",
       "CAPITAL                    2000000                100000               100000  \n",
       "CAPITAL_NET                                                                    \n",
       "CAPITAL_LOCAL                                                                  \n",
       "STATUS                        核准設立                  核准設立                 核准設立  \n",
       "DATA_DATE               2025-03-01            2025-03-01           2025-03-01  "
      ]
     },
     "execution_count": 10,
     "metadata": {},
     "output_type": "execute_result"
    }
   ],
   "source": [
    "# 資料日期欄為 int64 轉換為日期\n",
    "df1['DATA_DATE'] = pd.to_datetime(df1['DATA_DATE'].astype(str), format='%Y%m%d%H%M%S').dt.date\n",
    "df1.head(5).T"
   ]
  },
  {
   "cell_type": "code",
   "execution_count": 11,
   "id": "ae1efe3e-3766-46db-a364-95533a7d9ce3",
   "metadata": {},
   "outputs": [],
   "source": [
    "cap = pd.to_numeric(df1[\"CAPITAL\"].str.strip()).fillna(0).astype(int)\n",
    "df1[\"CAPITAL\"] = cap"
   ]
  },
  {
   "cell_type": "code",
   "execution_count": 12,
   "id": "ce685041-599b-459b-964c-55600e434e0a",
   "metadata": {},
   "outputs": [],
   "source": [
    "cap = pd.to_numeric(df1[\"CAPITAL_NET\"].str.strip()).fillna(0).astype(int)\n",
    "df1[\"CAPITAL_NET\"] = cap"
   ]
  },
  {
   "cell_type": "code",
   "execution_count": 13,
   "id": "18ebd2b3-2572-4805-a759-61f273a201d2",
   "metadata": {},
   "outputs": [],
   "source": [
    "cap = pd.to_numeric(df1[\"CAPITAL_LOCAL\"].str.strip()).fillna(0).astype(int)\n",
    "df1[\"CAPITAL_LOCAL\"] = cap"
   ]
  },
  {
   "cell_type": "code",
   "execution_count": 14,
   "id": "c5ba1b63-84a8-43a7-a7b9-be64aefc4871",
   "metadata": {},
   "outputs": [
    {
     "name": "stdout",
     "output_type": "stream",
     "text": [
      "<class 'pandas.core.frame.DataFrame'>\n",
      "RangeIndex: 16045 entries, 0 to 16044\n",
      "Data columns (total 9 columns):\n",
      " #   Column         Non-Null Count  Dtype \n",
      "---  ------         --------------  ----- \n",
      " 0   IDNO           16045 non-null  int64 \n",
      " 1   NAME           16045 non-null  object\n",
      " 2   OWNER          11172 non-null  object\n",
      " 3   ADDRESS        16045 non-null  object\n",
      " 4   CAPITAL        16045 non-null  int64 \n",
      " 5   CAPITAL_NET    16045 non-null  int64 \n",
      " 6   CAPITAL_LOCAL  16045 non-null  int64 \n",
      " 7   STATUS         16045 non-null  object\n",
      " 8   DATA_DATE      16045 non-null  object\n",
      "dtypes: int64(4), object(5)\n",
      "memory usage: 1.1+ MB\n"
     ]
    }
   ],
   "source": [
    "df1.info()"
   ]
  },
  {
   "cell_type": "code",
   "execution_count": 15,
   "id": "26d2743b-03d2-4618-9735-c5d624105c30",
   "metadata": {},
   "outputs": [
    {
     "data": {
      "text/html": [
       "<div>\n",
       "<style scoped>\n",
       "    .dataframe tbody tr th:only-of-type {\n",
       "        vertical-align: middle;\n",
       "    }\n",
       "\n",
       "    .dataframe tbody tr th {\n",
       "        vertical-align: top;\n",
       "    }\n",
       "\n",
       "    .dataframe thead th {\n",
       "        text-align: right;\n",
       "    }\n",
       "</style>\n",
       "<table border=\"1\" class=\"dataframe\">\n",
       "  <thead>\n",
       "    <tr style=\"text-align: right;\">\n",
       "      <th></th>\n",
       "      <th>統一編號</th>\n",
       "      <th>商業名稱</th>\n",
       "      <th>商業地址</th>\n",
       "      <th>登記狀態</th>\n",
       "    </tr>\n",
       "  </thead>\n",
       "  <tbody>\n",
       "    <tr>\n",
       "      <th>0</th>\n",
       "      <td>261367</td>\n",
       "      <td>禮享家企業社</td>\n",
       "      <td>臺南市安平區建平里中華西路2段317號6樓</td>\n",
       "      <td>核准設立</td>\n",
       "    </tr>\n",
       "    <tr>\n",
       "      <th>1</th>\n",
       "      <td>267117</td>\n",
       "      <td>福鑫工程實業社</td>\n",
       "      <td>臺南市安平區建平里建平九街60巷13弄6號1樓</td>\n",
       "      <td>核准設立</td>\n",
       "    </tr>\n",
       "    <tr>\n",
       "      <th>2</th>\n",
       "      <td>277430</td>\n",
       "      <td>氶勳企業社</td>\n",
       "      <td>臺南市東區泉南里東門路1段84之1號7樓</td>\n",
       "      <td>停業</td>\n",
       "    </tr>\n",
       "    <tr>\n",
       "      <th>3</th>\n",
       "      <td>286965</td>\n",
       "      <td>龍燕車業</td>\n",
       "      <td>臺南市東區成大里前鋒路128號</td>\n",
       "      <td>核准設立</td>\n",
       "    </tr>\n",
       "    <tr>\n",
       "      <th>4</th>\n",
       "      <td>288942</td>\n",
       "      <td>富士辦公資訊設備</td>\n",
       "      <td>臺南市安南區南興里安中路5段442號</td>\n",
       "      <td>核准設立</td>\n",
       "    </tr>\n",
       "  </tbody>\n",
       "</table>\n",
       "</div>"
      ],
      "text/plain": [
       "     統一編號      商業名稱                     商業地址  登記狀態\n",
       "0  261367    禮享家企業社    臺南市安平區建平里中華西路2段317號6樓  核准設立\n",
       "1  267117   福鑫工程實業社  臺南市安平區建平里建平九街60巷13弄6號1樓  核准設立\n",
       "2  277430     氶勳企業社     臺南市東區泉南里東門路1段84之1號7樓    停業\n",
       "3  286965      龍燕車業          臺南市東區成大里前鋒路128號  核准設立\n",
       "4  288942  富士辦公資訊設備       臺南市安南區南興里安中路5段442號  核准設立"
      ]
     },
     "execution_count": 15,
     "metadata": {},
     "output_type": "execute_result"
    }
   ],
   "source": [
    "# 讀取 CSV 檔\n",
    "df2 = pd.read_csv(csv2)\n",
    "\n",
    "df2.head()"
   ]
  },
  {
   "cell_type": "code",
   "execution_count": 16,
   "id": "c7c91c65-044a-4e9b-af4c-9668364ecd13",
   "metadata": {},
   "outputs": [
    {
     "name": "stdout",
     "output_type": "stream",
     "text": [
      "<class 'pandas.core.frame.DataFrame'>\n",
      "RangeIndex: 2237 entries, 0 to 2236\n",
      "Data columns (total 4 columns):\n",
      " #   Column  Non-Null Count  Dtype \n",
      "---  ------  --------------  ----- \n",
      " 0   統一編號    2237 non-null   int64 \n",
      " 1   商業名稱    2237 non-null   object\n",
      " 2   商業地址    2237 non-null   object\n",
      " 3   登記狀態    2237 non-null   object\n",
      "dtypes: int64(1), object(3)\n",
      "memory usage: 70.0+ KB\n"
     ]
    }
   ],
   "source": [
    "df2.info()"
   ]
  },
  {
   "cell_type": "code",
   "execution_count": 17,
   "id": "e4945392-dee8-4549-bd7e-f1e6bf512493",
   "metadata": {},
   "outputs": [
    {
     "data": {
      "text/plain": [
       "Index(['IDNO', 'NAME', 'ADDRESS', 'STATUS'], dtype='object')"
      ]
     },
     "execution_count": 17,
     "metadata": {},
     "output_type": "execute_result"
    }
   ],
   "source": [
    "# 更換欄位名稱\n",
    "new_col = {\"統一編號\":\"IDNO\",\n",
    "           \"商業名稱\":\"NAME\",\n",
    "           \"商業地址\":\"ADDRESS\",\n",
    "           \"登記狀態\":\"STATUS\",\n",
    "          }\n",
    "\n",
    "df2 = df2.rename(columns=new_col)\n",
    "df2.columns"
   ]
  },
  {
   "cell_type": "code",
   "execution_count": 18,
   "id": "0389c11a-a575-4512-ba57-1d073f8d58c9",
   "metadata": {},
   "outputs": [],
   "source": [
    "# 檢查 info() 的輸出\n",
    "# 「統一編號」之型別為 int64\n",
    "# 進行資料清理及轉換"
   ]
  },
  {
   "cell_type": "markdown",
   "id": "c73ad41a-5ef2-4860-be66-3be4a8f406d7",
   "metadata": {},
   "source": [
    "## 資料清理 \n",
    "1. 統編須轉換為字串左補零"
   ]
  },
  {
   "cell_type": "markdown",
   "id": "1feb9ffa-87b6-494d-95cf-adf26353a464",
   "metadata": {},
   "source": [
    "### 統編左補零\n",
    "> AI：如何將 DataFrame 的數值欄位轉換為左補零的固定長度字串"
   ]
  },
  {
   "cell_type": "code",
   "execution_count": 19,
   "id": "f580efe4-983b-4ad2-9920-65c5dbdd494e",
   "metadata": {},
   "outputs": [],
   "source": [
    "df1[\"IDNO\"] = df1[\"IDNO\"].astype(str).str.zfill(8)\n"
   ]
  },
  {
   "cell_type": "code",
   "execution_count": 20,
   "id": "22188c12-8fac-4ec7-b164-b438de95b9e9",
   "metadata": {},
   "outputs": [],
   "source": [
    "df2[\"IDNO\"] = df2[\"IDNO\"].astype(str).str.zfill(8)\n"
   ]
  },
  {
   "cell_type": "code",
   "execution_count": 21,
   "id": "1fad064e-2387-4d69-95c8-a337cee4f966",
   "metadata": {},
   "outputs": [
    {
     "data": {
      "text/plain": [
       "0    00001200\n",
       "1    00002799\n",
       "2    00004810\n",
       "3    00004945\n",
       "4    00005938\n",
       "5    00006438\n",
       "6    00008610\n",
       "7    00008843\n",
       "8    00013634\n",
       "9    00015823\n",
       "Name: IDNO, dtype: object"
      ]
     },
     "execution_count": 21,
     "metadata": {},
     "output_type": "execute_result"
    }
   ],
   "source": [
    "df1[\"IDNO\"].head(10)"
   ]
  },
  {
   "cell_type": "code",
   "execution_count": 22,
   "id": "3f9f8a27-e5bf-48f3-bdb0-b499b1532edc",
   "metadata": {},
   "outputs": [
    {
     "data": {
      "text/plain": [
       "0    00261367\n",
       "1    00267117\n",
       "2    00277430\n",
       "3    00286965\n",
       "4    00288942\n",
       "5    00289148\n",
       "6    00306630\n",
       "7    00539390\n",
       "8    00541874\n",
       "9    00815769\n",
       "Name: IDNO, dtype: object"
      ]
     },
     "execution_count": 22,
     "metadata": {},
     "output_type": "execute_result"
    }
   ],
   "source": [
    "df2[\"IDNO\"].head(10)"
   ]
  },
  {
   "cell_type": "markdown",
   "id": "fcb77c0a-362a-43b1-95f3-358da0d6e772",
   "metadata": {},
   "source": [
    "### 檢查「公司登記」與「商業登記」的資料關係"
   ]
  },
  {
   "cell_type": "code",
   "execution_count": 23,
   "id": "cc055e7a-25b5-4089-abc3-b166ce2614b5",
   "metadata": {},
   "outputs": [],
   "source": [
    "#使用集合運算\n",
    "set_idno1 = set(df1[\"IDNO\"].unique())\n",
    "set_idno2 = set(df2[\"IDNO\"].unique())"
   ]
  },
  {
   "cell_type": "code",
   "execution_count": 24,
   "id": "2f91ed30-8b7d-4505-b433-2713764d334a",
   "metadata": {},
   "outputs": [
    {
     "name": "stdout",
     "output_type": "stream",
     "text": [
      "交集筆數：0\n"
     ]
    }
   ],
   "source": [
    "print(f\"交集筆數：{len(set_idno1 & set_idno2):,d}\")"
   ]
  },
  {
   "cell_type": "code",
   "execution_count": 25,
   "id": "6eac606f-c53e-4faf-a3f7-85d35048782d",
   "metadata": {},
   "outputs": [],
   "source": [
    "# 二者無交集，無合併(JOIN)意義"
   ]
  },
  {
   "cell_type": "markdown",
   "id": "e462c421-6f73-4697-94f6-2925436b5b9b",
   "metadata": {},
   "source": [
    "### 新增「縣市」欄位"
   ]
  },
  {
   "cell_type": "code",
   "execution_count": 26,
   "id": "ff0daa5e-e1c8-4e42-a9a8-db4cb368c741",
   "metadata": {},
   "outputs": [
    {
     "data": {
      "text/plain": [
       "CITY\n",
       "臺北市    5458\n",
       "新北市    2842\n",
       "臺中市    2601\n",
       "高雄市    1752\n",
       "桃園市    1156\n",
       "臺南市     572\n",
       "彰化縣     224\n",
       "新竹縣     216\n",
       "新竹市     211\n",
       "屏東縣     143\n",
       "基隆市     118\n",
       "嘉義市     105\n",
       "苗栗縣     103\n",
       "花蓮縣     100\n",
       "南投縣      96\n",
       "宜蘭縣      95\n",
       "雲林縣      92\n",
       "嘉義縣      54\n",
       "臺東縣      52\n",
       "金門縣      34\n",
       "澎湖縣      11\n",
       "新竹科       5\n",
       "連江縣       5\n",
       "Name: count, dtype: int64"
      ]
     },
     "execution_count": 26,
     "metadata": {},
     "output_type": "execute_result"
    }
   ],
   "source": [
    "# 新增計算欄位 CITY = 地址前三個字\n",
    "df1[\"CITY\"] = df1[\"ADDRESS\"].str.slice(0,3)\n",
    "df1[\"CITY\"].value_counts(dropna=False)"
   ]
  },
  {
   "cell_type": "code",
   "execution_count": 27,
   "id": "2f8ead3e-d9d2-44b6-af4a-0eac708630da",
   "metadata": {},
   "outputs": [
    {
     "data": {
      "text/plain": [
       "CITY\n",
       "新北市    484\n",
       "臺中市    385\n",
       "高雄市    358\n",
       "臺南市    212\n",
       "臺北市     94\n",
       "彰化縣     93\n",
       "花蓮縣     74\n",
       "新竹市     59\n",
       "屏東縣     59\n",
       "苗栗縣     52\n",
       "雲林縣     50\n",
       "宜蘭縣     46\n",
       "臺東縣     42\n",
       "南投縣     41\n",
       "新竹縣     40\n",
       "嘉義市     39\n",
       "嘉義縣     38\n",
       "基隆市     35\n",
       "桃園市     23\n",
       "金門縣      8\n",
       "連江縣      3\n",
       "澎湖縣      2\n",
       "Name: count, dtype: int64"
      ]
     },
     "execution_count": 27,
     "metadata": {},
     "output_type": "execute_result"
    }
   ],
   "source": [
    "# 新增計算欄位 CITY = 地址前三個字\n",
    "df2[\"CITY\"] = df2[\"ADDRESS\"].str.slice(0,3)\n",
    "df2[\"CITY\"].value_counts(dropna=False)"
   ]
  },
  {
   "cell_type": "markdown",
   "id": "08a71e5d-9526-453a-906e-c212fbf1a323",
   "metadata": {},
   "source": [
    "### 檢查重複"
   ]
  },
  {
   "cell_type": "code",
   "execution_count": 28,
   "id": "834189d4-1849-4fa2-92aa-da25a862a3f8",
   "metadata": {},
   "outputs": [
    {
     "data": {
      "text/html": [
       "<div>\n",
       "<style scoped>\n",
       "    .dataframe tbody tr th:only-of-type {\n",
       "        vertical-align: middle;\n",
       "    }\n",
       "\n",
       "    .dataframe tbody tr th {\n",
       "        vertical-align: top;\n",
       "    }\n",
       "\n",
       "    .dataframe thead th {\n",
       "        text-align: right;\n",
       "    }\n",
       "</style>\n",
       "<table border=\"1\" class=\"dataframe\">\n",
       "  <thead>\n",
       "    <tr style=\"text-align: right;\">\n",
       "      <th></th>\n",
       "      <th>IDNO</th>\n",
       "      <th>NAME</th>\n",
       "      <th>OWNER</th>\n",
       "      <th>ADDRESS</th>\n",
       "      <th>CAPITAL</th>\n",
       "      <th>CAPITAL_NET</th>\n",
       "      <th>CAPITAL_LOCAL</th>\n",
       "      <th>STATUS</th>\n",
       "      <th>DATA_DATE</th>\n",
       "      <th>CITY</th>\n",
       "    </tr>\n",
       "  </thead>\n",
       "  <tbody>\n",
       "  </tbody>\n",
       "</table>\n",
       "</div>"
      ],
      "text/plain": [
       "Empty DataFrame\n",
       "Columns: [IDNO, NAME, OWNER, ADDRESS, CAPITAL, CAPITAL_NET, CAPITAL_LOCAL, STATUS, DATA_DATE, CITY]\n",
       "Index: []"
      ]
     },
     "execution_count": 28,
     "metadata": {},
     "output_type": "execute_result"
    }
   ],
   "source": [
    "df1[df1[\"IDNO\"].duplicated()].sort_values(by=\"IDNO\")\n"
   ]
  },
  {
   "cell_type": "code",
   "execution_count": 29,
   "id": "23d13b74-7fd0-4775-b119-e544cf12577e",
   "metadata": {},
   "outputs": [],
   "source": [
    "# 查無重複 IDNO \n",
    "# 「公司登記」為 unique "
   ]
  },
  {
   "cell_type": "code",
   "execution_count": 30,
   "id": "9f35f9db-a3da-4753-8d38-2e0a8e4708f5",
   "metadata": {},
   "outputs": [
    {
     "data": {
      "text/html": [
       "<div>\n",
       "<style scoped>\n",
       "    .dataframe tbody tr th:only-of-type {\n",
       "        vertical-align: middle;\n",
       "    }\n",
       "\n",
       "    .dataframe tbody tr th {\n",
       "        vertical-align: top;\n",
       "    }\n",
       "\n",
       "    .dataframe thead th {\n",
       "        text-align: right;\n",
       "    }\n",
       "</style>\n",
       "<table border=\"1\" class=\"dataframe\">\n",
       "  <thead>\n",
       "    <tr style=\"text-align: right;\">\n",
       "      <th></th>\n",
       "      <th>IDNO</th>\n",
       "      <th>NAME</th>\n",
       "      <th>ADDRESS</th>\n",
       "      <th>STATUS</th>\n",
       "      <th>CITY</th>\n",
       "    </tr>\n",
       "  </thead>\n",
       "  <tbody>\n",
       "    <tr>\n",
       "      <th>13</th>\n",
       "      <td>01547669</td>\n",
       "      <td>個人種子資訊工作室</td>\n",
       "      <td>花蓮縣吉安鄉慶豐村慶北一街260之3號4樓</td>\n",
       "      <td>停業</td>\n",
       "      <td>花蓮縣</td>\n",
       "    </tr>\n",
       "    <tr>\n",
       "      <th>14</th>\n",
       "      <td>01547669</td>\n",
       "      <td>個人種子資訊工作室</td>\n",
       "      <td>桃園市龍潭區三和里渴望一路280巷8號4樓</td>\n",
       "      <td>遷他縣市</td>\n",
       "      <td>桃園市</td>\n",
       "    </tr>\n",
       "    <tr>\n",
       "      <th>16</th>\n",
       "      <td>02139212</td>\n",
       "      <td>傑狗影像工作室</td>\n",
       "      <td>新北市蘆洲區長安街285巷16號4樓</td>\n",
       "      <td>遷他縣市</td>\n",
       "      <td>新北市</td>\n",
       "    </tr>\n",
       "    <tr>\n",
       "      <th>17</th>\n",
       "      <td>02139212</td>\n",
       "      <td>傑狗影像工作室</td>\n",
       "      <td>臺南市中西區開山里開山路245號4樓之1</td>\n",
       "      <td>核准設立</td>\n",
       "      <td>臺南市</td>\n",
       "    </tr>\n",
       "    <tr>\n",
       "      <th>22</th>\n",
       "      <td>02438400</td>\n",
       "      <td>鈞鉉企業社</td>\n",
       "      <td>新北市板橋區民生路1段1號10樓之2</td>\n",
       "      <td>遷他縣市</td>\n",
       "      <td>新北市</td>\n",
       "    </tr>\n",
       "    <tr>\n",
       "      <th>...</th>\n",
       "      <td>...</td>\n",
       "      <td>...</td>\n",
       "      <td>...</td>\n",
       "      <td>...</td>\n",
       "      <td>...</td>\n",
       "    </tr>\n",
       "    <tr>\n",
       "      <th>2226</th>\n",
       "      <td>95998784</td>\n",
       "      <td>球點支付數位科技商行</td>\n",
       "      <td>高雄市三民區清華街２３６號２樓</td>\n",
       "      <td>停業</td>\n",
       "      <td>高雄市</td>\n",
       "    </tr>\n",
       "    <tr>\n",
       "      <th>2228</th>\n",
       "      <td>98961868</td>\n",
       "      <td>烜統運動用品社</td>\n",
       "      <td>彰化縣員林市光明里光明街３１０號１樓</td>\n",
       "      <td>遷他縣市</td>\n",
       "      <td>彰化縣</td>\n",
       "    </tr>\n",
       "    <tr>\n",
       "      <th>2229</th>\n",
       "      <td>98961868</td>\n",
       "      <td>烜統運動用品社</td>\n",
       "      <td>臺中市西區忠誠里臺灣大道二段５０１號１８樓之１</td>\n",
       "      <td>歇業／撤銷</td>\n",
       "      <td>臺中市</td>\n",
       "    </tr>\n",
       "    <tr>\n",
       "      <th>2231</th>\n",
       "      <td>99345738</td>\n",
       "      <td>維果製作工作室</td>\n",
       "      <td>新北市新店區十四張路３８３號１２樓之２</td>\n",
       "      <td>核准設立</td>\n",
       "      <td>新北市</td>\n",
       "    </tr>\n",
       "    <tr>\n",
       "      <th>2232</th>\n",
       "      <td>99345738</td>\n",
       "      <td>維果製作工作室</td>\n",
       "      <td>臺北市松山區健康路325巷30號</td>\n",
       "      <td>遷他縣市</td>\n",
       "      <td>臺北市</td>\n",
       "    </tr>\n",
       "  </tbody>\n",
       "</table>\n",
       "<p>216 rows × 5 columns</p>\n",
       "</div>"
      ],
      "text/plain": [
       "          IDNO        NAME                  ADDRESS STATUS CITY\n",
       "13    01547669   個人種子資訊工作室    花蓮縣吉安鄉慶豐村慶北一街260之3號4樓     停業  花蓮縣\n",
       "14    01547669   個人種子資訊工作室    桃園市龍潭區三和里渴望一路280巷8號4樓   遷他縣市  桃園市\n",
       "16    02139212     傑狗影像工作室       新北市蘆洲區長安街285巷16號4樓   遷他縣市  新北市\n",
       "17    02139212     傑狗影像工作室     臺南市中西區開山里開山路245號4樓之1   核准設立  臺南市\n",
       "22    02438400       鈞鉉企業社       新北市板橋區民生路1段1號10樓之2   遷他縣市  新北市\n",
       "...        ...         ...                      ...    ...  ...\n",
       "2226  95998784  球點支付數位科技商行          高雄市三民區清華街２３６號２樓     停業  高雄市\n",
       "2228  98961868     烜統運動用品社       彰化縣員林市光明里光明街３１０號１樓   遷他縣市  彰化縣\n",
       "2229  98961868     烜統運動用品社  臺中市西區忠誠里臺灣大道二段５０１號１８樓之１  歇業／撤銷  臺中市\n",
       "2231  99345738     維果製作工作室      新北市新店區十四張路３８３號１２樓之２   核准設立  新北市\n",
       "2232  99345738     維果製作工作室         臺北市松山區健康路325巷30號   遷他縣市  臺北市\n",
       "\n",
       "[216 rows x 5 columns]"
      ]
     },
     "execution_count": 30,
     "metadata": {},
     "output_type": "execute_result"
    }
   ],
   "source": [
    "# 檢查 商業登記 的 IDNO \n",
    "df2[df2[\"IDNO\"].duplicated(keep=False)].sort_values(by=[\"IDNO\"])"
   ]
  },
  {
   "cell_type": "code",
   "execution_count": 31,
   "id": "1ad7e5f7-7b6f-4d45-b8d5-d8dac9616fee",
   "metadata": {},
   "outputs": [],
   "source": [
    "# 商業登記 共 216筆 IDNO 重複"
   ]
  },
  {
   "cell_type": "code",
   "execution_count": 32,
   "id": "9b27ba30-ff19-4f14-a549-14d156ee5572",
   "metadata": {},
   "outputs": [
    {
     "data": {
      "text/plain": [
       "CNT\n",
       "1    2021\n",
       "2     103\n",
       "3       2\n",
       "4       1\n",
       "Name: count, dtype: int64"
      ]
     },
     "execution_count": 32,
     "metadata": {},
     "output_type": "execute_result"
    }
   ],
   "source": [
    "# 計算重複次數\n",
    "df2_dedup = df2.groupby(['IDNO']).size().reset_index(name=\"CNT\")\n",
    "\n",
    "df2_dedup[\"CNT\"].value_counts(dropna=False)\n"
   ]
  },
  {
   "cell_type": "code",
   "execution_count": 33,
   "id": "4fd6f362-b189-46b3-87ce-e14c821729bf",
   "metadata": {},
   "outputs": [
    {
     "data": {
      "text/html": [
       "<div>\n",
       "<style scoped>\n",
       "    .dataframe tbody tr th:only-of-type {\n",
       "        vertical-align: middle;\n",
       "    }\n",
       "\n",
       "    .dataframe tbody tr th {\n",
       "        vertical-align: top;\n",
       "    }\n",
       "\n",
       "    .dataframe thead th {\n",
       "        text-align: right;\n",
       "    }\n",
       "</style>\n",
       "<table border=\"1\" class=\"dataframe\">\n",
       "  <thead>\n",
       "    <tr style=\"text-align: right;\">\n",
       "      <th></th>\n",
       "      <th>IDNO</th>\n",
       "      <th>CNT</th>\n",
       "    </tr>\n",
       "  </thead>\n",
       "  <tbody>\n",
       "    <tr>\n",
       "      <th>102</th>\n",
       "      <td>21579891</td>\n",
       "      <td>4</td>\n",
       "    </tr>\n",
       "    <tr>\n",
       "      <th>742</th>\n",
       "      <td>76477594</td>\n",
       "      <td>3</td>\n",
       "    </tr>\n",
       "    <tr>\n",
       "      <th>1166</th>\n",
       "      <td>85387525</td>\n",
       "      <td>3</td>\n",
       "    </tr>\n",
       "  </tbody>\n",
       "</table>\n",
       "</div>"
      ],
      "text/plain": [
       "          IDNO  CNT\n",
       "102   21579891    4\n",
       "742   76477594    3\n",
       "1166  85387525    3"
      ]
     },
     "execution_count": 33,
     "metadata": {},
     "output_type": "execute_result"
    }
   ],
   "source": [
    "# 篩選重複次數大於 2 的資料列\n",
    "df3 = df2_dedup[df2_dedup['CNT'] > 2]\n",
    "\n",
    "df3"
   ]
  },
  {
   "cell_type": "code",
   "execution_count": 34,
   "id": "2a3e580c-c94d-482d-85a4-5bae902797b4",
   "metadata": {},
   "outputs": [
    {
     "data": {
      "text/html": [
       "<div>\n",
       "<style scoped>\n",
       "    .dataframe tbody tr th:only-of-type {\n",
       "        vertical-align: middle;\n",
       "    }\n",
       "\n",
       "    .dataframe tbody tr th {\n",
       "        vertical-align: top;\n",
       "    }\n",
       "\n",
       "    .dataframe thead th {\n",
       "        text-align: right;\n",
       "    }\n",
       "</style>\n",
       "<table border=\"1\" class=\"dataframe\">\n",
       "  <thead>\n",
       "    <tr style=\"text-align: right;\">\n",
       "      <th></th>\n",
       "      <th>IDNO</th>\n",
       "      <th>NAME</th>\n",
       "      <th>ADDRESS</th>\n",
       "      <th>STATUS</th>\n",
       "      <th>CITY</th>\n",
       "    </tr>\n",
       "  </thead>\n",
       "  <tbody>\n",
       "    <tr>\n",
       "      <th>113</th>\n",
       "      <td>21579891</td>\n",
       "      <td>民營政福興業社</td>\n",
       "      <td>宜蘭縣三星鄉天山村三星路八段７號1樓</td>\n",
       "      <td>核准設立</td>\n",
       "      <td>宜蘭縣</td>\n",
       "    </tr>\n",
       "    <tr>\n",
       "      <th>114</th>\n",
       "      <td>21579891</td>\n",
       "      <td>民營政福興業社</td>\n",
       "      <td>新北市中和區中山路２段４０５號３樓</td>\n",
       "      <td>遷他縣市</td>\n",
       "      <td>新北市</td>\n",
       "    </tr>\n",
       "    <tr>\n",
       "      <th>115</th>\n",
       "      <td>21579891</td>\n",
       "      <td>民營政福興業社</td>\n",
       "      <td>臺中市西屯區何安里臺灣大道二段888號9樓之18</td>\n",
       "      <td>核准設立</td>\n",
       "      <td>臺中市</td>\n",
       "    </tr>\n",
       "    <tr>\n",
       "      <th>116</th>\n",
       "      <td>21579891</td>\n",
       "      <td>民營政福興業社</td>\n",
       "      <td>臺東縣太麻里鄉美和村荒野４８之１１號</td>\n",
       "      <td>核准設立</td>\n",
       "      <td>臺東縣</td>\n",
       "    </tr>\n",
       "    <tr>\n",
       "      <th>795</th>\n",
       "      <td>76477594</td>\n",
       "      <td>久利笙企業社</td>\n",
       "      <td>桃園市桃園區中寧里中正路927號十樓</td>\n",
       "      <td>核准設立</td>\n",
       "      <td>桃園市</td>\n",
       "    </tr>\n",
       "    <tr>\n",
       "      <th>796</th>\n",
       "      <td>76477594</td>\n",
       "      <td>久利笙企業社</td>\n",
       "      <td>新北市新店區北新路1段257號</td>\n",
       "      <td>核准設立</td>\n",
       "      <td>新北市</td>\n",
       "    </tr>\n",
       "    <tr>\n",
       "      <th>797</th>\n",
       "      <td>76477594</td>\n",
       "      <td>久利笙企業社</td>\n",
       "      <td>臺北市士林區華齡街1巷8號1樓</td>\n",
       "      <td>核准設立</td>\n",
       "      <td>臺北市</td>\n",
       "    </tr>\n",
       "    <tr>\n",
       "      <th>1234</th>\n",
       "      <td>85387525</td>\n",
       "      <td>福金士商行</td>\n",
       "      <td>桃園市觀音區三和里文化路坑尾段360巷31弄3號2樓</td>\n",
       "      <td>遷他縣市</td>\n",
       "      <td>桃園市</td>\n",
       "    </tr>\n",
       "    <tr>\n",
       "      <th>1235</th>\n",
       "      <td>85387525</td>\n",
       "      <td>福金士商行</td>\n",
       "      <td>新北市板橋區華江一路576號13樓</td>\n",
       "      <td>廢止</td>\n",
       "      <td>新北市</td>\n",
       "    </tr>\n",
       "    <tr>\n",
       "      <th>1236</th>\n",
       "      <td>85387525</td>\n",
       "      <td>福金士商行</td>\n",
       "      <td>臺北市大安區忠孝東路4段147巷1號7樓之1</td>\n",
       "      <td>遷他縣市</td>\n",
       "      <td>臺北市</td>\n",
       "    </tr>\n",
       "  </tbody>\n",
       "</table>\n",
       "</div>"
      ],
      "text/plain": [
       "          IDNO     NAME                     ADDRESS STATUS CITY\n",
       "113   21579891  民營政福興業社          宜蘭縣三星鄉天山村三星路八段７號1樓   核准設立  宜蘭縣\n",
       "114   21579891  民營政福興業社           新北市中和區中山路２段４０５號３樓   遷他縣市  新北市\n",
       "115   21579891  民營政福興業社    臺中市西屯區何安里臺灣大道二段888號9樓之18   核准設立  臺中市\n",
       "116   21579891  民營政福興業社          臺東縣太麻里鄉美和村荒野４８之１１號   核准設立  臺東縣\n",
       "795   76477594   久利笙企業社          桃園市桃園區中寧里中正路927號十樓   核准設立  桃園市\n",
       "796   76477594   久利笙企業社             新北市新店區北新路1段257號   核准設立  新北市\n",
       "797   76477594   久利笙企業社             臺北市士林區華齡街1巷8號1樓   核准設立  臺北市\n",
       "1234  85387525    福金士商行  桃園市觀音區三和里文化路坑尾段360巷31弄3號2樓   遷他縣市  桃園市\n",
       "1235  85387525    福金士商行           新北市板橋區華江一路576號13樓     廢止  新北市\n",
       "1236  85387525    福金士商行      臺北市大安區忠孝東路4段147巷1號7樓之1   遷他縣市  臺北市"
      ]
     },
     "execution_count": 34,
     "metadata": {},
     "output_type": "execute_result"
    }
   ],
   "source": [
    "# 總共 3個統編：21579891, 76477594, 85387525\n",
    "# 檢視 3個統編的詳細資料\n",
    "df2[df2['IDNO'].isin(df3['IDNO'].to_list())].sort_values('IDNO')"
   ]
  },
  {
   "cell_type": "code",
   "execution_count": 35,
   "id": "3d69d4dc-f119-4874-9611-f1059628992f",
   "metadata": {},
   "outputs": [],
   "source": [
    "# 21579891 有 3筆 「核准設立」\n",
    "# 76477594 3筆都是「核准設立」，均位於不同縣市\n",
    "# 85387525 沒有1筆「核准設立」"
   ]
  },
  {
   "cell_type": "markdown",
   "id": "49c212f9-ccf1-4ff7-9612-daebff983b3a",
   "metadata": {},
   "source": [
    "### 分析「狀態」的欄位值"
   ]
  },
  {
   "cell_type": "markdown",
   "id": "bfb0f455-33da-4f8c-a9f8-48a126cfb8a1",
   "metadata": {},
   "source": [
    "#### 公司登記 的「狀態」"
   ]
  },
  {
   "cell_type": "code",
   "execution_count": 36,
   "id": "c3d5e918-6cd7-475a-88ab-9a28dc17bd1d",
   "metadata": {},
   "outputs": [
    {
     "data": {
      "text/plain": [
       "STATUS\n",
       "核准設立           10954\n",
       "解散              4092\n",
       "廢止               763\n",
       "核准登記             100\n",
       "廢止登記              53\n",
       "核准設立，但已命令解散       48\n",
       "撤回認許              17\n",
       "撤回登記               8\n",
       "廢止認許               3\n",
       "合併解散               2\n",
       "撤銷                 2\n",
       "破產                 2\n",
       "撤銷公司設立             1\n",
       "Name: count, dtype: int64"
      ]
     },
     "execution_count": 36,
     "metadata": {},
     "output_type": "execute_result"
    }
   ],
   "source": [
    "df1['STATUS'].value_counts()"
   ]
  },
  {
   "cell_type": "code",
   "execution_count": 37,
   "id": "a7c0d0f1-bd90-4451-a6a2-de58de99c89d",
   "metadata": {},
   "outputs": [
    {
     "data": {
      "text/plain": [
       "STATUS2\n",
       "設立    10954\n",
       "解散     4145\n",
       "廢止      846\n",
       "登記      100\n",
       "Name: count, dtype: int64"
      ]
     },
     "execution_count": 37,
     "metadata": {},
     "output_type": "execute_result"
    }
   ],
   "source": [
    "# 使用 map() 函數轉換，並處理遺漏值\n",
    "mapping = {\"核准設立\":\"設立\",\n",
    "           \"解散\":\"解散\",\n",
    "           \"廢止\":\"廢止\",\n",
    "           \"核准登記\":\"登記\",\n",
    "           \"廢止登記\":\"廢止\",\n",
    "           \"核准設立，但已命令解散\":\"解散\",\n",
    "           \"撤回認許\":\"廢止\",\n",
    "           \"撤回登記\":\"廢止\",\n",
    "           \"廢止認許\":\"廢止\",\n",
    "           \"合併解散\":\"解散\",\n",
    "           \"撤銷\":\"廢止\",\n",
    "           \"破產\":\"解散\",\n",
    "           \"撤銷公司設立\":\"解散\",\n",
    "          }\n",
    "           \n",
    "df1['STATUS2'] = df1['STATUS'].map(mapping).fillna('其他')\n",
    "df1['STATUS2'].value_counts() "
   ]
  },
  {
   "cell_type": "markdown",
   "id": "5253932e-d45d-487c-801e-9b9a193c9fc7",
   "metadata": {},
   "source": [
    "#### 商業登記 的 「狀態」"
   ]
  },
  {
   "cell_type": "code",
   "execution_count": 38,
   "id": "c3b6ca95-594a-40e1-9f63-6f233fd484aa",
   "metadata": {},
   "outputs": [],
   "source": [
    "# 商業登記\n",
    "# 原假設 STATUS 應包含公司申請歷程，如：「核准設立」才會有「停業」或「廢止」\n",
    "# 但檢視前述IDNO重複資料，並非如此"
   ]
  },
  {
   "cell_type": "code",
   "execution_count": 39,
   "id": "59efe0a8-551a-469f-a08d-b21dd384a9a4",
   "metadata": {},
   "outputs": [
    {
     "data": {
      "text/html": [
       "<div>\n",
       "<style scoped>\n",
       "    .dataframe tbody tr th:only-of-type {\n",
       "        vertical-align: middle;\n",
       "    }\n",
       "\n",
       "    .dataframe tbody tr th {\n",
       "        vertical-align: top;\n",
       "    }\n",
       "\n",
       "    .dataframe thead th {\n",
       "        text-align: right;\n",
       "    }\n",
       "</style>\n",
       "<table border=\"1\" class=\"dataframe\">\n",
       "  <thead>\n",
       "    <tr style=\"text-align: right;\">\n",
       "      <th></th>\n",
       "      <th>IDNO</th>\n",
       "      <th>NAME</th>\n",
       "      <th>ADDRESS</th>\n",
       "      <th>STATUS</th>\n",
       "      <th>CITY</th>\n",
       "      <th>CNT</th>\n",
       "    </tr>\n",
       "  </thead>\n",
       "  <tbody>\n",
       "    <tr>\n",
       "      <th>0</th>\n",
       "      <td>00261367</td>\n",
       "      <td>禮享家企業社</td>\n",
       "      <td>臺南市安平區建平里中華西路2段317號6樓</td>\n",
       "      <td>核准設立</td>\n",
       "      <td>臺南市</td>\n",
       "      <td>1</td>\n",
       "    </tr>\n",
       "    <tr>\n",
       "      <th>1</th>\n",
       "      <td>00267117</td>\n",
       "      <td>福鑫工程實業社</td>\n",
       "      <td>臺南市安平區建平里建平九街60巷13弄6號1樓</td>\n",
       "      <td>核准設立</td>\n",
       "      <td>臺南市</td>\n",
       "      <td>1</td>\n",
       "    </tr>\n",
       "    <tr>\n",
       "      <th>2</th>\n",
       "      <td>00277430</td>\n",
       "      <td>氶勳企業社</td>\n",
       "      <td>臺南市東區泉南里東門路1段84之1號7樓</td>\n",
       "      <td>停業</td>\n",
       "      <td>臺南市</td>\n",
       "      <td>1</td>\n",
       "    </tr>\n",
       "    <tr>\n",
       "      <th>3</th>\n",
       "      <td>00286965</td>\n",
       "      <td>龍燕車業</td>\n",
       "      <td>臺南市東區成大里前鋒路128號</td>\n",
       "      <td>核准設立</td>\n",
       "      <td>臺南市</td>\n",
       "      <td>1</td>\n",
       "    </tr>\n",
       "    <tr>\n",
       "      <th>4</th>\n",
       "      <td>00288942</td>\n",
       "      <td>富士辦公資訊設備</td>\n",
       "      <td>臺南市安南區南興里安中路5段442號</td>\n",
       "      <td>核准設立</td>\n",
       "      <td>臺南市</td>\n",
       "      <td>1</td>\n",
       "    </tr>\n",
       "  </tbody>\n",
       "</table>\n",
       "</div>"
      ],
      "text/plain": [
       "       IDNO      NAME                  ADDRESS STATUS CITY  CNT\n",
       "0  00261367    禮享家企業社    臺南市安平區建平里中華西路2段317號6樓   核准設立  臺南市    1\n",
       "1  00267117   福鑫工程實業社  臺南市安平區建平里建平九街60巷13弄6號1樓   核准設立  臺南市    1\n",
       "2  00277430     氶勳企業社     臺南市東區泉南里東門路1段84之1號7樓     停業  臺南市    1\n",
       "3  00286965      龍燕車業          臺南市東區成大里前鋒路128號   核准設立  臺南市    1\n",
       "4  00288942  富士辦公資訊設備       臺南市安南區南興里安中路5段442號   核准設立  臺南市    1"
      ]
     },
     "execution_count": 39,
     "metadata": {},
     "output_type": "execute_result"
    }
   ],
   "source": [
    "# 新增(合併)計算欄位 CNT = 重複筆數\n",
    "\n",
    "df3 = pd.merge(df2, df2_dedup, on='IDNO', how='left')\n",
    "df3.head()"
   ]
  },
  {
   "cell_type": "code",
   "execution_count": 40,
   "id": "f80d91c7-bcd2-4b1b-b78d-498a716a38df",
   "metadata": {},
   "outputs": [
    {
     "name": "stdout",
     "output_type": "stream",
     "text": [
      "<class 'pandas.core.frame.DataFrame'>\n",
      "RangeIndex: 2237 entries, 0 to 2236\n",
      "Data columns (total 6 columns):\n",
      " #   Column   Non-Null Count  Dtype \n",
      "---  ------   --------------  ----- \n",
      " 0   IDNO     2237 non-null   object\n",
      " 1   NAME     2237 non-null   object\n",
      " 2   ADDRESS  2237 non-null   object\n",
      " 3   STATUS   2237 non-null   object\n",
      " 4   CITY     2237 non-null   object\n",
      " 5   CNT      2237 non-null   int64 \n",
      "dtypes: int64(1), object(5)\n",
      "memory usage: 105.0+ KB\n"
     ]
    }
   ],
   "source": [
    "df3.info()"
   ]
  },
  {
   "cell_type": "code",
   "execution_count": 41,
   "id": "f49f6969-1331-4306-bec7-67e68afdb1bd",
   "metadata": {},
   "outputs": [
    {
     "data": {
      "text/plain": [
       "CNT  STATUS\n",
       "1    停業         140\n",
       "     廢止          69\n",
       "     核准設立      1082\n",
       "     歇業／撤銷      728\n",
       "     申覆（辯）期       2\n",
       "2    停業          17\n",
       "     廢止           5\n",
       "     核准設立        96\n",
       "     歇業／撤銷       25\n",
       "     遷他縣市        63\n",
       "3    廢止           1\n",
       "     核准設立         3\n",
       "     遷他縣市         2\n",
       "4    核准設立         3\n",
       "     遷他縣市         1\n",
       "Name: count, dtype: int64"
      ]
     },
     "execution_count": 41,
     "metadata": {},
     "output_type": "execute_result"
    }
   ],
   "source": [
    "\n",
    "df3.value_counts(subset=['CNT','STATUS'], dropna = False, sort=False)"
   ]
  },
  {
   "cell_type": "code",
   "execution_count": 42,
   "id": "916875e4-7194-4deb-9b96-21d62f834f80",
   "metadata": {},
   "outputs": [
    {
     "data": {
      "text/html": [
       "<div>\n",
       "<style scoped>\n",
       "    .dataframe tbody tr th:only-of-type {\n",
       "        vertical-align: middle;\n",
       "    }\n",
       "\n",
       "    .dataframe tbody tr th {\n",
       "        vertical-align: top;\n",
       "    }\n",
       "\n",
       "    .dataframe thead th {\n",
       "        text-align: right;\n",
       "    }\n",
       "</style>\n",
       "<table border=\"1\" class=\"dataframe\">\n",
       "  <thead>\n",
       "    <tr style=\"text-align: right;\">\n",
       "      <th></th>\n",
       "      <th>IDNO</th>\n",
       "      <th>NAME</th>\n",
       "      <th>ADDRESS</th>\n",
       "      <th>STATUS</th>\n",
       "      <th>CITY</th>\n",
       "    </tr>\n",
       "  </thead>\n",
       "  <tbody>\n",
       "  </tbody>\n",
       "</table>\n",
       "</div>"
      ],
      "text/plain": [
       "Empty DataFrame\n",
       "Columns: [IDNO, NAME, ADDRESS, STATUS, CITY]\n",
       "Index: []"
      ]
     },
     "execution_count": 42,
     "metadata": {},
     "output_type": "execute_result"
    }
   ],
   "source": [
    "# 以 縣市 + 統編 判斷\n",
    "df2[df2.duplicated(subset=['IDNO','CITY'],keep=False)]"
   ]
  },
  {
   "cell_type": "code",
   "execution_count": 43,
   "id": "8ef887be-b2eb-43b1-95fe-5202aad58cf8",
   "metadata": {},
   "outputs": [
    {
     "data": {
      "text/plain": [
       "STATUS\n",
       "核准設立      1184\n",
       "歇業／撤銷      753\n",
       "停業         157\n",
       "廢止          75\n",
       "遷他縣市        66\n",
       "申覆（辯）期       2\n",
       "Name: count, dtype: int64"
      ]
     },
     "execution_count": 43,
     "metadata": {},
     "output_type": "execute_result"
    }
   ],
   "source": [
    "df2['STATUS'].value_counts()"
   ]
  },
  {
   "cell_type": "code",
   "execution_count": 44,
   "id": "2057418c-faa2-485c-b880-c4c6287e0407",
   "metadata": {},
   "outputs": [
    {
     "data": {
      "text/plain": [
       "STATUS2\n",
       "設立    1184\n",
       "解散     910\n",
       "廢止     141\n",
       "申覆       2\n",
       "Name: count, dtype: int64"
      ]
     },
     "execution_count": 44,
     "metadata": {},
     "output_type": "execute_result"
    }
   ],
   "source": [
    "# 使用 map() 函數轉換，並處理遺漏值\n",
    "mapping = {\"核准設立\":\"設立\",\n",
    "           \"歇業／撤銷\":\"解散\",\n",
    "           \"停業\":\"解散\",\n",
    "           \"廢止\":\"廢止\",\n",
    "           \"遷他縣市\":\"廢止\",\n",
    "           \"申覆（辯）期\":\"申覆\",\n",
    "          }\n",
    "           \n",
    "df2['STATUS2'] = df2['STATUS'].map(mapping).fillna('其他')\n",
    "df2['STATUS2'].value_counts() "
   ]
  },
  {
   "cell_type": "code",
   "execution_count": 45,
   "id": "90a93769-95bb-46f6-a6a8-784e0c7aa9bd",
   "metadata": {
    "scrolled": true
   },
   "outputs": [
    {
     "data": {
      "text/html": [
       "<div>\n",
       "<style scoped>\n",
       "    .dataframe tbody tr th:only-of-type {\n",
       "        vertical-align: middle;\n",
       "    }\n",
       "\n",
       "    .dataframe tbody tr th {\n",
       "        vertical-align: top;\n",
       "    }\n",
       "\n",
       "    .dataframe thead th {\n",
       "        text-align: right;\n",
       "    }\n",
       "</style>\n",
       "<table border=\"1\" class=\"dataframe\">\n",
       "  <thead>\n",
       "    <tr style=\"text-align: right;\">\n",
       "      <th></th>\n",
       "      <th>STATUS</th>\n",
       "      <th>count_1</th>\n",
       "      <th>count_2</th>\n",
       "    </tr>\n",
       "  </thead>\n",
       "  <tbody>\n",
       "    <tr>\n",
       "      <th>0</th>\n",
       "      <td>停業</td>\n",
       "      <td>0.0</td>\n",
       "      <td>157.0</td>\n",
       "    </tr>\n",
       "    <tr>\n",
       "      <th>1</th>\n",
       "      <td>合併解散</td>\n",
       "      <td>2.0</td>\n",
       "      <td>0.0</td>\n",
       "    </tr>\n",
       "    <tr>\n",
       "      <th>2</th>\n",
       "      <td>廢止</td>\n",
       "      <td>763.0</td>\n",
       "      <td>75.0</td>\n",
       "    </tr>\n",
       "    <tr>\n",
       "      <th>3</th>\n",
       "      <td>廢止登記</td>\n",
       "      <td>53.0</td>\n",
       "      <td>0.0</td>\n",
       "    </tr>\n",
       "    <tr>\n",
       "      <th>4</th>\n",
       "      <td>廢止認許</td>\n",
       "      <td>3.0</td>\n",
       "      <td>0.0</td>\n",
       "    </tr>\n",
       "    <tr>\n",
       "      <th>5</th>\n",
       "      <td>撤回登記</td>\n",
       "      <td>8.0</td>\n",
       "      <td>0.0</td>\n",
       "    </tr>\n",
       "    <tr>\n",
       "      <th>6</th>\n",
       "      <td>撤回認許</td>\n",
       "      <td>17.0</td>\n",
       "      <td>0.0</td>\n",
       "    </tr>\n",
       "    <tr>\n",
       "      <th>7</th>\n",
       "      <td>撤銷</td>\n",
       "      <td>2.0</td>\n",
       "      <td>0.0</td>\n",
       "    </tr>\n",
       "    <tr>\n",
       "      <th>8</th>\n",
       "      <td>撤銷公司設立</td>\n",
       "      <td>1.0</td>\n",
       "      <td>0.0</td>\n",
       "    </tr>\n",
       "    <tr>\n",
       "      <th>9</th>\n",
       "      <td>核准登記</td>\n",
       "      <td>100.0</td>\n",
       "      <td>0.0</td>\n",
       "    </tr>\n",
       "    <tr>\n",
       "      <th>10</th>\n",
       "      <td>核准設立</td>\n",
       "      <td>10954.0</td>\n",
       "      <td>1184.0</td>\n",
       "    </tr>\n",
       "    <tr>\n",
       "      <th>11</th>\n",
       "      <td>核准設立，但已命令解散</td>\n",
       "      <td>48.0</td>\n",
       "      <td>0.0</td>\n",
       "    </tr>\n",
       "    <tr>\n",
       "      <th>12</th>\n",
       "      <td>歇業／撤銷</td>\n",
       "      <td>0.0</td>\n",
       "      <td>753.0</td>\n",
       "    </tr>\n",
       "    <tr>\n",
       "      <th>13</th>\n",
       "      <td>申覆（辯）期</td>\n",
       "      <td>0.0</td>\n",
       "      <td>2.0</td>\n",
       "    </tr>\n",
       "    <tr>\n",
       "      <th>14</th>\n",
       "      <td>破產</td>\n",
       "      <td>2.0</td>\n",
       "      <td>0.0</td>\n",
       "    </tr>\n",
       "    <tr>\n",
       "      <th>15</th>\n",
       "      <td>解散</td>\n",
       "      <td>4092.0</td>\n",
       "      <td>0.0</td>\n",
       "    </tr>\n",
       "    <tr>\n",
       "      <th>16</th>\n",
       "      <td>遷他縣市</td>\n",
       "      <td>0.0</td>\n",
       "      <td>66.0</td>\n",
       "    </tr>\n",
       "  </tbody>\n",
       "</table>\n",
       "</div>"
      ],
      "text/plain": [
       "         STATUS  count_1  count_2\n",
       "0            停業      0.0    157.0\n",
       "1          合併解散      2.0      0.0\n",
       "2            廢止    763.0     75.0\n",
       "3          廢止登記     53.0      0.0\n",
       "4          廢止認許      3.0      0.0\n",
       "5          撤回登記      8.0      0.0\n",
       "6          撤回認許     17.0      0.0\n",
       "7            撤銷      2.0      0.0\n",
       "8        撤銷公司設立      1.0      0.0\n",
       "9          核准登記    100.0      0.0\n",
       "10         核准設立  10954.0   1184.0\n",
       "11  核准設立，但已命令解散     48.0      0.0\n",
       "12        歇業／撤銷      0.0    753.0\n",
       "13       申覆（辯）期      0.0      2.0\n",
       "14           破產      2.0      0.0\n",
       "15           解散   4092.0      0.0\n",
       "16         遷他縣市      0.0     66.0"
      ]
     },
     "execution_count": 45,
     "metadata": {},
     "output_type": "execute_result"
    }
   ],
   "source": [
    "df3 = pd.merge(df1['STATUS'].value_counts(dropna=False),\n",
    "               df2['STATUS'].value_counts(dropna=False), \n",
    "               on='STATUS',\n",
    "               suffixes=('_1', '_2'), \n",
    "               how='outer')\n",
    "\n",
    "df3 = df3.fillna(0).reset_index()\n",
    "\n",
    "df3.head(df3.shape[0])\n"
   ]
  },
  {
   "cell_type": "code",
   "execution_count": 46,
   "id": "6f7aeec0-3dfd-4482-bff7-6393b3415096",
   "metadata": {},
   "outputs": [
    {
     "data": {
      "text/html": [
       "<div>\n",
       "<style scoped>\n",
       "    .dataframe tbody tr th:only-of-type {\n",
       "        vertical-align: middle;\n",
       "    }\n",
       "\n",
       "    .dataframe tbody tr th {\n",
       "        vertical-align: top;\n",
       "    }\n",
       "\n",
       "    .dataframe thead th {\n",
       "        text-align: right;\n",
       "    }\n",
       "</style>\n",
       "<table border=\"1\" class=\"dataframe\">\n",
       "  <thead>\n",
       "    <tr style=\"text-align: right;\">\n",
       "      <th></th>\n",
       "      <th>STATUS2</th>\n",
       "      <th>count_1</th>\n",
       "      <th>count_2</th>\n",
       "    </tr>\n",
       "  </thead>\n",
       "  <tbody>\n",
       "    <tr>\n",
       "      <th>0</th>\n",
       "      <td>廢止</td>\n",
       "      <td>846.0</td>\n",
       "      <td>141.0</td>\n",
       "    </tr>\n",
       "    <tr>\n",
       "      <th>1</th>\n",
       "      <td>申覆</td>\n",
       "      <td>0.0</td>\n",
       "      <td>2.0</td>\n",
       "    </tr>\n",
       "    <tr>\n",
       "      <th>2</th>\n",
       "      <td>登記</td>\n",
       "      <td>100.0</td>\n",
       "      <td>0.0</td>\n",
       "    </tr>\n",
       "    <tr>\n",
       "      <th>3</th>\n",
       "      <td>解散</td>\n",
       "      <td>4145.0</td>\n",
       "      <td>910.0</td>\n",
       "    </tr>\n",
       "    <tr>\n",
       "      <th>4</th>\n",
       "      <td>設立</td>\n",
       "      <td>10954.0</td>\n",
       "      <td>1184.0</td>\n",
       "    </tr>\n",
       "  </tbody>\n",
       "</table>\n",
       "</div>"
      ],
      "text/plain": [
       "  STATUS2  count_1  count_2\n",
       "0      廢止    846.0    141.0\n",
       "1      申覆      0.0      2.0\n",
       "2      登記    100.0      0.0\n",
       "3      解散   4145.0    910.0\n",
       "4      設立  10954.0   1184.0"
      ]
     },
     "execution_count": 46,
     "metadata": {},
     "output_type": "execute_result"
    }
   ],
   "source": [
    "df3 = pd.merge(df1['STATUS2'].value_counts(dropna=False),\n",
    "               df2['STATUS2'].value_counts(dropna=False), \n",
    "               on='STATUS2',\n",
    "               suffixes=('_1', '_2'), \n",
    "               how='outer')\n",
    "\n",
    "df3 = df3.fillna(0).reset_index()\n",
    "\n",
    "df3.head(df3.shape[0])\n"
   ]
  },
  {
   "cell_type": "markdown",
   "id": "809e6c46-9ac4-444d-a7bd-27c369c987b6",
   "metadata": {},
   "source": [
    "### 合併資料集"
   ]
  },
  {
   "cell_type": "code",
   "execution_count": 47,
   "id": "ca87d5dc-4a3e-4c4b-b744-cf3c008fd171",
   "metadata": {},
   "outputs": [
    {
     "data": {
      "text/html": [
       "<div>\n",
       "<style scoped>\n",
       "    .dataframe tbody tr th:only-of-type {\n",
       "        vertical-align: middle;\n",
       "    }\n",
       "\n",
       "    .dataframe tbody tr th {\n",
       "        vertical-align: top;\n",
       "    }\n",
       "\n",
       "    .dataframe thead th {\n",
       "        text-align: right;\n",
       "    }\n",
       "</style>\n",
       "<table border=\"1\" class=\"dataframe\">\n",
       "  <thead>\n",
       "    <tr style=\"text-align: right;\">\n",
       "      <th></th>\n",
       "      <th>IDNO</th>\n",
       "      <th>NAME</th>\n",
       "      <th>OWNER</th>\n",
       "      <th>ADDRESS</th>\n",
       "      <th>CAPITAL</th>\n",
       "      <th>CAPITAL_NET</th>\n",
       "      <th>CAPITAL_LOCAL</th>\n",
       "      <th>STATUS</th>\n",
       "      <th>DATA_DATE</th>\n",
       "      <th>CITY</th>\n",
       "      <th>STATUS2</th>\n",
       "      <th>CATEGORY</th>\n",
       "    </tr>\n",
       "  </thead>\n",
       "  <tbody>\n",
       "    <tr>\n",
       "      <th>0</th>\n",
       "      <td>00001200</td>\n",
       "      <td>形韻科技股份有限公司</td>\n",
       "      <td>林O民</td>\n",
       "      <td>新竹市東區中華路二段198號1樓及地下一樓</td>\n",
       "      <td>1000000</td>\n",
       "      <td>1000000</td>\n",
       "      <td>0</td>\n",
       "      <td>核准設立</td>\n",
       "      <td>2025-03-01</td>\n",
       "      <td>新竹市</td>\n",
       "      <td>設立</td>\n",
       "      <td>公司登記</td>\n",
       "    </tr>\n",
       "  </tbody>\n",
       "</table>\n",
       "</div>"
      ],
      "text/plain": [
       "       IDNO        NAME OWNER                ADDRESS  CAPITAL  CAPITAL_NET  \\\n",
       "0  00001200  形韻科技股份有限公司   林O民  新竹市東區中華路二段198號1樓及地下一樓  1000000      1000000   \n",
       "\n",
       "   CAPITAL_LOCAL STATUS   DATA_DATE CITY STATUS2 CATEGORY  \n",
       "0              0   核准設立  2025-03-01  新竹市      設立     公司登記  "
      ]
     },
     "execution_count": 47,
     "metadata": {},
     "output_type": "execute_result"
    }
   ],
   "source": [
    "df1['CATEGORY']='公司登記'\n",
    "df1.head(1)"
   ]
  },
  {
   "cell_type": "code",
   "execution_count": 48,
   "id": "f6f52785-5a0f-4c0f-b995-8b8481ef9a94",
   "metadata": {},
   "outputs": [
    {
     "data": {
      "text/html": [
       "<div>\n",
       "<style scoped>\n",
       "    .dataframe tbody tr th:only-of-type {\n",
       "        vertical-align: middle;\n",
       "    }\n",
       "\n",
       "    .dataframe tbody tr th {\n",
       "        vertical-align: top;\n",
       "    }\n",
       "\n",
       "    .dataframe thead th {\n",
       "        text-align: right;\n",
       "    }\n",
       "</style>\n",
       "<table border=\"1\" class=\"dataframe\">\n",
       "  <thead>\n",
       "    <tr style=\"text-align: right;\">\n",
       "      <th></th>\n",
       "      <th>IDNO</th>\n",
       "      <th>NAME</th>\n",
       "      <th>ADDRESS</th>\n",
       "      <th>STATUS</th>\n",
       "      <th>CITY</th>\n",
       "      <th>STATUS2</th>\n",
       "      <th>CATEGORY</th>\n",
       "    </tr>\n",
       "  </thead>\n",
       "  <tbody>\n",
       "    <tr>\n",
       "      <th>0</th>\n",
       "      <td>00261367</td>\n",
       "      <td>禮享家企業社</td>\n",
       "      <td>臺南市安平區建平里中華西路2段317號6樓</td>\n",
       "      <td>核准設立</td>\n",
       "      <td>臺南市</td>\n",
       "      <td>設立</td>\n",
       "      <td>營業登記</td>\n",
       "    </tr>\n",
       "  </tbody>\n",
       "</table>\n",
       "</div>"
      ],
      "text/plain": [
       "       IDNO    NAME                ADDRESS STATUS CITY STATUS2 CATEGORY\n",
       "0  00261367  禮享家企業社  臺南市安平區建平里中華西路2段317號6樓   核准設立  臺南市      設立     營業登記"
      ]
     },
     "execution_count": 48,
     "metadata": {},
     "output_type": "execute_result"
    }
   ],
   "source": [
    "df2['CATEGORY'] = '營業登記'\n",
    "df2.head(1)"
   ]
  },
  {
   "cell_type": "code",
   "execution_count": 49,
   "id": "3347de7f-25ee-4586-95d6-4432050fa503",
   "metadata": {},
   "outputs": [],
   "source": [
    "df = pd.concat([df1,df2],ignore_index=True)"
   ]
  },
  {
   "cell_type": "code",
   "execution_count": 50,
   "id": "f8779c2e-baaa-4c1f-b090-c00dcdb758cb",
   "metadata": {},
   "outputs": [
    {
     "data": {
      "text/plain": [
       "CATEGORY\n",
       "公司登記    16045\n",
       "營業登記     2237\n",
       "Name: count, dtype: int64"
      ]
     },
     "execution_count": 50,
     "metadata": {},
     "output_type": "execute_result"
    }
   ],
   "source": [
    "df['CATEGORY'].value_counts()"
   ]
  },
  {
   "cell_type": "markdown",
   "id": "3f413d8a-58a9-411b-a809-6dcc4d550128",
   "metadata": {},
   "source": [
    "## 儲存資料清理後的結果"
   ]
  },
  {
   "cell_type": "code",
   "execution_count": 51,
   "id": "c3f60a66-f129-4a39-b376-92978b486c58",
   "metadata": {},
   "outputs": [
    {
     "name": "stdout",
     "output_type": "stream",
     "text": [
      "<class 'pandas.core.frame.DataFrame'>\n",
      "RangeIndex: 18282 entries, 0 to 18281\n",
      "Data columns (total 12 columns):\n",
      " #   Column         Non-Null Count  Dtype  \n",
      "---  ------         --------------  -----  \n",
      " 0   IDNO           18282 non-null  object \n",
      " 1   NAME           18282 non-null  object \n",
      " 2   OWNER          11172 non-null  object \n",
      " 3   ADDRESS        18282 non-null  object \n",
      " 4   CAPITAL        16045 non-null  float64\n",
      " 5   CAPITAL_NET    16045 non-null  float64\n",
      " 6   CAPITAL_LOCAL  16045 non-null  float64\n",
      " 7   STATUS         18282 non-null  object \n",
      " 8   DATA_DATE      16045 non-null  object \n",
      " 9   CITY           18282 non-null  object \n",
      " 10  STATUS2        18282 non-null  object \n",
      " 11  CATEGORY       18282 non-null  object \n",
      "dtypes: float64(3), object(9)\n",
      "memory usage: 1.7+ MB\n"
     ]
    }
   ],
   "source": [
    "# 刪除非必要欄位\n",
    "df.info()\n",
    "\n",
    "del df[\"STATUS\"]"
   ]
  },
  {
   "cell_type": "code",
   "execution_count": 52,
   "id": "2e22857f-db88-45fe-9a99-47b45a5f24d3",
   "metadata": {},
   "outputs": [
    {
     "data": {
      "text/plain": [
       "Index(['統一編號', '公司名稱', '負責人', '公司地址', '資本總額', '實收資本額', '在境內營運資金', '產製日期', '縣市',\n",
       "       '狀態', '類別'],\n",
       "      dtype='object')"
      ]
     },
     "execution_count": 52,
     "metadata": {},
     "output_type": "execute_result"
    }
   ],
   "source": [
    "# 欄位名稱 更名回中文\n",
    "new_col = {\"CITY\":\"縣市\",\n",
    "           \"IDNO\":\"統一編號\",\n",
    "           \"NAME\":\"公司名稱\",\n",
    "           \"OWNER\":\"負責人\",\n",
    "           \"ADDRESS\":\"公司地址\",\n",
    "           \"CAPITAL\":\"資本總額\",\n",
    "           \"CAPITAL_NET\":\"實收資本額\",\n",
    "           \"CAPITAL_LOCAL\":\"在境內營運資金\",\n",
    "           \"STATUS2\":\"狀態\",\n",
    "           \"DATA_DATE\":\"產製日期\",\n",
    "           \"CATEGORY\":\"類別\",\n",
    "          }\n",
    "df = df.rename(columns=new_col)\n",
    "df.columns\n"
   ]
  },
  {
   "cell_type": "code",
   "execution_count": 53,
   "id": "0a35a74e-bbc1-4f18-815c-c1bbcfc12836",
   "metadata": {},
   "outputs": [],
   "source": [
    "# 儲存為 CSV\n",
    "csvf = \"lab-24.csv\"\n",
    "df.to_csv(csvf, index=False, encoding='utf-8-sig',quoting = csv.QUOTE_NONNUMERIC)"
   ]
  },
  {
   "cell_type": "code",
   "execution_count": 54,
   "id": "d7eb13f8-2e8f-436e-bbb5-03041b6a45ec",
   "metadata": {},
   "outputs": [],
   "source": [
    "# 儲存為 Excel\n",
    "# 儲存為 Excel\n",
    "xlsx = \"lab-24.xlsx\"\n",
    "with pd.ExcelWriter(xlsx) as writer:\n",
    "    df.to_excel(writer, sheet_name='第三方支付', index=False)\n",
    "    "
   ]
  },
  {
   "cell_type": "code",
   "execution_count": null,
   "id": "6161cb9c-c641-4e0a-aa84-6b4fe8f9b88a",
   "metadata": {},
   "outputs": [],
   "source": []
  },
  {
   "cell_type": "code",
   "execution_count": null,
   "id": "62a04973-8860-4765-bee0-63c930d52baf",
   "metadata": {},
   "outputs": [],
   "source": []
  },
  {
   "cell_type": "code",
   "execution_count": null,
   "id": "5e6a5b91-265a-4529-8b14-bbc141e59534",
   "metadata": {},
   "outputs": [],
   "source": []
  },
  {
   "cell_type": "code",
   "execution_count": null,
   "id": "86156cee-1a36-4a5f-b268-a6e4c2942990",
   "metadata": {},
   "outputs": [],
   "source": []
  }
 ],
 "metadata": {
  "kernelspec": {
   "display_name": "Python 3 (ipykernel)",
   "language": "python",
   "name": "python3"
  },
  "language_info": {
   "codemirror_mode": {
    "name": "ipython",
    "version": 3
   },
   "file_extension": ".py",
   "mimetype": "text/x-python",
   "name": "python",
   "nbconvert_exporter": "python",
   "pygments_lexer": "ipython3",
   "version": "3.13.2"
  }
 },
 "nbformat": 4,
 "nbformat_minor": 5
}
