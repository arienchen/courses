{
 "cells": [
  {
   "cell_type": "markdown",
   "id": "6277e360-0d93-4466-9e95-d53eb9af9f45",
   "metadata": {},
   "source": [
    "## LAB-18-03 產生交易測試資料(Gemini)\n",
    "由 Gemini 生成  \n",
    "\n",
    "[提示詞](https://g.co/gemini/share/98c8f58be3a6)：  \n",
    "```\n",
    "請提供 Python 範例程式產生測試資料，並儲存為 CSV 檔，測試資料欄位有[\"交易時間\",\"交易主機\",\"交易代碼\",\"交易延遲\",\"回傳碼\"]，各欄位說明如下：\n",
    "1. \"交易時間\"：格式為 \"YYYY-MM-DD hh:mm:ss.SSS\" \n",
    "2. \"交易主機\"：值清單為 [\"AP1\",\"AP2\"]\n",
    "3. \"交易代碼\"：值清單為 [\"A001\",\"B002\",\"C003\",\"D004\"]\n",
    "4. \"交易延遲\"：數值格式為 int ，值介於 100 - 9999999\n",
    "5. \"回傳碼\"：值清單為 [\"0000\",\"X999\"]。\n",
    "請產出 500000 測試資料，其中 \n",
    "* \"交易主機\"為亂數分佈\n",
    "* \"交易代碼\"之\"A001\"佔比45%，其他為亂數分佈\n",
    "* \"交易時間\"為 \"2025-03-12 06:00:00.000\" 至 \"2025-03-12 18:00:00.000\" \n",
    "* \"交易延遲\" 的平均值約為 500 ，中間值約為1000     \n",
    "* \"回傳碼\" 為 \"0000\" 佔比約為 99%\n",
    "```\n"
   ]
  },
  {
   "cell_type": "code",
   "execution_count": null,
   "id": "d250fd06-171c-4270-b912-d5cfcb398361",
   "metadata": {},
   "outputs": [],
   "source": [
    "import csv\n",
    "import random\n",
    "import datetime"
   ]
  },
  {
   "cell_type": "code",
   "execution_count": null,
   "id": "6dbe3f43-e443-4071-9bef-dab003716966",
   "metadata": {},
   "outputs": [],
   "source": [
    "# 測試資料生成筆數\n",
    "num_rows = 500_000"
   ]
  },
  {
   "cell_type": "code",
   "execution_count": null,
   "id": "6c8c4ce6-d351-4966-a2a0-5eb3ad805981",
   "metadata": {},
   "outputs": [],
   "source": [
    "# 測試資料欄位條件\n",
    "data = []\n",
    "transaction_hosts = [\"AP1\", \"AP2\"]\n",
    "transaction_codes = [\"A001\", \"B002\", \"C003\", \"D004\"]\n",
    "return_codes = [\"0000\", \"X999\"]\n",
    "\n",
    "start_time = datetime.datetime(2025, 3, 12, 6, 0, 0, 0)\n",
    "end_time = datetime.datetime(2025, 3, 12, 18, 0, 0, 0)\n",
    "time_delta = (end_time - start_time).total_seconds()"
   ]
  },
  {
   "cell_type": "code",
   "execution_count": null,
   "id": "29991483-b2a9-419d-9ea9-e6acf5f9b25b",
   "metadata": {},
   "outputs": [],
   "source": [
    "# 產生測試資料\n",
    "\n",
    "for _ in range(num_rows):\n",
    "    # 交易時間\n",
    "    random_seconds = random.uniform(0, time_delta)\n",
    "    transaction_time = start_time + datetime.timedelta(seconds=random_seconds)\n",
    "    transaction_time_str = transaction_time.strftime(\"%Y-%m-%d %H:%M:%S.%f\")[:-3]  # Remove last 3 digits to get milliseconds\n",
    "\n",
    "    # 交易主機\n",
    "    transaction_host = random.choice(transaction_hosts)\n",
    "\n",
    "    # 交易代碼（A001 佔比 45%）\n",
    "    if random.random() < 0.45:\n",
    "        transaction_code = \"A001\"\n",
    "    else:\n",
    "        transaction_code = random.choice(transaction_codes[1:])\n",
    "\n",
    "    # 交易延遲（平均值約 500，中間值約 1000）\n",
    "    transaction_delay = int(random.expovariate(1/500) + random.expovariate(1/1000)) #用 expovariate() 產生指數分佈的隨機數後，再加總得到一個符合需求的延遲\n",
    "    transaction_delay = min(transaction_delay, 9999999) # 限制上限\n",
    "\n",
    "    # 回傳碼（0000 佔比約 99%）\n",
    "    if random.random() < 0.99:\n",
    "        return_code = \"0000\"\n",
    "    else:\n",
    "        return_code = \"X999\"\n",
    "\n",
    "    data.append([transaction_time_str, transaction_host, transaction_code, transaction_delay, return_code])"
   ]
  },
  {
   "cell_type": "code",
   "execution_count": null,
   "id": "2bbe6d20-21aa-4b32-8c37-92d39e1bafe7",
   "metadata": {},
   "outputs": [],
   "source": [
    "# 寫入 CSV 檔案\n",
    "fname = \"test_data3.csv\"\n",
    "\n",
    "with open(fname, 'w', newline='', encoding='utf-8') as csvfile:\n",
    "    writer = csv.writer(csvfile)\n",
    "    writer.writerow([\"交易時間\", \"交易主機\", \"交易代碼\", \"交易延遲\", \"回傳碼\"])  # 寫入標題\n",
    "    writer.writerows(data)\n",
    "\n",
    "print(f\"測試資料已產生並儲存至 {fname}\")"
   ]
  },
  {
   "cell_type": "code",
   "execution_count": null,
   "id": "9ce00dde-9884-4323-aa22-da31749b59ea",
   "metadata": {},
   "outputs": [],
   "source": [
    "#檢視資料內容\n",
    "\n",
    "# Windows \n",
    "#!dir {fname}\n",
    "#!more -n 20 {fname} \n",
    "\n",
    "# Mac OSX\n",
    "!ls -ltr {fname} \n",
    "!head {fname}"
   ]
  },
  {
   "cell_type": "code",
   "execution_count": null,
   "id": "2daf2c06-2c57-478d-9d70-f28e849e3b26",
   "metadata": {},
   "outputs": [],
   "source": [
    "# TODO\n",
    "# 修改提示詞，將 \"交易時間\" 排序後再儲存"
   ]
  },
  {
   "cell_type": "code",
   "execution_count": null,
   "id": "aba06c46-7609-4549-b71d-5337bd8719b4",
   "metadata": {},
   "outputs": [],
   "source": []
  }
 ],
 "metadata": {
  "kernelspec": {
   "display_name": "Python 3 (ipykernel)",
   "language": "python",
   "name": "python3"
  },
  "language_info": {
   "codemirror_mode": {
    "name": "ipython",
    "version": 3
   },
   "file_extension": ".py",
   "mimetype": "text/x-python",
   "name": "python",
   "nbconvert_exporter": "python",
   "pygments_lexer": "ipython3",
   "version": "3.13.2"
  }
 },
 "nbformat": 4,
 "nbformat_minor": 5
}
