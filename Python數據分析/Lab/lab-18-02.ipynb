{
 "cells": [
  {
   "cell_type": "markdown",
   "id": "2a7145c7-29a3-440d-b6a4-8589f1b14377",
   "metadata": {},
   "source": [
    "## LAB-18-02 產生交易測試資料(ChatGPT)\n",
    "由 ChatGPT 生成  \n",
    "\n",
    "[提示詞](https://chatgpt.com/share/67d3ae88-af20-8009-962a-522bf6aff7d3)：  \n",
    "```\n",
    "請提供 Python 範例程式產生測試資料，並儲存為 CSV 檔，測試資料欄位有[\"交易時間\",\"交易主機\",\"交易代碼\",\"交易延遲\",\"回傳碼\"]，各欄位說明如下：\n",
    "1. \"交易時間\"：格式為 \"YYYY-MM-DD hh:mm:ss.SSS\" \n",
    "2. \"交易主機\"：值清單為 [\"AP1\",\"AP2\"]\n",
    "3. \"交易代碼\"：值清單為 [\"A001\",\"B002\",\"C003\",\"D004\"]\n",
    "4. \"交易延遲\"：數值格式為 int ，值介於 100 - 9999999\n",
    "5. \"回傳碼\"：值清單為 [\"0000\",\"X999\"]。\n",
    "請產出 500000 測試資料，其中 \n",
    "* \"交易主機\"為亂數分佈\n",
    "* \"交易代碼\"之\"A001\"佔比45%，其他為亂數分佈\n",
    "* \"交易時間\"為 \"2025-03-12 06:00:00.000\" 至 \"2025-03-12 18:00:00.000\" \n",
    "* \"交易延遲\" 的平均值約為 500 ，中間值約為1000     \n",
    "* \"回傳碼\" 為 \"0000\" 佔比約為 99%\n",
    "```\n"
   ]
  },
  {
   "cell_type": "code",
   "execution_count": null,
   "id": "781d6e7f-d798-4974-aadf-e3d2b371280c",
   "metadata": {},
   "outputs": [],
   "source": [
    "import pandas as pd\n",
    "import numpy as np\n",
    "from datetime import datetime, timedelta"
   ]
  },
  {
   "cell_type": "code",
   "execution_count": null,
   "id": "b20cb1a4-6fc7-41c1-89d7-53a40198087c",
   "metadata": {},
   "outputs": [],
   "source": [
    "# 測試資料筆數\n",
    "num_rows = 500_000"
   ]
  },
  {
   "cell_type": "code",
   "execution_count": null,
   "id": "7b77cd78-8c70-43ef-b055-060104219d16",
   "metadata": {},
   "outputs": [],
   "source": [
    "# 設定交易時間範圍\n",
    "start_time = datetime(2025, 3, 12, 6, 0, 0, 0)\n",
    "end_time = datetime(2025, 3, 12, 18, 0, 0, 0)\n",
    "\n",
    "# 產生隨機交易時間\n",
    "def random_datetime(n):\n",
    "    return [start_time + timedelta(milliseconds=np.random.randint(0, int((end_time - start_time).total_seconds() * 1000))) for _ in range(n)]\n"
   ]
  },
  {
   "cell_type": "code",
   "execution_count": null,
   "id": "270ddb7f-ac5a-45ee-a1d8-0e2a9ef02429",
   "metadata": {},
   "outputs": [],
   "source": [
    "# 交易主機分佈\n",
    "hosts = [\"AP1\", \"AP2\"]"
   ]
  },
  {
   "cell_type": "code",
   "execution_count": null,
   "id": "0445006e-f0f8-450f-b697-2c4ff133007a",
   "metadata": {},
   "outputs": [],
   "source": [
    "# 交易代碼，A001 佔 45%，其餘隨機\n",
    "trans_codes = [\"A001\"] * int(0.45 * num_rows) + np.random.choice([\"B002\", \"C003\", \"D004\"], int(0.55 * num_rows)).tolist()\n",
    "np.random.shuffle(trans_codes)"
   ]
  },
  {
   "cell_type": "code",
   "execution_count": null,
   "id": "ac557808-6924-41ec-a4b1-3d91330af36d",
   "metadata": {},
   "outputs": [],
   "source": [
    "# 交易延遲（log-normal 分佈，使平均約 500，中位數約 1000）\n",
    "latencies = np.random.lognormal(mean=np.log(500), sigma=0.7, size=num_rows).astype(int)\n",
    "latencies = np.clip(latencies, 100, 9999999)  # 限制範圍"
   ]
  },
  {
   "cell_type": "code",
   "execution_count": null,
   "id": "5072bcdb-3cec-493e-890b-13207a53234f",
   "metadata": {},
   "outputs": [],
   "source": [
    "# 回傳碼（0000 佔 99%）\n",
    "response_codes = np.random.choice([\"0000\", \"X999\"], p=[0.99, 0.01], size=num_rows)"
   ]
  },
  {
   "cell_type": "code",
   "execution_count": null,
   "id": "c59339be-3574-43b0-8e52-fb42457fbbbc",
   "metadata": {},
   "outputs": [],
   "source": [
    "# 生成 DataFrame\n",
    "data = pd.DataFrame({\n",
    "    \"交易時間\": random_datetime(num_rows),\n",
    "    \"交易主機\": np.random.choice(hosts, num_rows),\n",
    "    \"交易代碼\": trans_codes,\n",
    "    \"交易延遲\": latencies,\n",
    "    \"回傳碼\": response_codes\n",
    "})\n",
    "\n",
    "# 轉換時間格式\n",
    "data[\"交易時間\"] = data[\"交易時間\"].dt.strftime(\"%Y-%m-%d %H:%M:%S.%f\").str[:-3]\n"
   ]
  },
  {
   "cell_type": "code",
   "execution_count": null,
   "id": "1f2f7b24-7a06-4b03-84bc-1f98e96ec456",
   "metadata": {},
   "outputs": [],
   "source": [
    "# 儲存為 CSV\n",
    "fname = \"test_data2.csv\"\n",
    "data.to_csv(fname, index=False, encoding='utf-8-sig')\n",
    "\n",
    "print(f\"CSV 檔案已成功產生：{csvf}\")\n"
   ]
  },
  {
   "cell_type": "code",
   "execution_count": null,
   "id": "ecbda9c8-78c2-4e9a-9253-260dc6efb6e3",
   "metadata": {},
   "outputs": [],
   "source": [
    "#檢視資料內容\n",
    "\n",
    "# Windows \n",
    "#!dir {fname}\n",
    "#!more -n 20 {fname} \n",
    "\n",
    "# Mac OSX\n",
    "!ls -ltr {fname} \n",
    "!head {fname}"
   ]
  },
  {
   "cell_type": "code",
   "execution_count": null,
   "id": "57e3236d-7b1d-416b-a0da-25e214290aaa",
   "metadata": {},
   "outputs": [],
   "source": []
  }
 ],
 "metadata": {
  "kernelspec": {
   "display_name": "Python 3 (ipykernel)",
   "language": "python",
   "name": "python3"
  },
  "language_info": {
   "codemirror_mode": {
    "name": "ipython",
    "version": 3
   },
   "file_extension": ".py",
   "mimetype": "text/x-python",
   "name": "python",
   "nbconvert_exporter": "python",
   "pygments_lexer": "ipython3",
   "version": "3.13.2"
  }
 },
 "nbformat": 4,
 "nbformat_minor": 5
}
