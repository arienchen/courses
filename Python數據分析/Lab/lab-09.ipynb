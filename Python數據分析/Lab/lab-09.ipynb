{
 "cells": [
  {
   "cell_type": "markdown",
   "id": "42dc409a-2446-488d-b787-f2e14fb36a03",
   "metadata": {},
   "source": [
    "# LAB-09 字典 dict \n",
    "在 Python 中，`dict`（字典）是一種映射型別（Mapping Type），用來存放鍵值對（key-value pairs），並允許快速查找值"
   ]
  },
  {
   "cell_type": "markdown",
   "id": "72bd39e8-f500-4085-aa30-c0e3fa8b5524",
   "metadata": {},
   "source": [
    "## 1.宣告"
   ]
  },
  {
   "cell_type": "code",
   "execution_count": null,
   "id": "b86f85ef-c556-4c96-8f29-822c2c9283bd",
   "metadata": {},
   "outputs": [],
   "source": [
    "# 使用 {}\n",
    "person = {\n",
    "    \"name\": \"Alice\",\n",
    "    \"age\": 30,\n",
    "    \"city\": \"Taipei\"\n",
    "}\n",
    "\n",
    "print(person)                                    # {'name': 'Alice', 'age': 30, 'city': 'Taipei'}\n"
   ]
  },
  {
   "cell_type": "code",
   "execution_count": null,
   "id": "eac0f8dd-adbc-4eeb-a1b9-9b4a550b00b5",
   "metadata": {},
   "outputs": [],
   "source": [
    "# 使用 dict()\n",
    "person = dict(name=\"Alice\", age=30, city=\"Taipei\")\n",
    "print(person)                                    # {'name': 'Alice', 'age': 30, 'city': 'Taipei'}\n"
   ]
  },
  {
   "cell_type": "code",
   "execution_count": null,
   "id": "4aa49e94-6ffb-4d10-be9d-9a9fdeb32512",
   "metadata": {},
   "outputs": [],
   "source": [
    "# 使用 zip()\n",
    "keys = [\"name\", \"age\", \"city\"]\n",
    "values = [\"Alice\", 30, \"Taipei\"]\n",
    "person = dict(zip(keys, values))\n",
    "print(person)                                    # {'name': 'Alice', 'age': 30, 'city': 'Taipei'}\n"
   ]
  },
  {
   "cell_type": "code",
   "execution_count": null,
   "id": "0c604c7e-baaa-4e1d-96b3-95dbe965bce2",
   "metadata": {},
   "outputs": [],
   "source": [
    "# 透過 dict.fromkeys() \n",
    "# 只建 key-value 的 key ，但 value 值為固定\n",
    "keys = [\"name\", \"age\", \"city\"]\n",
    "default_value = None\n",
    "person = dict.fromkeys(keys, default_value)\n",
    "print(person)                                    # {'name': None, 'age': None, 'city': None}\n"
   ]
  },
  {
   "cell_type": "markdown",
   "id": "a689531a-efd0-4483-b983-b2eac43f88fc",
   "metadata": {},
   "source": [
    "## 2.訪問及修改"
   ]
  },
  {
   "cell_type": "code",
   "execution_count": null,
   "id": "37062f16-8092-4a78-80cb-3a57fbfb4ced",
   "metadata": {},
   "outputs": [],
   "source": [
    "# 由 key 取得值\n",
    "person = {\n",
    "    \"name\": \"Alice\",\n",
    "    \"age\": 30,\n",
    "    \"city\": \"Taipei\"\n",
    "}\n",
    "\n",
    "print(person[\"name\"])                            # Alice\n",
    "\n",
    "print(person.get(\"gender\", \"Not Found\"))         # Not Found\n",
    "\n",
    "print(person[\"gender\"])                          # 報錯 KeyError \n"
   ]
  },
  {
   "cell_type": "code",
   "execution_count": null,
   "id": "15e4dc1b-afcb-43db-8f32-c1f00bd1492d",
   "metadata": {},
   "outputs": [],
   "source": [
    "# 新增或修改\n",
    "person[\"age\"] = 31                               # 修改\n",
    "person[\"gender\"] = \"F\"                           # 新增\n",
    "print(person)                                    # {'name': 'Alice', 'age': 31, 'city': 'Taipei', 'gender': 'F'}\n"
   ]
  },
  {
   "cell_type": "code",
   "execution_count": null,
   "id": "46edfa28-e5a4-4a4b-b03b-9ad7bf4dcc38",
   "metadata": {},
   "outputs": [],
   "source": [
    "# 刪除鍵值\n",
    "del person[\"city\"]\n",
    "print(person)                                    # {'name': 'Alice', 'age': 31, 'gender': 'F'}\n",
    "\n",
    "# 使用 pop()，回傳刪除的值\n",
    "age = person.pop(\"age\")\n",
    "print(age)                                       # 31\n",
    "print(person)                                    # {'name': 'Alice', 'gender': 'F'}\n"
   ]
  },
  {
   "cell_type": "code",
   "execution_count": null,
   "id": "e21de1b4-51cb-4a34-913b-b72dba1d9f51",
   "metadata": {},
   "outputs": [],
   "source": [
    "# 合併\n",
    "dict1 = {\"a\": 1, \"b\": 2}\n",
    "dict2 = {\"b\": 3, \"c\": 4}\n",
    "\n",
    "# 方法 1：使用 `update()`\n",
    "dict1.update(dict2)\n",
    "print(dict1)                                     # {'a': 1, 'b': 3, 'c': 4}\n",
    "\n",
    "# 方法 2：使用 `|` 運算符（Python 3.9+）\n",
    "dict3 = dict1 | dict2\n",
    "print(dict3)                                     # {'a': 1, 'b': 3, 'c': 4}\n"
   ]
  },
  {
   "cell_type": "code",
   "execution_count": null,
   "id": "ce5c6290-29af-467b-a345-4955bd0680cd",
   "metadata": {},
   "outputs": [],
   "source": [
    "# 複製\n",
    "copy_dict = person.copy()\n",
    "print(copy_dict)\n",
    "\n",
    "# 不使用 copy \n",
    "p2 = person\n",
    "p2[\"name\"] = \"Merry\"\n",
    "print(person[\"name\"] == p2[\"name\"])\n",
    "print(person)                                    # p2, person 為相同物件，修改 p2 等同修改 person\n",
    "print(p2)\n"
   ]
  },
  {
   "cell_type": "code",
   "execution_count": null,
   "id": "a3af90ca-702b-4603-90ee-cbc4c8d64e5e",
   "metadata": {},
   "outputs": [],
   "source": [
    "# 清空\n",
    "person.clear()\n",
    "print(person)                                    # {}\n"
   ]
  },
  {
   "cell_type": "markdown",
   "id": "051127eb-0dd1-4e31-a2d7-7fbfa5a101e2",
   "metadata": {},
   "source": [
    "## 3.字典的迭代 (迴圈使用)"
   ]
  },
  {
   "cell_type": "code",
   "execution_count": null,
   "id": "47c74c58-9561-4a43-91e3-36232b121afc",
   "metadata": {},
   "outputs": [],
   "source": [
    "# key-value \n",
    "print(\"key-value\\n-----------\")\n",
    "for key, value in person.items():\n",
    "    print(f\"{key:10}: {value:20}\")\n",
    "\n",
    "print(\"\\nkeys\\n-----------\")\n",
    "for key in person.keys():\n",
    "    print(key)\n",
    "\n",
    "print(\"\\nvalues\\n-----------\")\n",
    "for value in person.values():\n",
    "    print(value)\n"
   ]
  },
  {
   "cell_type": "code",
   "execution_count": null,
   "id": "8dd1899e-be74-4557-b34f-7fc87cc5e224",
   "metadata": {},
   "outputs": [],
   "source": []
  }
 ],
 "metadata": {
  "kernelspec": {
   "display_name": "Python 3 (ipykernel)",
   "language": "python",
   "name": "python3"
  },
  "language_info": {
   "codemirror_mode": {
    "name": "ipython",
    "version": 3
   },
   "file_extension": ".py",
   "mimetype": "text/x-python",
   "name": "python",
   "nbconvert_exporter": "python",
   "pygments_lexer": "ipython3",
   "version": "3.13.2"
  }
 },
 "nbformat": 4,
 "nbformat_minor": 5
}
