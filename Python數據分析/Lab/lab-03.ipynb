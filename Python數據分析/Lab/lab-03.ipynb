{
 "cells": [
  {
   "cell_type": "markdown",
   "id": "2778087b-e048-44c8-9697-822102e76e66",
   "metadata": {},
   "source": [
    "# LAB-03 Python Keyword\n",
    "\n",
    "* 使用 `keyword` 模組，列出 Python 保留字\n",
    "* `import` 指令\n",
    "* `for` 迴圈\n",
    "* 顯示變數(物件)的值或內容\n",
    "* 使用 `type()` 取得型別\n",
    "* 使用 `dir()` 列出物件變數及函式\n",
    "* Jupyter 基本操作\n",
    "  + 選擇目前程式格(Cell)\n",
    "  + 執行\n",
    "  + 重啟 Kernel\n",
    "  + 清除所有程式格的輸出\n",
    "  + 儲存為 PDF\n"
   ]
  },
  {
   "cell_type": "code",
   "execution_count": null,
   "id": "45f35145-b115-4911-bbbf-0b2a879a7680",
   "metadata": {},
   "outputs": [],
   "source": [
    "from keyword import kwlist, softkwlist"
   ]
  },
  {
   "cell_type": "code",
   "execution_count": null,
   "id": "1d20123e-abc8-48b4-b745-af6cd0409718",
   "metadata": {},
   "outputs": [],
   "source": [
    "# 印出內建保留字\n",
    "print('Keywords:')\n",
    "#print(f'內健保留字 共 {len(kwlist)} 個')\n",
    "for i,kw in enumerate(kwlist, start=1):\n",
    "    print(f'{i:2}: {kw}')"
   ]
  },
  {
   "cell_type": "code",
   "execution_count": null,
   "id": "f504fcce-4138-4d84-b561-ad1ee3482c58",
   "metadata": {},
   "outputs": [],
   "source": [
    "# 印出內建保留字\n",
    "print('Soft keywords:')\n",
    "for i, skw in enumerate(softkwlist, start=1):\n",
    "    print(f'{i:2}: {skw}')\n"
   ]
  },
  {
   "cell_type": "code",
   "execution_count": null,
   "id": "0a0679df-f5ab-42bc-a2b1-dd7f36d372ec",
   "metadata": {},
   "outputs": [],
   "source": [
    "# 直接顯示 kwlist 內容\n",
    "kwlist"
   ]
  },
  {
   "cell_type": "code",
   "execution_count": null,
   "id": "ede0a058-3348-46b1-928e-66bbb80eda23",
   "metadata": {},
   "outputs": [],
   "source": [
    "# 直接顯示 softkwlist 內容\n",
    "softkwlist"
   ]
  },
  {
   "cell_type": "code",
   "execution_count": null,
   "id": "d077f817-ef8b-44bd-853a-526c2874cfec",
   "metadata": {},
   "outputs": [],
   "source": [
    "# 顯示 softkwlist 的型別\n",
    "type(softkwlist)"
   ]
  },
  {
   "cell_type": "code",
   "execution_count": null,
   "id": "c604a061-1e62-4ee6-bd19-83a531c05cb3",
   "metadata": {},
   "outputs": [],
   "source": [
    "# 顯示 list 物件內容\n",
    "dir(list)"
   ]
  },
  {
   "cell_type": "code",
   "execution_count": null,
   "id": "43a7cc4c-3c95-45da-bdd9-f6d8e884d38c",
   "metadata": {},
   "outputs": [],
   "source": [
    "# 顯示 os 模組(套件)內容\n",
    "import os\n",
    "dir(os)"
   ]
  },
  {
   "cell_type": "markdown",
   "id": "7eaadaf6-a448-4951-be64-19fd15b9d663",
   "metadata": {},
   "source": [
    "### 補充說明\n",
    "有關 Python 語法及內建模組，可上官網 [Python Docs](https://docs.python.org/zh-tw/3.13/index.html) 查詢\n",
    "> 撰寫方式為標準之技術文件，不適合一般人閱讀<br>\n",
    "> 建議可用 AI 工具輔助，如： [OpenAI ChatGPT](https://chatgpt.com/) / [Google Gemini](https://gemini.google.com/)\n",
    ">  / [Claude AI](https://claude.ai/)\n",
    "\n",
    "> 提示詞範例一：`請舉例說明 Python os 模組的常用功能及使用方法`\n",
    "\n",
    "> 提示詞範例二：`請提供範例程式： Python 取得指定目錄下所有檔案清單`\n",
    "\n",
    "> 提示詞範例三：`請提供範例程式： Python 取得指定目錄下特定副檔名之所有檔案清單`\n",
    "\n",
    "> 提示詞範例四：`請提供範例程式： Python 取得指定目錄含所有子目錄下，特定副檔名之所有檔案清單`\n"
   ]
  },
  {
   "cell_type": "code",
   "execution_count": null,
   "id": "873b974e-882e-4914-8a5b-96a5717dcd88",
   "metadata": {},
   "outputs": [],
   "source": []
  }
 ],
 "metadata": {
  "kernelspec": {
   "display_name": "Python 3 (ipykernel)",
   "language": "python",
   "name": "python3"
  },
  "language_info": {
   "codemirror_mode": {
    "name": "ipython",
    "version": 3
   },
   "file_extension": ".py",
   "mimetype": "text/x-python",
   "name": "python",
   "nbconvert_exporter": "python",
   "pygments_lexer": "ipython3",
   "version": "3.13.2"
  }
 },
 "nbformat": 4,
 "nbformat_minor": 5
}
