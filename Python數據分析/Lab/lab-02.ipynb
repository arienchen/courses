{
 "cells": [
  {
   "cell_type": "markdown",
   "id": "2500c18b-3180-4544-a029-32248afc0c61",
   "metadata": {},
   "source": [
    "# LAB-02 Markdown 語法練習\n",
    "\n",
    "> Jupyter 不支援 - 及 _ "
   ]
  },
  {
   "cell_type": "markdown",
   "id": "59d72830-7dfc-429a-a09c-638cbb5b1bd1",
   "metadata": {},
   "source": [
    "## 1.標題\n",
    "<a class=\"anchor\" id=\"myCell\"></a>\n",
    "\n",
    "標題以 `#` 起始，最多6個 `#######`  \n",
    "**Markdown 語法**\n",
    "```\n",
    "## 標題二\n",
    "### 標題三\n",
    "#### 標題四\n",
    "##### 標題五\n",
    "###### 標題六\n",
    "```\n",
    "**Markdown顯示**\n",
    "****\n",
    "## 標題二\n",
    "### 標題三\n",
    "#### 標題四\n",
    "##### 標題五\n",
    "###### 標題六\n"
   ]
  },
  {
   "cell_type": "markdown",
   "id": "aaebcf8f-0e46-4654-8214-440821c77a20",
   "metadata": {},
   "source": [
    "## 2.字體\n",
    "\n",
    "`**粗體字**` 這是 **粗體字**\n",
    "\n",
    "`*斜體字*` 這是 *斜體字*\n",
    "\n",
    "`~~刪除線~~` 這是 ~~刪除線~~\n"
   ]
  },
  {
   "cell_type": "markdown",
   "id": "4e417f64-06a9-42bf-a6e4-06f09cf1e44d",
   "metadata": {},
   "source": [
    "## 3.分隔線\n",
    "\n",
    "以 `***` 起始，顯示為分隔線，`***`後的字元，會忽略不處理\n",
    "\n",
    "**Markdown 語法**\n",
    "```\n",
    "大家好\n",
    "***\n",
    "今天天氣真好\n",
    "******\n",
    "還是分隔線\n",
    "*** ***\n",
    "```\n",
    "\n",
    "**Markdown 顯示**  \n",
    "大家好\n",
    "***\n",
    "今天天氣真好\n",
    "******\n",
    "還是分隔線\n",
    "*** ***"
   ]
  },
  {
   "cell_type": "markdown",
   "id": "740ef515-60bb-4cc9-82d6-9c2d1152b8a1",
   "metadata": {},
   "source": [
    "## 4.換行\n",
    "句尾加二個空白`  `  \n",
    "或以 HTML 語法 `<br>`\n",
    "***\n",
    "**Markdown語法：**\n",
    "```\n",
    "第一行\n",
    "句尾無空白，即使有換行，也會忽略，變成一個空白\n",
    "```\n",
    "**Markdown 顯示**  \n",
    "第一行\n",
    "句尾無空白，即使有換行，也會忽略，變成一個空白\n",
    "***\n",
    "**Markdown語法：**\n",
    "```\n",
    "第二行  \n",
    "句尾有二個空白，表示換行\n",
    "```\n",
    "**Markdown 顯示**  \n",
    "第二行  \n",
    "句尾有二個空白，表示換行\n",
    "***\n",
    "**Markdown語法：**\n",
    "```\n",
    "第三行<br>加上 HTML BR 語法\n",
    "```\n",
    "**Markdown 顯示**  \n",
    "第三行<br>加上 HTML BR 語法\n"
   ]
  },
  {
   "cell_type": "markdown",
   "id": "d36b72ba-8b92-40a3-935e-519af879a611",
   "metadata": {},
   "source": [
    "## 5.超連結\n",
    "\n",
    "1. 直接輸入網址，如：`https://www.microsoft.com`  \n",
    "   https://www.microsoft.com\n",
    "2. 超連結語法 `[文字敘述](網址)` 如： `[Google](https://google.com)`  \n",
    "   [Google](https://google.com) \n"
   ]
  },
  {
   "cell_type": "markdown",
   "id": "90b7b32c-cae2-44cb-b683-f07d715bde17",
   "metadata": {},
   "source": [
    "## 6.圖片\n",
    "語法同超連結，但前面多了`!`，如：`![文字敘文字敘述](圖片網址)`   \n",
    "或直接使用 HTML `<img>` 語法\n",
    "\n",
    "**Markdown 語法**  \n",
    "`![Python](https://www.python.org/static/img/python-logo.png)`  \n",
    "`<img src=\"https://www.python.org/static/img/python-logo.png\" width=\"256\" />`\n",
    "\n",
    "**Markdown 顯示**  \n",
    "![Python](https://www.python.org/static/img/python-logo.png)  \n",
    "<img src=\"https://www.python.org/static/img/python-logo.png\" width=\"256\" />  "
   ]
  },
  {
   "cell_type": "markdown",
   "id": "4cae3d8c-b6d7-480c-8026-dc540e7358fe",
   "metadata": {},
   "source": [
    "## 7. 清單(無序及有序)\n",
    "無序清單以 `-` 或 `*` 字元起始，一個空白後，為項目名稱  \n",
    "有序清單以 `1.` 數字＋小數點起始，一個空白後，為項目名稱  \n",
    "二者都支援巢狀清單，可混合使用    \n",
    "**Markdown 語法**  \n",
    "```\n",
    "- 項目一\n",
    "    * 子項目Ａ\n",
    "    * 子項目Ｂ\n",
    "        1. 清單1\n",
    "        2. 清單2\n",
    "            1. 子清單A\n",
    "            2. 子清單B\n",
    "        4. 清單4\n",
    "- 項目二\n",
    "- 項目三\n",
    "```\n",
    "**Markdown 顯示**  \n",
    "- 項目一\n",
    "    * 子項目Ａ\n",
    "    * 子項目Ｂ\n",
    "        1. 清單1\n",
    "        2. 清單2\n",
    "            1. 子清單A\n",
    "            2. 子清單B\n",
    "        4. 清單4\n",
    "- 項目二\n",
    "- 項目三\n"
   ]
  },
  {
   "cell_type": "markdown",
   "id": "42274525-300a-4247-8514-4ec14b0503f8",
   "metadata": {},
   "source": [
    "## 8. 引用\n",
    "以 `>` 呈現縮排及灰色區塊效果\n",
    "\n",
    "**Markdown 語法**  \n",
    "```\n",
    "\n",
    "Python 是易學易懂的程式語言\n",
    "> 官網網址為 https://www.python.org<br>\n",
    "> Jupyter官網為 https://jupyter.org\n",
    ">> Python套件可到 https://pypi.org 搜尋 \n",
    "```\n",
    "Python 是易學易懂的程式語言\n",
    "> 官網網址為 https://www.python.org<br>\n",
    "> Jupyter官網為 https://jupyter.org\n",
    ">> Python套件可到 https://pypi.org 搜尋"
   ]
  },
  {
   "cell_type": "markdown",
   "id": "951ff59e-93ff-4440-93a8-322734a28197",
   "metadata": {},
   "source": [
    "## 9.程式碼\n",
    "單行程式碼或文字，以 <code>\\`</code> 字元為引號，如：<code>\\`程式碼\\`</code>   \n",
    "多行程式碼，以 <code>```</code> 為起始行及結束行\n",
    "\n",
    "**Markdowndown 語法**  "
   ]
  },
  {
   "cell_type": "raw",
   "id": "39774573-ee7d-4b36-8811-34a98340af39",
   "metadata": {},
   "source": [
    "\n",
    "Python有 `print()` 指令\n",
    "\n",
    "Python 程式範例\n",
    "```Python\n",
    "import pandas as pd\n",
    "\n",
    "for i in range(10):\n",
    "    print(i)\n",
    "``` \n",
    "\n",
    "\n",
    "Shell程式範例\n",
    "```bash\n",
    "# change shell prompt as conda environment name\n",
    "conda init $(basename \"$(SHELL)\")\n",
    "```"
   ]
  },
  {
   "cell_type": "markdown",
   "id": "79281d8f-93a4-440c-be9d-f32bfddb9b2c",
   "metadata": {},
   "source": [
    "**Markdown 顯示**  \n",
    "Python有 `print()` 指令\n",
    "\n",
    "Python 程式範例\n",
    "```Python\n",
    "import pandas as pd\n",
    "\n",
    "for i in range(10):\n",
    "    print(i)\n",
    "``` \n",
    "\n",
    "\n",
    "Shell程式範例\n",
    "```bash\n",
    "# change shell prompt as conda environment name\n",
    "conda init $(basename \"$(SHELL)\")\n",
    "```\n"
   ]
  },
  {
   "cell_type": "markdown",
   "id": "cc335a25-668e-4758-9042-1de3fdc90a62",
   "metadata": {},
   "source": [
    "## 10.表格\n",
    "- 表格以 `-|`字元組成，以`|`為欄位間的區隔字元\n",
    "- 第一行爲表頭欄位名稱，以`|`區隔\n",
    "- 第二行可指定對齊方式，若未指定則以`---`填入\n",
    "  * `:--` 表示靠左，同預設值`---`\n",
    "  * `--:` 表示靠右\n",
    "  * `:-:` 表示靠中\n",
    "- 第三行(含)以後為資料行，欄位值以`|`區隔\n",
    "\n",
    "\n",
    "**Markdown 語法**  \n",
    "```\n",
    "|姓____名|性____別|年____齡|\n",
    "|:--|:-:|--:|\n",
    "|小明|男|20|\n",
    "|小華|女|18|\n",
    "```\n",
    "\n",
    "**Markdown 顯示**  \n",
    "|姓____名|性____別|年____齡|\n",
    "|:--|:-:|--:|\n",
    "|小明|男|20|\n",
    "|小華|女|18|\n"
   ]
  },
  {
   "attachments": {},
   "cell_type": "markdown",
   "id": "4759dc77-a4ef-47ea-8aa1-480577b36368",
   "metadata": {},
   "source": [
    "## 11.待辦事項\n",
    "必須搭配清單(無序或有序)使用  \n",
    "以`[ ]` 表示未勾選  \n",
    "以`[X]` 表示已勾選\n",
    "\n",
    "\n",
    "**Markdown 語法**  \n",
    "```\n",
    "- [ ] 項目一\n",
    "- [X] 項目二\n",
    "      \n",
    "1. [ ] 未完成\n",
    "2. [x] 已完成\n",
    "```\n",
    "**Markdown 顯示**\n",
    "- [ ] 項目一\n",
    "- [X] 項目二\n",
    "      \n",
    "1. [ ] 未完成\n",
    "2. [x] 已完成"
   ]
  },
  {
   "cell_type": "markdown",
   "id": "6b5f7a77-8865-4e48-975e-80971a73cff0",
   "metadata": {},
   "source": [
    "## 12.貼圖\n",
    "截圖後，貼上(Ctrl-V) 即可"
   ]
  },
  {
   "cell_type": "markdown",
   "id": "3159a574-7441-4e7c-a3a5-ed7ad8f00587",
   "metadata": {},
   "source": [
    "## 13.字體顏色\n",
    "\n",
    "\n",
    "可使用 HTML 語法將自行顯示為<font color='red'>紅色</font>  \n",
    "但僅 Jupyter 支援， GitHub 為避免 XSSF 已禁用 HTML 語法，需用 Latex 的語法。\n",
    "\n",
    "```markdown\n",
    "1. 使用 <font color='red'>紅色</font>\n",
    "2. 使用 <span style='color:red;'>紅色</span>\n",
    "```"
   ]
  },
  {
   "cell_type": "markdown",
   "id": "d083def0-ce4f-480d-af47-b6bc2da5f3bd",
   "metadata": {},
   "source": [
    "## 14.本文連結\n",
    "\n",
    "語法：\n",
    "\n",
    "`[顯示文字](#標題名稱)`   \n",
    "標題名稱若有空白需以 `-` 取代\n",
    "\n",
    "[`回到 TEST 1`](#TEST-1)\n",
    "\n",
    "但不支援中文標題\n"
   ]
  },
  {
   "cell_type": "markdown",
   "id": "7e60c54e-344f-477e-8a7f-323cfd2aa761",
   "metadata": {},
   "source": [
    "### 自訂錨點及連結\n",
    "\n",
    "錨點：`<a id=\"my_link\"></a>`  \n",
    "連結：`[連結](#my_link)`\n",
    "\n",
    "**錨點**<a id=\"my_link\"></a>"
   ]
  },
  {
   "cell_type": "code",
   "execution_count": null,
   "id": "14621e42-ecc5-4aac-abf8-641e4931dc56",
   "metadata": {},
   "outputs": [],
   "source": []
  },
  {
   "cell_type": "code",
   "execution_count": null,
   "id": "7e00ba9f-6ebd-4002-8793-439aed20aa63",
   "metadata": {},
   "outputs": [],
   "source": []
  },
  {
   "cell_type": "code",
   "execution_count": null,
   "id": "116ef24a-cae7-4e21-bd7c-bd8b2832154b",
   "metadata": {},
   "outputs": [],
   "source": []
  },
  {
   "cell_type": "code",
   "execution_count": null,
   "id": "17415233-293e-4c71-bd74-cccbc251c1df",
   "metadata": {},
   "outputs": [],
   "source": []
  },
  {
   "cell_type": "code",
   "execution_count": null,
   "id": "d4f2d4e0-f2b7-4904-9fca-b810507b54be",
   "metadata": {},
   "outputs": [],
   "source": []
  },
  {
   "cell_type": "code",
   "execution_count": null,
   "id": "2e8a3d7a-dbfd-4a23-a2c9-555160872cb7",
   "metadata": {},
   "outputs": [],
   "source": []
  },
  {
   "cell_type": "code",
   "execution_count": null,
   "id": "254423ee-f0ca-40e2-b4f6-b16430f5b4be",
   "metadata": {},
   "outputs": [],
   "source": []
  },
  {
   "cell_type": "code",
   "execution_count": null,
   "id": "e5c1e93b-8d0f-4c70-9cb6-72e0423a89f8",
   "metadata": {},
   "outputs": [],
   "source": []
  },
  {
   "cell_type": "code",
   "execution_count": null,
   "id": "f03be67e-9eea-48ac-8624-1e456aa06d16",
   "metadata": {},
   "outputs": [],
   "source": []
  },
  {
   "cell_type": "code",
   "execution_count": null,
   "id": "c77fefed-1bae-4eb5-8b9d-201cf8b26f07",
   "metadata": {},
   "outputs": [],
   "source": []
  },
  {
   "cell_type": "code",
   "execution_count": null,
   "id": "3337109a-c184-45d6-9f3c-05edb3eab7ce",
   "metadata": {},
   "outputs": [],
   "source": []
  },
  {
   "cell_type": "code",
   "execution_count": null,
   "id": "783bd35f-d3e1-4aa8-a616-c52a59e81188",
   "metadata": {},
   "outputs": [],
   "source": []
  },
  {
   "cell_type": "code",
   "execution_count": null,
   "id": "f9962f44-498b-452e-a368-714a1b890f9b",
   "metadata": {},
   "outputs": [],
   "source": []
  },
  {
   "cell_type": "code",
   "execution_count": null,
   "id": "486c84a8-b302-4ce3-8b23-8b259ff84d5d",
   "metadata": {},
   "outputs": [],
   "source": []
  },
  {
   "cell_type": "code",
   "execution_count": null,
   "id": "b3dc920c-fb6d-4c6e-a26f-4da775e76821",
   "metadata": {},
   "outputs": [],
   "source": []
  },
  {
   "cell_type": "code",
   "execution_count": null,
   "id": "35d304a6-2d5d-4952-971e-7655e6b3fbde",
   "metadata": {},
   "outputs": [],
   "source": []
  },
  {
   "cell_type": "code",
   "execution_count": null,
   "id": "24c239cd-721f-4e67-abfd-86cfde741f24",
   "metadata": {},
   "outputs": [],
   "source": []
  },
  {
   "cell_type": "code",
   "execution_count": null,
   "id": "7473628f-774c-457d-9a9d-f656fa95e25b",
   "metadata": {},
   "outputs": [],
   "source": []
  },
  {
   "cell_type": "code",
   "execution_count": null,
   "id": "657e0845-c05f-4632-9d6c-c14de86122f2",
   "metadata": {},
   "outputs": [],
   "source": []
  },
  {
   "cell_type": "markdown",
   "id": "c3f649dd-0187-4bd9-bcaf-2e7498056e4f",
   "metadata": {},
   "source": [
    "#### TEST 1"
   ]
  },
  {
   "cell_type": "markdown",
   "id": "d1588b64-6eab-4ed9-9363-d4b81bd5ffd9",
   "metadata": {},
   "source": [
    "[連結錨點](#my_link)  \n",
    "VSCode 測試 OK"
   ]
  },
  {
   "cell_type": "code",
   "execution_count": null,
   "id": "331cae51-56e6-4ba8-837f-3a1f88d59bc3",
   "metadata": {},
   "outputs": [],
   "source": []
  }
 ],
 "metadata": {
  "kernelspec": {
   "display_name": "Python 3 (ipykernel)",
   "language": "python",
   "name": "python3"
  },
  "language_info": {
   "codemirror_mode": {
    "name": "ipython",
    "version": 3
   },
   "file_extension": ".py",
   "mimetype": "text/x-python",
   "name": "python",
   "nbconvert_exporter": "python",
   "pygments_lexer": "ipython3",
   "version": "3.13.2"
  }
 },
 "nbformat": 4,
 "nbformat_minor": 5
}
