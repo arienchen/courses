{
 "cells": [
  {
   "cell_type": "markdown",
   "id": "37014cc4-87a1-40cf-976a-1c09994a1539",
   "metadata": {},
   "source": [
    "# LAB-05 格式化字串 f-string , format()\n",
    "* 所有日期時間格式，請參考 [ChatGPT](https://chatgpt.com/share/67d26a82-6da0-8009-927b-7f1ed54ac694)"
   ]
  },
  {
   "cell_type": "markdown",
   "id": "29f01d3c-2b85-439b-aa4b-a687205ec0c3",
   "metadata": {},
   "source": [
    "## 1.f-string"
   ]
  },
  {
   "cell_type": "markdown",
   "id": "14b679f6-88e1-4ca0-877a-a7b5834cdf8c",
   "metadata": {},
   "source": [
    "### 1-1.基本語法"
   ]
  },
  {
   "cell_type": "code",
   "execution_count": null,
   "id": "59b76be0-21e8-4738-95d3-23c02adda23a",
   "metadata": {},
   "outputs": [],
   "source": [
    "name = \"Alice\"\n",
    "age = 25\n",
    "print(f\"My name is {name} and I am {age} years old.\")  # 輸出: My name is Alice and I am 25 years old.\n"
   ]
  },
  {
   "cell_type": "markdown",
   "id": "e2bf0842-9d2b-4c77-bcb5-ac410b5c7441",
   "metadata": {},
   "source": [
    "### 1-2.運算及函式調用"
   ]
  },
  {
   "cell_type": "code",
   "execution_count": null,
   "id": "46e39bf3-b947-4186-936e-0d3de2910063",
   "metadata": {},
   "outputs": [],
   "source": [
    "x = 10\n",
    "y = 5\n",
    "print(f\"Sum: {x + y}, Product: {x * y}\")       # 輸出: Sum: 15, Product: 50\n",
    "\n",
    "def greet(name):\n",
    "    return f\"Hello, {name}!\"\n",
    "\n",
    "print(f\"{greet('Bob')}\")                       # 輸出: Hello, Bob!\n"
   ]
  },
  {
   "cell_type": "markdown",
   "id": "e434eb01-2d6b-4cd8-9e9f-e63a9d4807f3",
   "metadata": {},
   "source": [
    "### 1-3.格式化數值"
   ]
  },
  {
   "cell_type": "code",
   "execution_count": null,
   "id": "ed487e1c-0f58-414e-8f4a-84e48818cdc0",
   "metadata": {},
   "outputs": [],
   "source": [
    "# 小數點\n",
    "pi = 3.14159265\n",
    "print(f\"Pi to 2 decimal places: {pi:.2f}\")     # 輸出: Pi to 2 decimal places: 3.14\n"
   ]
  },
  {
   "cell_type": "code",
   "execution_count": null,
   "id": "fd94d869-3f4c-4cdb-a739-652f9fffd348",
   "metadata": {},
   "outputs": [],
   "source": [
    "# 千分號\n",
    "num = 1234567.89\n",
    "print(f\"Number with commas: {num:,}\")          # 輸出: Number with commas: 1,234,567.89\n"
   ]
  },
  {
   "cell_type": "code",
   "execution_count": null,
   "id": "732285ba-0e13-4a20-8f1b-a2656d884395",
   "metadata": {},
   "outputs": [],
   "source": [
    "# 百分比\n",
    "rate = 0.857\n",
    "print(f\"Success rate: {rate:.2%}\")            # 輸出: Success rate: 85.70%\n"
   ]
  },
  {
   "cell_type": "code",
   "execution_count": null,
   "id": "5300a782-4bb4-47f5-a88f-e5415c34309d",
   "metadata": {},
   "outputs": [],
   "source": [
    "# 2/8/16 進位轉換\n",
    "num = 255\n",
    "print(f\"Binary: {num:b}\")  # 輸出: Binary: 11111111\n",
    "print(f\"Octal : {num:o}\")  # 輸出: Octal : 377\n",
    "print(f\"Hex   : {num:x}\")  # 輸出: Hex   : ff\n",
    "print(f\"Hex   : {num:X}\")  # 輸出: Hex   : FF\n"
   ]
  },
  {
   "cell_type": "markdown",
   "id": "35e34559-c8b5-4acb-aa26-e164c840ba5e",
   "metadata": {},
   "source": [
    "### 1-4.對齊與填充"
   ]
  },
  {
   "cell_type": "code",
   "execution_count": null,
   "id": "d334fae6-d5a7-4e3e-8169-7d5e05aaa958",
   "metadata": {},
   "outputs": [],
   "source": [
    "# 文字對齊\n",
    "text = \"Python\"\n",
    "print(f\"靠左：[{text:<10}]\")      # [Python    ]\n",
    "print(f\"靠右：[{text:>10}]\")      # [    Python]\n",
    "print(f\"置中：[{text:^10}]\")      # [  Python  ]"
   ]
  },
  {
   "cell_type": "code",
   "execution_count": null,
   "id": "17e0dabb-2dc9-407e-b938-291312eafe8f",
   "metadata": {},
   "outputs": [],
   "source": [
    "# 指定填充字元\n",
    "num = 42\n",
    "print(f\"Zero-padded: {num:05}\")        # 00042\n",
    "print(f\"Dash-filled: {num:-^5}\")       # -42--\n",
    "num=1234.567\n",
    "print(f\"[{num:10,.2f}]\")               # [  1,234.57]\n",
    "print(f\"[{num:10.2f}]\")                # [   1234.57]\n",
    "print(f\"[{round(num,2):0>10}]\")        # [0001234.57]\n",
    "\n"
   ]
  },
  {
   "cell_type": "markdown",
   "id": "168f3e1c-afa5-4f8b-ab26-5815bc62bfde",
   "metadata": {},
   "source": [
    "### 1-5.巢狀 f-string"
   ]
  },
  {
   "cell_type": "code",
   "execution_count": null,
   "id": "8e2c8560-d649-4d8b-8b50-b4859174d752",
   "metadata": {},
   "outputs": [],
   "source": [
    "name = \"Charlie\"                       \n",
    "width = len(name) + 5\n",
    "print(len(name), width)                # 7 12\n",
    "print(f\"{name:*^{width}}\")             # 輸出: *Charlie*\n"
   ]
  },
  {
   "cell_type": "markdown",
   "id": "528bafdb-89d6-4757-abb2-46db51b80175",
   "metadata": {},
   "source": [
    "### 1-6.日期與時間格式\n",
    "所有日期時間格式，請參考 [ChatGPT](https://chatgpt.com/share/67d26a82-6da0-8009-927b-7f1ed54ac694)"
   ]
  },
  {
   "cell_type": "code",
   "execution_count": null,
   "id": "8ddc4e66-9a63-4e06-8ece-546f2426ead7",
   "metadata": {},
   "outputs": [],
   "source": [
    "from datetime import datetime\n",
    "now = datetime.now()\n",
    "print(f\"現在時間：{now:%Y-%m-%d %H:%M:%S.%f}\")  # 現在時間： 2025-03-13 14:30:15.123456\n"
   ]
  },
  {
   "cell_type": "markdown",
   "id": "a86cb104-366e-44c3-8ebd-c69b6a7f1b05",
   "metadata": {},
   "source": [
    "### 1-7.原始字串(避免跳脫字元)"
   ]
  },
  {
   "cell_type": "code",
   "execution_count": null,
   "id": "e5a9b724-6027-49b1-9a21-e91218ca8674",
   "metadata": {},
   "outputs": [],
   "source": [
    "# r\"...\" 表示 Raw \n",
    "path = r\"C:\\Users\\Alice\\Documents\"\n",
    "print(f\"File path: {path}\")                   # File path: C:\\Users\\Alice\\Documents\n",
    "\n",
    "path = r\"/Users/John/Downloads\"\n",
    "print(f\"File path: {path}\")                   # File path: /Users/John/Downloads\n"
   ]
  },
  {
   "cell_type": "markdown",
   "id": "9539ae4c-e3c1-44a4-9ac1-e444eea5d090",
   "metadata": {},
   "source": [
    "### 1-8.運行時計算(lambda)"
   ]
  },
  {
   "cell_type": "code",
   "execution_count": null,
   "id": "f81755de-2af8-4bc4-b133-9337f0b4f7bf",
   "metadata": {},
   "outputs": [],
   "source": [
    "# lambda 屬進階語法\n",
    "value = 1.2\n",
    "print(f\"Double: {(lambda x: x * 2)(value)}\")  # Double: 2.4"
   ]
  },
  {
   "cell_type": "markdown",
   "id": "24e39235-5c70-4b14-9461-5a2fc519140c",
   "metadata": {},
   "source": [
    "### 1-9.變數名稱自動插入"
   ]
  },
  {
   "cell_type": "code",
   "execution_count": null,
   "id": "358b248e-f1db-45aa-b47e-f27433945346",
   "metadata": {},
   "outputs": [],
   "source": [
    "my_var = 42\n",
    "my_str = \"abcd\"\n",
    "print(f\"{my_var=}, {my_str=}\")           # my_var=42, my_str='abcd'\n"
   ]
  },
  {
   "cell_type": "markdown",
   "id": "a39067f4-f7ad-4d91-a3ec-bead58ae4fc8",
   "metadata": {},
   "source": [
    "### 1-10.多行 f-string"
   ]
  },
  {
   "cell_type": "code",
   "execution_count": null,
   "id": "39294258-d957-4976-8432-2d96b62f61b1",
   "metadata": {},
   "outputs": [],
   "source": [
    "# Python 多行字串宣告\n",
    "msg = \"\"\"\n",
    "大家好\n",
    "今天天氣真好\n",
    "\"\"\"\n",
    "\n",
    "print(msg)"
   ]
  },
  {
   "cell_type": "code",
   "execution_count": null,
   "id": "fec82a4f-a080-439f-a6d5-d8d4518855c2",
   "metadata": {},
   "outputs": [],
   "source": [
    "# f-string 多行字串宣告\n",
    "name = \"Alice\"\n",
    "age = 25\n",
    "info = f\"\"\"\n",
    "Name: {name:>10}|\n",
    "Age : {age:>10}|\n",
    "\"\"\"\n",
    "print(info)"
   ]
  },
  {
   "cell_type": "markdown",
   "id": "78d314cd-a4a0-43e8-8584-7d91dd8227d7",
   "metadata": {},
   "source": [
    "## 2.字串 format() 函式"
   ]
  },
  {
   "cell_type": "markdown",
   "id": "208d2f67-eb26-4949-a556-f0bba16626fd",
   "metadata": {},
   "source": [
    "### 2-1.基本語法\n",
    "`str.format()` 使用 `{}` 佔位符，並在 `.format()` 方法中填入對應值"
   ]
  },
  {
   "cell_type": "code",
   "execution_count": null,
   "id": "d2e4f7c7-04a2-471a-8355-cb317ff83474",
   "metadata": {},
   "outputs": [],
   "source": [
    "name = \"Alice\"\n",
    "age = 25\n",
    "print(\"My name is {} and I am {} years old.\".format(name, age)) # My name is Alice and I am 25 years old.\n"
   ]
  },
  {
   "cell_type": "markdown",
   "id": "b1235dca-7fdd-4f0f-9861-eb8c1f79a37f",
   "metadata": {},
   "source": [
    "### 2-2.指定參數索引位置"
   ]
  },
  {
   "cell_type": "code",
   "execution_count": null,
   "id": "e32c0d28-9a2a-4209-9bc7-43d708a219eb",
   "metadata": {},
   "outputs": [],
   "source": [
    "print(\"First: {0}, Second: {1}, Swap: {1} {0}\".format(\"A\", \"B\")) # First: A, Second: B, Swap: B A\n"
   ]
  },
  {
   "cell_type": "markdown",
   "id": "92b2eca6-69ef-491e-8a16-7a18588ad7df",
   "metadata": {},
   "source": [
    "### 2-3.指定關鍵字參數"
   ]
  },
  {
   "cell_type": "code",
   "execution_count": null,
   "id": "28df6171-8f33-4014-8f59-f31b5a4a8dcc",
   "metadata": {},
   "outputs": [],
   "source": [
    "print(\"Name: {name}, Age: {age}\".format(name=\"Bob\", age=30))  # Name: Bob, Age: 30\n"
   ]
  },
  {
   "cell_type": "markdown",
   "id": "06a965ad-a554-4b67-8708-659a64e64173",
   "metadata": {},
   "source": [
    "### 2-4.變數作為格式化參數"
   ]
  },
  {
   "cell_type": "code",
   "execution_count": null,
   "id": "21b85ca0-c5fb-4880-8f91-2c596a1a224b",
   "metadata": {},
   "outputs": [],
   "source": [
    "data = {\"name\": \"Charlie\", \"age\": 28}\n",
    "print(\"Name: {name}, Age: {age}\".format(**data))   # Name: Charlie, Age: 28\n"
   ]
  },
  {
   "cell_type": "markdown",
   "id": "1f7481d7-67f1-4aff-87ac-85ed7970afb3",
   "metadata": {},
   "source": [
    "### 2-5.數值格式"
   ]
  },
  {
   "cell_type": "code",
   "execution_count": null,
   "id": "83ed0c8a-7e0e-4d4d-a32b-269644d5925d",
   "metadata": {},
   "outputs": [],
   "source": [
    "# 小數點\n",
    "pi = 3.14159265\n",
    "print(\"Pi 到 2 位小數： {:.2f}\".format(pi))    # Pi 到 2 位小數： 3.14\n"
   ]
  },
  {
   "cell_type": "code",
   "execution_count": null,
   "id": "15887382-5de7-4ae8-8b9e-bbe3592f0807",
   "metadata": {},
   "outputs": [],
   "source": [
    "# 千分號\n",
    "num = 1_234_567.89\n",
    "print(\"Number with commas: {:,}\".format(num))   # Number with commas: 1,234,567.89\n"
   ]
  },
  {
   "cell_type": "code",
   "execution_count": null,
   "id": "da010d98-decd-462c-8ba4-977bc8204bba",
   "metadata": {},
   "outputs": [],
   "source": [
    "# 百分比\n",
    "rate = 0.857\n",
    "print(\"Success rate: {:.2%}\".format(rate))     # Success rate: 85.70%\n"
   ]
  },
  {
   "cell_type": "code",
   "execution_count": null,
   "id": "7e282821-3694-4c35-894a-95ea9cc313ce",
   "metadata": {},
   "outputs": [],
   "source": [
    "# 2/8/16 進制轉換\n",
    "# 16進位 x 可改為大寫 X\n",
    "num = 255\n",
    "print(\"Binary: {:b}, Octal: {:o}, Hex: {:x}\".format(num, num, num)) # Binary: 11111111, Octal: 377, Hex: ff\n"
   ]
  },
  {
   "cell_type": "markdown",
   "id": "cab73a46-9d10-4c85-b323-424d76980ee0",
   "metadata": {},
   "source": [
    "### 2-6.對齊與填充"
   ]
  },
  {
   "cell_type": "code",
   "execution_count": null,
   "id": "0adcb41d-30c1-4a31-9548-a9a5827604bd",
   "metadata": {},
   "outputs": [],
   "source": [
    "# 文字對齊\n",
    "text = \"Python\"\n",
    "print(\"靠左：[{:<10}]\".format(text))  # [Python    ]\n",
    "print(\"靠右：[{:>10}]\".format(text))  # [    Python]\n",
    "print(\"置中：[{:^10}]\".format(text))  # [  Python  ]\n",
    "\n",
    "# 中英文 都算一個 Unicode 字元\n",
    "text = \"我是John\"\n",
    "print(\"靠左：[{:<10}]\".format(text))  # [我是John    ]\n",
    "print(\"靠右：[{:>10}]\".format(text))  # [    我是John]\n",
    "print(\"置中：[{:^10}]\".format(text))  # [  我是John  ]\n"
   ]
  },
  {
   "cell_type": "markdown",
   "id": "3a7717e9-ced9-4b68-a363-195674c24028",
   "metadata": {},
   "source": [
    "### 2-7.巢狀格式化"
   ]
  },
  {
   "cell_type": "code",
   "execution_count": null,
   "id": "1b15b299-88b3-4626-b135-5d88130f54c0",
   "metadata": {},
   "outputs": [],
   "source": [
    "width = 10\n",
    "print(\"[{:^{}}]\".format(\"Hello\", width))  # [  Hello   ] \n"
   ]
  },
  {
   "cell_type": "markdown",
   "id": "eb5c3d43-967a-4e9c-92e6-c5da2f96dbff",
   "metadata": {},
   "source": [
    "### 2-8.日期與時間格式"
   ]
  },
  {
   "cell_type": "code",
   "execution_count": null,
   "id": "fb8a2f7f-a16b-4ced-8b02-a74286f83781",
   "metadata": {},
   "outputs": [],
   "source": [
    "from datetime import datetime\n",
    "now = datetime.now()\n",
    "print(\"Current time: {:%Y-%m-%d %H:%M:%S.%f}\".format(now))  # Current time: 2025-03-13 14:30:15.123456\n"
   ]
  },
  {
   "cell_type": "markdown",
   "id": "e9a25a91-7ef2-4caf-8aa4-5925af70a94d",
   "metadata": {},
   "source": [
    "### 2-9.變數名稱自動插入(vars())"
   ]
  },
  {
   "cell_type": "code",
   "execution_count": null,
   "id": "52161c18-0550-4446-9c90-4a67532ad97c",
   "metadata": {},
   "outputs": [],
   "source": [
    "name = \"David\"\n",
    "age = 32\n",
    "print(\"Name: {name}, Age: {age}\".format(**vars()))  # Name: David, Age: 32\n"
   ]
  },
  {
   "cell_type": "markdown",
   "id": "0441df5c-6ad5-4088-9636-f412b486ac02",
   "metadata": {},
   "source": [
    "### 2-10.多行格式化"
   ]
  },
  {
   "cell_type": "code",
   "execution_count": null,
   "id": "6fbf9327-a1ad-4ed7-a86a-f852f9c26d1a",
   "metadata": {},
   "outputs": [],
   "source": [
    "info = \"\"\"\n",
    "Name: {:>10}|\n",
    "Age : {:>10}|\n",
    "\"\"\".format(\"Alice\", 25)\n",
    "print(info)\n"
   ]
  },
  {
   "cell_type": "markdown",
   "id": "43bf1683-5f84-4ef3-b680-e64c68f34470",
   "metadata": {},
   "source": [
    "## 3.二者比較\n",
    "* `str.format()` 較靈活，支援參數索引\n",
    "* `f-string` 較簡潔高效，適用於一般輸出，如顯示 Log "
   ]
  },
  {
   "cell_type": "code",
   "execution_count": null,
   "id": "105cf6f7-d6a2-4882-a6bb-83efe891fd1b",
   "metadata": {},
   "outputs": [],
   "source": []
  }
 ],
 "metadata": {
  "kernelspec": {
   "display_name": "Python 3 (ipykernel)",
   "language": "python",
   "name": "python3"
  },
  "language_info": {
   "codemirror_mode": {
    "name": "ipython",
    "version": 3
   },
   "file_extension": ".py",
   "mimetype": "text/x-python",
   "name": "python",
   "nbconvert_exporter": "python",
   "pygments_lexer": "ipython3",
   "version": "3.13.2"
  }
 },
 "nbformat": 4,
 "nbformat_minor": 5
}
