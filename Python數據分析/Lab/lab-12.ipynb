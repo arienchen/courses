{
 "cells": [
  {
   "cell_type": "markdown",
   "id": "bcf4cb1a-0861-4f32-9225-240043ab48e7",
   "metadata": {},
   "source": [
    "# LAB-12 函式 def\n",
    "在 Python 中，`def` 用於定義函式（Function）\n",
    "\n",
    "**基本語法**\n",
    "```python\n",
    "def 函式名稱(參數1, 參數2, ...):\n",
    "    \"\"\"函式說明文件（可選）\"\"\"\n",
    "    # 函式內部程式碼\n",
    "    return 回傳值（可選）\n",
    "```\n",
    "\n",
    "有回傳值的函式，稱為 function "
   ]
  },
  {
   "cell_type": "markdown",
   "id": "72c48fbb-0456-4981-9d9f-9fa5747d4ccc",
   "metadata": {},
   "source": [
    "## 1.簡單函式(無參數)"
   ]
  },
  {
   "cell_type": "code",
   "execution_count": 1,
   "id": "fbf102ca-3bf7-4230-a488-d39c4d4ee258",
   "metadata": {},
   "outputs": [
    {
     "name": "stdout",
     "output_type": "stream",
     "text": [
      "Hello, Python!\n"
     ]
    }
   ],
   "source": [
    "def greet():\n",
    "    print(\"Hello, Python!\")\n",
    "\n",
    "greet()                                          # 輸出：Hello, Python!\n"
   ]
  },
  {
   "cell_type": "markdown",
   "id": "448008a1-6152-4c4c-b4c1-25ce85383af1",
   "metadata": {},
   "source": [
    "## 2.帶參數的函式"
   ]
  },
  {
   "cell_type": "code",
   "execution_count": 2,
   "id": "58ed5dae-08e9-42fc-a8c6-577b210e90a6",
   "metadata": {},
   "outputs": [
    {
     "name": "stdout",
     "output_type": "stream",
     "text": [
      "8\n"
     ]
    }
   ],
   "source": [
    "def add(a, b):\n",
    "    return a + b\n",
    "\n",
    "result = add(3, 5)\n",
    "print(result)                                   # 輸出：8\n"
   ]
  },
  {
   "cell_type": "code",
   "execution_count": 3,
   "id": "85a573a2-3c2e-4b08-9761-4dd80b85b416",
   "metadata": {},
   "outputs": [
    {
     "name": "stdout",
     "output_type": "stream",
     "text": [
      "2.3 : <class 'float'>\n"
     ]
    }
   ],
   "source": [
    "# 雖然函式的參數或回傳值，都可指定型別\n",
    "# 但僅為 hint 提示，如：開發環境 IDE 編輯器之警告\n",
    "# 不影響執行\n",
    "def add(a:int, b:int) -> int:\n",
    "    return a+b\n",
    "\n",
    "x = 2.3\n",
    "y = 1.2 \n",
    "z = add(x,y)\n",
    "print(f\"{x} : {type(x)}\")\n"
   ]
  },
  {
   "cell_type": "code",
   "execution_count": 4,
   "id": "9a6cff72-675d-4f23-b12d-14af1df5aab9",
   "metadata": {},
   "outputs": [
    {
     "name": "stdout",
     "output_type": "stream",
     "text": [
      "3.5\n",
      "3.5\n"
     ]
    }
   ],
   "source": [
    "# 呼叫函式時，可指名參數名稱\n",
    "# 此時與順序無關\n",
    "\n",
    "print(add(a=x, b=y))\n",
    "print(add(b=y, a=x))\n"
   ]
  },
  {
   "cell_type": "markdown",
   "id": "c835ffea-560b-43a1-820b-e7ef41cf61b9",
   "metadata": {},
   "source": [
    "## 3.帶預設參數的函式"
   ]
  },
  {
   "cell_type": "code",
   "execution_count": 5,
   "id": "5439697e-18dd-4c54-b5e8-1f8f078bf13a",
   "metadata": {},
   "outputs": [
    {
     "name": "stdout",
     "output_type": "stream",
     "text": [
      "Hello, Python!\n",
      "Hello, Alice!\n"
     ]
    }
   ],
   "source": [
    "def greet(name=\"Python\"):\n",
    "    print(f\"Hello, {name}!\")\n",
    "\n",
    "greet()                                          # 輸出：Hello, Python!\n",
    "greet(\"Alice\")                                   # 輸出：Hello, Alice!\n"
   ]
  },
  {
   "cell_type": "markdown",
   "id": "887c0b16-da92-424e-b6b1-5d3dd026a48f",
   "metadata": {},
   "source": [
    "## 4.回傳多個值"
   ]
  },
  {
   "cell_type": "code",
   "execution_count": 6,
   "id": "2f761b96-fe86-405b-b2b0-0d33a5d621a3",
   "metadata": {},
   "outputs": [
    {
     "name": "stdout",
     "output_type": "stream",
     "text": [
      "Alice 30\n"
     ]
    },
    {
     "data": {
      "text/plain": [
       "tuple"
      ]
     },
     "execution_count": 6,
     "metadata": {},
     "output_type": "execute_result"
    }
   ],
   "source": [
    "def get_user():\n",
    "    name = \"Alice\"\n",
    "    age = 30\n",
    "    return name, age\n",
    "\n",
    "user_name, user_age = get_user()\n",
    "print(user_name, user_age)                       # 輸出：Alice 30\n",
    "\n",
    "type(get_user())                                 # tuple"
   ]
  },
  {
   "cell_type": "markdown",
   "id": "7e38a78e-abe5-4939-b903-d57d9930d1dd",
   "metadata": {},
   "source": [
    "## 5.可變參數(動態參數) *args, **kwargs\n"
   ]
  },
  {
   "cell_type": "code",
   "execution_count": 7,
   "id": "344dc4db-4394-4b99-8271-ddbe54bac122",
   "metadata": {},
   "outputs": [
    {
     "name": "stdout",
     "output_type": "stream",
     "text": [
      "10\n",
      "name: Alice\n",
      "age: 30\n"
     ]
    }
   ],
   "source": [
    "# *args：可傳入多個參數（以 tuple 存儲）\n",
    "def sum_all(*args):\n",
    "    return sum(args)\n",
    "\n",
    "print(sum_all(1, 2, 3, 4))                       # 輸出：10\n",
    "\n",
    "# **kwargs：可傳入多個關鍵字參數（以 dict 存儲）\n",
    "def print_info(**kwarg):\n",
    "    for key, value in kwarg.items():\n",
    "        print(f\"{key}: {value}\")\n",
    "\n",
    "print_info(name=\"Alice\", age=30)                 # name: Alice\n",
    "                                                 # age: 30\n"
   ]
  },
  {
   "cell_type": "code",
   "execution_count": 8,
   "id": "6a64117a-1619-437d-b4e8-b06180712841",
   "metadata": {},
   "outputs": [
    {
     "name": "stdout",
     "output_type": "stream",
     "text": [
      "10\n"
     ]
    }
   ],
   "source": [
    "# 可變參數的 *args, **kwargs 為習慣用字\n",
    "# 如：可更換為 *params\n",
    "def sum_all(*params):\n",
    "    return sum(params)\n",
    "\n",
    "print(sum_all(1, 2, 3, 4))                       # 輸出：10\n"
   ]
  },
  {
   "cell_type": "markdown",
   "id": "3d614c05-d8f4-4e82-96b7-4143221e6aa8",
   "metadata": {},
   "source": [
    "## 6.Lambda(匿名函式)\n",
    "Lambda為進階語法\n",
    "\n",
    "**基本語法**  \n",
    "`lambda` 參數1, 參數2, ... : 運算式\n",
    "\n",
    "等價於\n",
    "```python\n",
    "def 函式名稱(參數1, 參數2, ...):\n",
    "    return 運算式\n",
    "```"
   ]
  },
  {
   "cell_type": "code",
   "execution_count": 9,
   "id": "ed29e6d4-7061-4682-9d32-36507d4f7b21",
   "metadata": {},
   "outputs": [
    {
     "name": "stdout",
     "output_type": "stream",
     "text": [
      "25\n"
     ]
    }
   ],
   "source": [
    "square = lambda x: x ** 2\n",
    "print(square(5))  # 輸出：25\n"
   ]
  },
  {
   "cell_type": "markdown",
   "id": "15ce85ef-6549-4f2b-a2a5-a86c8cd464d9",
   "metadata": {},
   "source": [
    "**Lambda宣告**\n",
    "```python\n",
    "max_value = lambda a, b: a if a > b else b\n",
    "```\n",
    "\n",
    "**等價於**  \n",
    "```python\n",
    "def max_value(a, b):\n",
    "    return a if a > b else b\n",
    "```"
   ]
  },
  {
   "cell_type": "code",
   "execution_count": 10,
   "id": "ee50dd1c-71fb-41a0-926c-fd55703653e9",
   "metadata": {},
   "outputs": [
    {
     "name": "stdout",
     "output_type": "stream",
     "text": [
      "20\n"
     ]
    }
   ],
   "source": [
    "max_value = lambda a, b: a if a > b else b\n",
    "print(max_value(10, 20))                         # 輸出：20\n",
    "\n"
   ]
  },
  {
   "cell_type": "markdown",
   "id": "c88b0f91-856a-4e12-9c8c-59246005b3dd",
   "metadata": {},
   "source": [
    "## 7.函式作為參數"
   ]
  },
  {
   "cell_type": "code",
   "execution_count": 11,
   "id": "92700408-0c69-45d3-8df0-b69b24f825f5",
   "metadata": {},
   "outputs": [
    {
     "name": "stdout",
     "output_type": "stream",
     "text": [
      "20\n",
      "2.0\n"
     ]
    }
   ],
   "source": [
    "def apply_function(func, value):\n",
    "    return func(value)\n",
    "\n",
    "print(apply_function(lambda x: x * 2, 10))       # 輸出：20\n",
    "\n",
    "import math\n",
    "print(apply_function(math.sqrt, 4))              # math.sqrt(4) -> 2.0"
   ]
  },
  {
   "cell_type": "code",
   "execution_count": 12,
   "id": "ebcfbd69-92df-4443-8daa-64f0508b92d0",
   "metadata": {},
   "outputs": [
    {
     "name": "stdout",
     "output_type": "stream",
     "text": [
      "Good Morning, John\n",
      "Good Night, John\n",
      "Good Night, John\n"
     ]
    }
   ],
   "source": [
    "def good_morning(name):\n",
    "    return f\"Good Morning, {name}\"\n",
    "\n",
    "def good_night(name):\n",
    "    return f\"Good Night, {name}\"\n",
    "\n",
    "func = good_morning\n",
    "print(func(\"John\"))                              # good_morning \n",
    "\n",
    "func = good_night\n",
    "print(func(\"John\"))                              # good_night \n",
    "\n",
    "good_night = good_morning\n",
    "print(func(\"John\"))                              # good_morning\n",
    "\n"
   ]
  },
  {
   "cell_type": "markdown",
   "id": "81633a0f-42c5-4854-9843-84360c814e88",
   "metadata": {},
   "source": [
    "## 參數型別"
   ]
  },
  {
   "cell_type": "code",
   "execution_count": 5,
   "id": "27010b0a-5192-48c2-a1ae-90c5d028d80b",
   "metadata": {},
   "outputs": [],
   "source": [
    "def foo(x:int):\n",
    "    res = x + x \n",
    "    return res"
   ]
  },
  {
   "cell_type": "code",
   "execution_count": 6,
   "id": "26f274c1-f193-431a-bf2a-bc7b297cc99b",
   "metadata": {},
   "outputs": [
    {
     "name": "stdout",
     "output_type": "stream",
     "text": [
      "2\n"
     ]
    }
   ],
   "source": [
    "print(foo(1))"
   ]
  },
  {
   "cell_type": "code",
   "execution_count": 7,
   "id": "7005a687-a356-4921-b7ba-f8b548ddf415",
   "metadata": {},
   "outputs": [
    {
     "name": "stdout",
     "output_type": "stream",
     "text": [
      "11\n"
     ]
    }
   ],
   "source": [
    "print(foo(\"1\"))"
   ]
  },
  {
   "cell_type": "code",
   "execution_count": 8,
   "id": "65bfbd9c-cfcd-4716-8a65-58266b1b7c76",
   "metadata": {},
   "outputs": [
    {
     "ename": "TypeError",
     "evalue": "can only concatenate str (not \"int\") to str",
     "output_type": "error",
     "traceback": [
      "\u001b[31m---------------------------------------------------------------------------\u001b[39m",
      "\u001b[31mTypeError\u001b[39m                                 Traceback (most recent call last)",
      "\u001b[36mCell\u001b[39m\u001b[36m \u001b[39m\u001b[32mIn[8]\u001b[39m\u001b[32m, line 1\u001b[39m\n\u001b[32m----> \u001b[39m\u001b[32m1\u001b[39m \u001b[38;5;28mprint\u001b[39m(\u001b[43mfoo\u001b[49m\u001b[43m(\u001b[49m\u001b[33;43m\"\u001b[39;49m\u001b[33;43m1\u001b[39;49m\u001b[33;43m\"\u001b[39;49m\u001b[43m)\u001b[49m\u001b[43m+\u001b[49m\u001b[43mfoo\u001b[49m\u001b[43m(\u001b[49m\u001b[32;43m1\u001b[39;49m\u001b[43m)\u001b[49m)\n",
      "\u001b[31mTypeError\u001b[39m: can only concatenate str (not \"int\") to str"
     ]
    }
   ],
   "source": [
    "print(foo(\"1\")+foo(1))"
   ]
  },
  {
   "cell_type": "code",
   "execution_count": null,
   "id": "72f330d1-8563-4e4e-905f-5337db45155c",
   "metadata": {},
   "outputs": [],
   "source": []
  }
 ],
 "metadata": {
  "kernelspec": {
   "display_name": "Python 3 (ipykernel)",
   "language": "python",
   "name": "python3"
  },
  "language_info": {
   "codemirror_mode": {
    "name": "ipython",
    "version": 3
   },
   "file_extension": ".py",
   "mimetype": "text/x-python",
   "name": "python",
   "nbconvert_exporter": "python",
   "pygments_lexer": "ipython3",
   "version": "3.13.2"
  }
 },
 "nbformat": 4,
 "nbformat_minor": 5
}
