{
 "cells": [
  {
   "cell_type": "markdown",
   "id": "6277e360-0d93-4466-9e95-d53eb9af9f45",
   "metadata": {},
   "source": [
    "# LAB-18-01 產生交易測試資料(Claude AI)\n",
    "由 Claude AI 生成  \n",
    "\n",
    "[提示詞](https://claude.ai/share/56c5df98-8018-4069-9488-19cdb2f6e600)：  \n",
    "```\n",
    "請提供 Python 範例程式產生測試資料，並儲存為 CSV 檔，測試資料欄位有[\"交易時間\",\"交易主機\",\"交易代碼\",\"交易延遲\",\"回傳碼\"]，各欄位說明如下：\n",
    "1. \"交易時間\"：格式為 \"YYYY-MM-DD hh:mm:ss.SSS\" \n",
    "2. \"交易主機\"：值清單為 [\"AP1\",\"AP2\"]\n",
    "3. \"交易代碼\"：值清單為 [\"A001\",\"B002\",\"C003\",\"D004\"]\n",
    "4. \"交易延遲\"：數值格式為 int ，值介於 100 - 9999999\n",
    "5. \"回傳碼\"：值清單為 [\"0000\",\"X999\"]。\n",
    "請產出 500000 測試資料，其中 \n",
    "* \"交易主機\"為亂數分佈\n",
    "* \"交易代碼\"之\"A001\"佔比45%，其他為亂數分佈\n",
    "* \"交易時間\"為 \"2025-03-12 06:00:00.000\" 至 \"2025-03-12 18:00:00.000\" \n",
    "* \"交易延遲\" 的平均值約為 500 ，中間值約為1000     \n",
    "* \"回傳碼\" 為 \"0000\" 佔比約為 99%\n",
    "```\n"
   ]
  },
  {
   "cell_type": "code",
   "execution_count": null,
   "id": "55b11f29-6635-48ad-9886-d71d80c3fa6f",
   "metadata": {},
   "outputs": [],
   "source": [
    "import pandas as pd\n",
    "import numpy as np\n",
    "import random\n",
    "from datetime import datetime, timedelta\n",
    "import csv"
   ]
  },
  {
   "cell_type": "code",
   "execution_count": null,
   "id": "e9e75f15-4f5d-4992-9a18-0da03677c4fd",
   "metadata": {},
   "outputs": [],
   "source": [
    "# 設定隨機種子以確保結果可重現\n",
    "np.random.seed(42)\n",
    "random.seed(42)"
   ]
  },
  {
   "cell_type": "code",
   "execution_count": null,
   "id": "3838f4b6-2840-43cb-8118-65dcf34ab595",
   "metadata": {},
   "outputs": [],
   "source": [
    "# 定義常數\n",
    "TOTAL_RECORDS = 500_000\n",
    "fname = \"test_data1.csv\""
   ]
  },
  {
   "cell_type": "code",
   "execution_count": null,
   "id": "d2e48a27-8f08-4fd1-8939-5744169c520b",
   "metadata": {},
   "outputs": [],
   "source": [
    "# 定義各欄位的值域\n",
    "HOSTS = [\"AP1\", \"AP2\"]\n",
    "TRANSACTION_CODES = [\"A001\", \"B002\", \"C003\", \"D004\"]\n",
    "RESPONSE_CODES = [\"0000\", \"X999\"]\n",
    "\n",
    "# 產生交易時間\n",
    "start_time = datetime.strptime(\"2025-03-12 06:00:00.000\", \"%Y-%m-%d %H:%M:%S.%f\")\n",
    "end_time = datetime.strptime(\"2025-03-12 18:00:00.000\", \"%Y-%m-%d %H:%M:%S.%f\")\n",
    "total_seconds = (end_time - start_time).total_seconds()"
   ]
  },
  {
   "cell_type": "code",
   "execution_count": null,
   "id": "4ce5e4cc-1121-4e00-b56b-361ff56eba3f",
   "metadata": {},
   "outputs": [],
   "source": [
    "# 產生隨機時間列表\n",
    "random_seconds = np.sort(np.random.uniform(0, total_seconds, TOTAL_RECORDS))\n",
    "transaction_times = [\n",
    "    (start_time + timedelta(seconds=sec)).strftime(\"%Y-%m-%d %H:%M:%S.%f\")[:-3]\n",
    "    for sec in random_seconds\n",
    "]"
   ]
  },
  {
   "cell_type": "code",
   "execution_count": null,
   "id": "0610c91b-da23-4e8b-967e-03f635afe4fd",
   "metadata": {},
   "outputs": [],
   "source": [
    "# 產生交易主機 (隨機分佈)\n",
    "hosts = np.random.choice(HOSTS, TOTAL_RECORDS)"
   ]
  },
  {
   "cell_type": "code",
   "execution_count": null,
   "id": "4bc5c191-c8cc-408d-87d6-754375c514dd",
   "metadata": {},
   "outputs": [],
   "source": [
    "# 產生交易代碼 (A001佔45%，其他均分)\n",
    "# 計算其他代碼的機率\n",
    "other_code_prob = (1 - 0.45) / (len(TRANSACTION_CODES) - 1)\n",
    "code_probabilities = [0.45 if code == \"A001\" else other_code_prob for code in TRANSACTION_CODES]\n",
    "transaction_codes = np.random.choice(TRANSACTION_CODES, TOTAL_RECORDS, p=code_probabilities)"
   ]
  },
  {
   "cell_type": "code",
   "execution_count": null,
   "id": "f95d2dd4-7f39-4868-bcb4-15d1caeda438",
   "metadata": {},
   "outputs": [],
   "source": [
    "# 產生交易延遲 (平均值約500，中位數約1000)\n",
    "# 使用指數分佈來滿足這個要求\n",
    "# 調整參數使平均值約為500，中位數約為1000\n",
    "scale = 500  # 調整這個參數來控制分佈\n",
    "delays = np.random.exponential(scale, TOTAL_RECORDS)\n",
    "# 將值限制在100到9999999之間\n",
    "delays = np.clip(delays, 100, 9999999)\n",
    "# 轉為整數\n",
    "delays = delays.astype(int)"
   ]
  },
  {
   "cell_type": "code",
   "execution_count": null,
   "id": "596c4a1a-648e-4f4d-9a19-3f86fe7a273b",
   "metadata": {},
   "outputs": [],
   "source": [
    "# 產生回傳碼 (0000佔99%)\n",
    "response_codes = np.random.choice(RESPONSE_CODES, TOTAL_RECORDS, p=[0.99, 0.01])"
   ]
  },
  {
   "cell_type": "code",
   "execution_count": null,
   "id": "1768dc18-b86e-43cb-8472-2e179124cc4d",
   "metadata": {},
   "outputs": [],
   "source": [
    "# 創建DataFrame\n",
    "df = pd.DataFrame({\n",
    "    \"交易時間\": transaction_times,\n",
    "    \"交易主機\": hosts,\n",
    "    \"交易代碼\": transaction_codes,\n",
    "    \"交易延遲\": delays,\n",
    "    \"回傳碼\": response_codes\n",
    "})\n",
    "\n",
    "# 計算統計資訊以驗證結果\n",
    "print(f\"總記錄數: {len(df)}\")\n",
    "print(f\"交易主機分佈:\\n{df['交易主機'].value_counts(normalize=True) * 100}\")\n",
    "print(f\"交易代碼分佈:\\n{df['交易代碼'].value_counts(normalize=True) * 100}\")\n",
    "print(f\"交易延遲平均值: {df['交易延遲'].mean()}\")\n",
    "print(f\"交易延遲中位數: {df['交易延遲'].median()}\")\n",
    "print(f\"回傳碼分佈:\\n{df['回傳碼'].value_counts(normalize=True) * 100}\")"
   ]
  },
  {
   "cell_type": "code",
   "execution_count": null,
   "id": "db7a7f66-5854-48f7-9072-3491af8a5dc9",
   "metadata": {},
   "outputs": [],
   "source": [
    "\n",
    "# 將資料儲存為CSV檔\n",
    "df.to_csv(fname, index=False, quoting=csv.QUOTE_NONNUMERIC)\n",
    "\n",
    "print(f\"已成功將測試資料儲存至 {fname}\")\n",
    "\n",
    "# 額外：驗證交易時間的分佈\n",
    "min_time = df[\"交易時間\"].min()\n",
    "max_time = df[\"交易時間\"].max()\n",
    "print(f\"交易時間範圍: {min_time} 至 {max_time}\")"
   ]
  },
  {
   "cell_type": "code",
   "execution_count": null,
   "id": "444e0e5a-a950-404d-bf81-d552a306a1bc",
   "metadata": {},
   "outputs": [],
   "source": [
    "#檢視資料內容\n",
    "\n",
    "# Windows \n",
    "#!dir {fname}\n",
    "#!more -n 20 {fname} \n",
    "\n",
    "# Mac OSX\n",
    "!ls -ltr {fname} \n",
    "!head {fname}"
   ]
  },
  {
   "cell_type": "code",
   "execution_count": null,
   "id": "2daf2c06-2c57-478d-9d70-f28e849e3b26",
   "metadata": {},
   "outputs": [],
   "source": [
    "# TODO\n",
    "# 修改提示詞，將 \"交易時間\" 排序後再儲存"
   ]
  },
  {
   "cell_type": "code",
   "execution_count": null,
   "id": "aba06c46-7609-4549-b71d-5337bd8719b4",
   "metadata": {},
   "outputs": [],
   "source": []
  }
 ],
 "metadata": {
  "kernelspec": {
   "display_name": "Python 3 (ipykernel)",
   "language": "python",
   "name": "python3"
  },
  "language_info": {
   "codemirror_mode": {
    "name": "ipython",
    "version": 3
   },
   "file_extension": ".py",
   "mimetype": "text/x-python",
   "name": "python",
   "nbconvert_exporter": "python",
   "pygments_lexer": "ipython3",
   "version": "3.13.2"
  }
 },
 "nbformat": 4,
 "nbformat_minor": 5
}
