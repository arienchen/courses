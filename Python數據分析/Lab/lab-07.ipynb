{
 "cells": [
  {
   "attachments": {},
   "cell_type": "markdown",
   "id": "c5d15872-0073-4f6d-8471-ec9d227fade5",
   "metadata": {},
   "source": [
    "# LAB-07 序列型別 range, tuple, list\n",
    "\n",
    "|型別|可變性|宣告方式|用途|\n",
    "|---|---|---|---|\n",
    "|range|否|range(start, stop, step)|產生數列（迴圈）|\n",
    "|tuple|否|(元素,...) 或 tuple(元素,...)|固定數據存儲（可作為字典鍵）|\n",
    "|list|是|[元素,...] 或 list(元素,...)|動態數據存儲與操作|\n",
    "\n",
    "* 一般是以 `list` 作為 `array` 操作，當有大量數值運算時，才會使用如 `numpy.array()`\n",
    "\n",
    "  "
   ]
  },
  {
   "cell_type": "markdown",
   "id": "2cd21673-a169-4fde-955b-82b57fb67ce0",
   "metadata": {},
   "source": [
    "## 1.範圍序列 `range`\n",
    "**宣告方式**\n",
    "`range(start, stop, step)`\n",
    "* `start`：起始值（可選，預設為 0）\n",
    "* `stop`：終止值（必要，不包含此值）\n",
    "* `step`：間隔（可選，預設為 1）\n",
    "\n",
    "**特性**\n",
    "* `range` 物件不可變（Immutable），無法修改其中的元素\n",
    "* 適合用於迴圈（for loop），避免額外的記憶體開銷\n",
    "* 需要時可轉換為 `list` 或 `tuple`"
   ]
  },
  {
   "cell_type": "code",
   "execution_count": 1,
   "id": "6d78d8cb-dddc-4172-9b37-6dcddf2da2e4",
   "metadata": {},
   "outputs": [
    {
     "name": "stdout",
     "output_type": "stream",
     "text": [
      "[0, 1, 2, 3, 4]\n",
      "[1, 3, 5, 7, 9]\n",
      "[10, 8, 6, 4, 2]\n"
     ]
    }
   ],
   "source": [
    "# 產生 0 到 4 的整數序列 (預設步長為 1)\n",
    "r1 = range(5)                           # [0, 1, 2, 3, 4]\n",
    "\n",
    "# 產生 1 到 9 的整數序列，間隔 2\n",
    "r2 = range(1, 10, 2)                    # [1, 3, 5, 7, 9]\n",
    "\n",
    "# 負數步長，從 10 到 1 反向遞減\n",
    "r3 = range(10, 0, -2)                   # [10, 8, 6, 4, 2]\n",
    "\n",
    "# range 物件轉為 list 顯示\n",
    "print(list(r1))                         # [0, 1, 2, 3, 4]\n",
    "print(list(r2))                         # [1, 3, 5, 7, 9]\n",
    "print(list(r3))                         # [10, 8, 6, 4, 2]\n"
   ]
  },
  {
   "cell_type": "markdown",
   "id": "cc095a90-44bf-420e-b15b-0a1834eabfa2",
   "metadata": {},
   "source": [
    "## 2.元組 `tuple`\n",
    "**宣告方式**\n",
    "* 小括號 `()` 或 `tuple()` 建立元組\n",
    "* 每個元素之型別不需一致\n",
    "\n",
    "**特性**\n",
    "* 不可變（Immutable），宣告後無法更改其內容（適合用來存放不變的資料）。\n",
    "* 可用於解包（unpacking），便於多變數賦值。\n",
    "* 可以作為字典（`dict`）的鍵，因為它是不可變類型。"
   ]
  },
  {
   "cell_type": "code",
   "execution_count": 2,
   "id": "74239918-c1ee-498b-9ea3-acd90a9b2925",
   "metadata": {},
   "outputs": [
    {
     "name": "stdout",
     "output_type": "stream",
     "text": [
      "1\n",
      "c\n",
      "1 2 3\n",
      "1\n",
      "3\n"
     ]
    }
   ],
   "source": [
    "# 宣告 tuple\n",
    "t1 = (1, 2, 3)  \n",
    "t2 = \"a\", \"b\", \"c\"                         # 不加括號也可以建立 tuple\n",
    "t3 = tuple([4, 5, 6])                      # 由 list 轉為 tuple\n",
    "t4 = (7,)                                  # 單元素元組 (注意逗號)\n",
    "\n",
    "# 取值與索引\n",
    "print(t1[0])                               # 1\n",
    "print(t2[-1])                              # 'c'\n",
    "\n",
    "# 解包 (Unpacking)\n",
    "a, b, c = t1  \n",
    "print(a, b, c)                             # 1 2 3\n",
    "\n",
    "# 連接與重複\n",
    "t5 = t1 + t2                               # (1, 2, 3, 'a', 'b', 'c')\n",
    "t6 = t1 * 2                                # (1, 2, 3, 1, 2, 3)\n",
    "\n",
    "# 計數與查找\n",
    "print(t5.count(1))                         # 1\n",
    "print(t5.index('a'))                       # 3\n"
   ]
  },
  {
   "cell_type": "code",
   "execution_count": 3,
   "id": "abbaa304-566a-47cf-9ffd-f26d9cbcbc09",
   "metadata": {},
   "outputs": [
    {
     "name": "stdout",
     "output_type": "stream",
     "text": [
      "200 OK\n",
      "(200, 'OK')\n"
     ]
    }
   ],
   "source": [
    "def get_status():\n",
    "    return 200, \"OK\"\n",
    "\n",
    "status_code, message = get_status()\n",
    "print(status_code, message)                # 200 OK\n",
    "print(get_status())                        # (200, 'OK') "
   ]
  },
  {
   "cell_type": "code",
   "execution_count": 4,
   "id": "19d61149-ea50-4014-8fff-3cbb95fe5fbf",
   "metadata": {},
   "outputs": [
    {
     "name": "stdout",
     "output_type": "stream",
     "text": [
      "Taipei\n"
     ]
    }
   ],
   "source": [
    "location_dict = {\n",
    "    (25.0330, 121.5654): \"Taipei\",\n",
    "    (35.6895, 139.6917): \"Tokyo\"\n",
    "}\n",
    "\n",
    "print(location_dict[(25.0330, 121.5654)])  # Taipei\n"
   ]
  },
  {
   "cell_type": "markdown",
   "id": "5ba23459-fa44-454e-ae77-2a59d281eb99",
   "metadata": {},
   "source": [
    "## 3.列表 `list`\n",
    "**宣告方式**\n",
    "* 使用 方括號 `[]` 或 `list()`\n",
    "\n",
    "**特性**\n",
    "* 可變（Mutable），可隨時修改內容。\n",
    "* 適合存放動態資料，如用於 迴圈與計算。\n",
    "* 支援排序與搜尋，比 `tuple` 具更靈活的操作能力。"
   ]
  },
  {
   "cell_type": "code",
   "execution_count": 5,
   "id": "8dec37e4-a357-4ae6-94d7-308e2a396e03",
   "metadata": {},
   "outputs": [
    {
     "name": "stdout",
     "output_type": "stream",
     "text": [
      "2\n",
      "                  [1, 10, 3]\n",
      "append(4)      -> [1, 10, 3, 4]\n",
      "insert(1, 5)   -> [1, 5, 10, 3, 4]\n",
      "extend([6, 7]) -> [1, 5, 10, 3, 4, 6, 7]\n",
      "remove(3)      -> [1, 5, 10, 4, 6, 7]\n",
      "pop()          -> 7, [1, 5, 10, 4, 6]\n",
      "sort           -> ['apple', 'banana', 'cherry']\n",
      "reverse        -> ['cherry', 'banana', 'apple']\n",
      "[0, 1, 4, 9, 16]\n",
      "[0, 2, 4, 6, 8]\n"
     ]
    }
   ],
   "source": [
    "# 宣告列表\n",
    "l1 = [1, 2, 3]  \n",
    "l2 = [\"apple\", \"banana\", \"cherry\"]\n",
    "l3 = list(range(5))                                     # [0, 1, 2, 3, 4] \n",
    "\n",
    "# 取值與修改\n",
    "print(l1[1])                                            # 2\n",
    "l1[1] = 10                                              # 修改元素\n",
    "print(f\"                  {l1}\")                        # [1, 10, 3]\n",
    "\n",
    "# 增加與刪除元素\n",
    "l1.append(4)                                            # [1, 10, 3, 4]\n",
    "print(f\"append(4)      -> {l1}\")\n",
    "l1.insert(1, 5)                                         # 在索引 1 插入 5 -> [1, 5, 10, 3, 4]\n",
    "print(f\"insert(1, 5)   -> {l1}\")\n",
    "\n",
    "l1.extend([6, 7])                                       # [1, 5, 10, 3, 4, 6, 7]\n",
    "print(f\"extend([6, 7]) -> {l1}\")\n",
    "\n",
    "l1.remove(3)                                            # 移除值 3 -> [1, 5, 10, 4, 6, 7]\n",
    "print(f\"remove(3)      -> {l1}\")\n",
    "\n",
    "popped = l1.pop()                                       # 移除最後一個元素 -> [1, 5, 10, 4, 6]\n",
    "print(f\"pop()          -> {popped}, {l1}\")\n",
    "\n",
    "\n",
    "# 排序與反轉\n",
    "l2.sort()                                               # 升冪排序 ['apple', 'banana', 'cherry']\n",
    "print(f\"sort           -> {l2}\")\n",
    "l2.reverse()                                            # 反轉 ['cherry', 'banana', 'apple']\n",
    "print(f\"reverse        -> {l2}\")\n",
    "\n",
    "# 列表解析式 (List Comprehension)\n",
    "squares = [x**2 for x in range(5)]                      # [0, 1, 4, 9, 16]\n",
    "print(squares)\n",
    "\n",
    "# 篩選偶數\n",
    "even_numbers = [x for x in range(10) if x % 2 == 0]\n",
    "print(even_numbers)                                     # [0, 2, 4, 6, 8]"
   ]
  },
  {
   "cell_type": "code",
   "execution_count": 6,
   "id": "5f3a593f-3a7f-46e3-8265-7f82da1b3997",
   "metadata": {},
   "outputs": [
    {
     "name": "stdout",
     "output_type": "stream",
     "text": [
      "apple\n",
      "banana\n",
      "cherry\n"
     ]
    }
   ],
   "source": [
    "# \n",
    "fruits = [\"apple\", \"banana\", \"cherry\"]\n",
    "\n",
    "# 使用 for 迴圈遍歷\n",
    "for fruit in fruits:\n",
    "    print(fruit)\n"
   ]
  },
  {
   "cell_type": "code",
   "execution_count": 7,
   "id": "82fae681-402f-4255-b1a6-7da8c2c3f7d5",
   "metadata": {
    "scrolled": true
   },
   "outputs": [
    {
     "name": "stdout",
     "output_type": "stream",
     "text": [
      "[20, 30, 40]\n",
      "[10, 20, 30]\n",
      "[40, 50, 60]\n",
      "[60, 50, 40, 30, 20, 10]\n"
     ]
    }
   ],
   "source": [
    "# list 切片(slicing)\n",
    "numbers = [10, 20, 30, 40, 50, 60]\n",
    "\n",
    "print(numbers[1:4])                   # [20, 30, 40] (索引 1 到 3)\n",
    "print(numbers[:3])                    # [10, 20, 30] (從開頭到索引 2)\n",
    "print(numbers[3:])                    # [40, 50, 60] (索引 3 到結尾)\n",
    "print(numbers[::-1])                  # [60, 50, 40, 30, 20, 10] (倒序)\n"
   ]
  },
  {
   "cell_type": "code",
   "execution_count": 8,
   "id": "1e056373-d791-4a62-8c61-eba04a483027",
   "metadata": {},
   "outputs": [
    {
     "name": "stdout",
     "output_type": "stream",
     "text": [
      "7\n",
      "9\n",
      "1\n",
      "25\n"
     ]
    }
   ],
   "source": [
    "# list 內建函式\n",
    "numbers = [3, 1, 4, 1, 5, 9, 2]\n",
    "\n",
    "print(len(numbers))   # 7 (長度)\n",
    "print(max(numbers))   # 9 (最大值)\n",
    "print(min(numbers))   # 1 (最小值)\n",
    "print(sum(numbers))   # 25 (總和)\n"
   ]
  },
  {
   "cell_type": "code",
   "execution_count": 9,
   "id": "24102899-1596-491b-89f3-dffa619676f2",
   "metadata": {},
   "outputs": [
    {
     "name": "stdout",
     "output_type": "stream",
     "text": [
      "[1, 2, 5, 7, 9]\n",
      "[5, 2, 9, 1, 7]\n"
     ]
    }
   ],
   "source": [
    "# 使用 sorted\n",
    "numbers = [5, 2, 9, 1, 7]\n",
    "sorted_numbers = sorted(numbers)                  # 建立排序後的新列表，不改變原始列表\n",
    "print(sorted_numbers)                             # [1, 2, 5, 7, 9]\n",
    "print(numbers)                                    # [5, 2, 9, 1, 7] (原始列表未變)\n"
   ]
  },
  {
   "cell_type": "markdown",
   "id": "03e49631-cc10-4cd9-a611-b99f8eb347ed",
   "metadata": {},
   "source": [
    "## Slicing\n",
    "\n",
    "|語法|說明|\n",
    "|:--|:--|\n",
    "|**seq[start:stop]**|取得索引 **start** 到 **stop-1** 的元素|\n",
    "|**seq[start:stop:step]**|按照 **step** 間隔取元素|\n",
    "|**seq[:stop]**|取得從開頭到 **stop-1** 的元素 (**start**省略)|\n",
    "|**seq[start:]**|取得從 **start** 到結尾的元素(**stop**省略)|\n",
    "|**seq[::-1]**|反轉序列(**start**,**stop**省略)|\n",
    "|**seq[start:stop:-1]**|反轉擷取元素|\n",
    "\n",
    "\n",
    "Slicing語法的最大方便：超過索引不會報錯"
   ]
  },
  {
   "cell_type": "markdown",
   "id": "2825d5be-890b-4bca-bcf4-bc7bfe255631",
   "metadata": {},
   "source": [
    "### 字串"
   ]
  },
  {
   "cell_type": "code",
   "execution_count": 10,
   "id": "ccbbf1d7-2bfb-4d17-b710-9d7c8f30fa6c",
   "metadata": {},
   "outputs": [],
   "source": [
    "x = \"Hello Python!\""
   ]
  },
  {
   "cell_type": "code",
   "execution_count": 11,
   "id": "2578c452-9ead-4ea5-917a-851d900c1996",
   "metadata": {},
   "outputs": [
    {
     "name": "stdout",
     "output_type": "stream",
     "text": [
      "x='Hello Python!' -> x[2:4]='ll'\n"
     ]
    }
   ],
   "source": [
    "## 子字串\n",
    "print(f\"{x=} -> {x[2:4]=}\")"
   ]
  },
  {
   "cell_type": "code",
   "execution_count": 12,
   "id": "84b3df71-2a18-4d2e-bc4e-4c81c74b77bf",
   "metadata": {},
   "outputs": [
    {
     "name": "stdout",
     "output_type": "stream",
     "text": [
      "x='Hello Python!' -> x[:4]='Hell'\n"
     ]
    }
   ],
   "source": [
    "## 靠左字串\n",
    "print(f\"{x=} -> {x[:4]=}\")"
   ]
  },
  {
   "cell_type": "code",
   "execution_count": 13,
   "id": "b87ab520-aced-453a-996a-8da5b64decf0",
   "metadata": {},
   "outputs": [
    {
     "name": "stdout",
     "output_type": "stream",
     "text": [
      "x='Hello Python!' -> x[-7:]='Python!'\n"
     ]
    }
   ],
   "source": [
    "## 靠右字串\n",
    "print(f\"{x=} -> {x[-7:]=}\")"
   ]
  },
  {
   "cell_type": "code",
   "execution_count": 14,
   "id": "269b0f51-ba69-447c-8604-1a48d703f01a",
   "metadata": {},
   "outputs": [
    {
     "name": "stdout",
     "output_type": "stream",
     "text": [
      "x='Hello Python!' -> x[::-1]='!nohtyP olleH'\n"
     ]
    }
   ],
   "source": [
    "## 字串反轉\n",
    "print(f\"{x=} -> {x[::-1]=}\")"
   ]
  },
  {
   "cell_type": "code",
   "execution_count": 15,
   "id": "48d6c3f9-3b05-4315-9f91-dcccb0331f18",
   "metadata": {},
   "outputs": [
    {
     "name": "stdout",
     "output_type": "stream",
     "text": [
      "x='Hello Python!' -> x[::2]='HloPto!'\n",
      "x='Hello Python!' -> x[1::2]='el yhn'\n"
     ]
    }
   ],
   "source": [
    "## 偶數字元\n",
    "print(f\"{x=} -> {x[::2]=}\")\n",
    "\n",
    "## 奇數字元\n",
    "print(f\"{x=} -> {x[1::2]=}\")\n"
   ]
  },
  {
   "cell_type": "markdown",
   "id": "f99da709-304f-41c6-bb0f-73b34578d13f",
   "metadata": {},
   "source": [
    "### tuple, list"
   ]
  },
  {
   "cell_type": "code",
   "execution_count": 16,
   "id": "041e05d8-17ed-4364-a2f3-0b5abf2ad263",
   "metadata": {},
   "outputs": [
    {
     "name": "stdout",
     "output_type": "stream",
     "text": [
      "x=('A', 'B', 'C', 1, 2, 3, 4)  type(x)=<class 'tuple'>\n"
     ]
    }
   ],
   "source": [
    "# tuple \n",
    "x = ('A','B','C') + tuple(range(1,5))\n",
    "print(f\"{x=}  {type(x)=}\")                        "
   ]
  },
  {
   "cell_type": "code",
   "execution_count": 17,
   "id": "44101f44-e817-4b95-aa4a-92ba455cba6f",
   "metadata": {},
   "outputs": [
    {
     "name": "stdout",
     "output_type": "stream",
     "text": [
      "x=('A', 'B', 'C', 1, 2, 3, 4) -> x[2:4]=('C', 1)\n"
     ]
    }
   ],
   "source": [
    "## tuple 子元素\n",
    "print(f\"{x=} -> {x[2:4]=}\")"
   ]
  },
  {
   "cell_type": "code",
   "execution_count": 18,
   "id": "cbc7072d-2e06-4760-ac0e-6e3bea4302e9",
   "metadata": {},
   "outputs": [],
   "source": [
    "## 取代值\n",
    "# 因 tuple 為 read-only ，故不提供 取代\n",
    "\n",
    "# TODO 取消註解，並執行\n",
    "# x[2:3] = ('D','E')\n",
    "# print(f\"{x=}\")\n"
   ]
  },
  {
   "cell_type": "code",
   "execution_count": 19,
   "id": "0a746fc3-2713-4041-a8c8-ae28ebaef95d",
   "metadata": {},
   "outputs": [
    {
     "name": "stdout",
     "output_type": "stream",
     "text": [
      "x=['A', 'B', 'C', 1, 2, 3, 4]  type(x)=<class 'list'>\n"
     ]
    }
   ],
   "source": [
    "# list \n",
    "x = ['A','B','C'] + list(range(1,5))\n",
    "print(f\"{x=}  {type(x)=}\")  "
   ]
  },
  {
   "cell_type": "code",
   "execution_count": 20,
   "id": "b1f12863-709a-4e48-90e1-ffe45dc13c3e",
   "metadata": {},
   "outputs": [
    {
     "name": "stdout",
     "output_type": "stream",
     "text": [
      "x=['A', 'B', 'C', 1, 2, 3, 4] -> x[2:4]=['C', 1]\n"
     ]
    }
   ],
   "source": [
    "## list 子元素\n",
    "print(f\"{x=} -> {x[2:4]=}\")"
   ]
  },
  {
   "cell_type": "code",
   "execution_count": 21,
   "id": "557151f5-79d8-4ff6-8550-45970251d5c7",
   "metadata": {},
   "outputs": [
    {
     "name": "stdout",
     "output_type": "stream",
     "text": [
      "x=['A', 'B', 'C', 1, 2, 3, 4] -> x[::-1]=[4, 3, 2, 1, 'C', 'B', 'A']\n"
     ]
    }
   ],
   "source": [
    "## list 反轉\n",
    "print(f\"{x=} -> {x[::-1]=}\")"
   ]
  },
  {
   "cell_type": "code",
   "execution_count": 22,
   "id": "f2289c61-b11c-4415-a86c-be8f9746dcbd",
   "metadata": {},
   "outputs": [
    {
     "name": "stdout",
     "output_type": "stream",
     "text": [
      "4\n",
      "3\n",
      "2\n",
      "1\n",
      "C\n",
      "B\n",
      "A\n"
     ]
    }
   ],
   "source": [
    "for i in x[::-1]:\n",
    "    print(i)"
   ]
  },
  {
   "cell_type": "code",
   "execution_count": 23,
   "id": "558e2e53-5b37-4d93-8799-d4461863cc86",
   "metadata": {},
   "outputs": [
    {
     "name": "stdout",
     "output_type": "stream",
     "text": [
      "x=['A', 'B', 'D', 'E', 1, 2, 3, 4]\n"
     ]
    }
   ],
   "source": [
    "## list 取代值\n",
    "x[2:3] = ['D','E']\n",
    "print(f\"{x=}\")"
   ]
  },
  {
   "cell_type": "code",
   "execution_count": 24,
   "id": "7e7de70b-6a99-4cf5-b08e-b86591d0c225",
   "metadata": {},
   "outputs": [
    {
     "name": "stdout",
     "output_type": "stream",
     "text": [
      "x=['X', 'B', 'D', 'E', 1, 2, 3, 4] -> y=['X', 'B', 'D', 'E', 1, 2, 3, 4]\n"
     ]
    }
   ],
   "source": [
    "## 複製\n",
    "y = x\n",
    "y[0] = 'X'\n",
    "\n",
    "print(f\"{x=} -> {y=}\")\n",
    "\n",
    "# x,y 的值同改變"
   ]
  },
  {
   "cell_type": "code",
   "execution_count": 25,
   "id": "829a4583-30bd-4bc4-9519-3f92421b3292",
   "metadata": {},
   "outputs": [
    {
     "name": "stdout",
     "output_type": "stream",
     "text": [
      "x=['A', 'B', 'C', 1, 2, 3, 4] -> y=['X', 'B', 'C', 1, 2, 3, 4]\n"
     ]
    }
   ],
   "source": [
    "x = ['A','B','C'] + list(range(1,5))\n",
    "y = x[:]\n",
    "y[0] = 'X'\n",
    "\n",
    "print(f\"{x=} -> {y=}\")\n",
    "\n",
    "# x 不變， y 改變"
   ]
  },
  {
   "cell_type": "code",
   "execution_count": 26,
   "id": "89d7da8b-16d7-4a27-a191-e514c4148d2b",
   "metadata": {},
   "outputs": [
    {
     "name": "stdout",
     "output_type": "stream",
     "text": [
      "x=['A', 'B', 1, 2, 3, 4]\n"
     ]
    }
   ],
   "source": [
    "## 清空(刪除)\n",
    "x[2:3] = []\n",
    "print(f\"{x=}\")"
   ]
  },
  {
   "cell_type": "code",
   "execution_count": 27,
   "id": "054f689f-a212-4386-853d-f34e4af47307",
   "metadata": {},
   "outputs": [
    {
     "name": "stdout",
     "output_type": "stream",
     "text": [
      "x=['A', 'a', 'b', 'c', 'B', 1, 2, 3, 4]\n"
     ]
    }
   ],
   "source": [
    "## 插入\n",
    "x[1:1] = ['a','b','c']\n",
    "print(f\"{x=}\")"
   ]
  },
  {
   "cell_type": "code",
   "execution_count": null,
   "id": "d7130533-e760-428d-bd9d-b6c1b5e90d62",
   "metadata": {},
   "outputs": [],
   "source": []
  }
 ],
 "metadata": {
  "kernelspec": {
   "display_name": "Python 3 (ipykernel)",
   "language": "python",
   "name": "python3"
  },
  "language_info": {
   "codemirror_mode": {
    "name": "ipython",
    "version": 3
   },
   "file_extension": ".py",
   "mimetype": "text/x-python",
   "name": "python",
   "nbconvert_exporter": "python",
   "pygments_lexer": "ipython3",
   "version": "3.13.2"
  }
 },
 "nbformat": 4,
 "nbformat_minor": 5
}
